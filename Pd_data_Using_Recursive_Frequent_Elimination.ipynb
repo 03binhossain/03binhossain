{
  "nbformat": 4,
  "nbformat_minor": 0,
  "metadata": {
    "colab": {
      "provenance": [],
      "include_colab_link": true
    },
    "kernelspec": {
      "name": "python3",
      "display_name": "Python 3"
    },
    "language_info": {
      "name": "python"
    }
  },
  "cells": [
    {
      "cell_type": "markdown",
      "metadata": {
        "id": "view-in-github",
        "colab_type": "text"
      },
      "source": [
        "<a href=\"https://colab.research.google.com/github/NazmulHassan033/Nazmul-Hassan/blob/main/Pd_data_Using_Recursive_Frequent_Elimination.ipynb\" target=\"_parent\"><img src=\"https://colab.research.google.com/assets/colab-badge.svg\" alt=\"Open In Colab\"/></a>"
      ]
    },
    {
      "cell_type": "code",
      "execution_count": null,
      "metadata": {
        "id": "cFOS_RqC805d",
        "colab": {
          "base_uri": "https://localhost:8080/"
        },
        "outputId": "a1b5fb2d-76fc-40a5-ab0e-543db9b68307"
      },
      "outputs": [
        {
          "output_type": "stream",
          "name": "stdout",
          "text": [
            "<class 'pandas.core.frame.DataFrame'>\n",
            "RangeIndex: 195 entries, 0 to 194\n",
            "Data columns (total 24 columns):\n",
            " #   Column            Non-Null Count  Dtype  \n",
            "---  ------            --------------  -----  \n",
            " 0   name              195 non-null    object \n",
            " 1   MDVP:Fo(Hz)       195 non-null    float64\n",
            " 2   MDVP:Fhi(Hz)      195 non-null    float64\n",
            " 3   MDVP:Flo(Hz)      195 non-null    float64\n",
            " 4   MDVP:Jitter(%)    195 non-null    float64\n",
            " 5   MDVP:Jitter(Abs)  195 non-null    float64\n",
            " 6   MDVP:RAP          195 non-null    float64\n",
            " 7   MDVP:PPQ          195 non-null    float64\n",
            " 8   Jitter:DDP        195 non-null    float64\n",
            " 9   MDVP:Shimmer      195 non-null    float64\n",
            " 10  MDVP:Shimmer(dB)  195 non-null    float64\n",
            " 11  Shimmer:APQ3      195 non-null    float64\n",
            " 12  Shimmer:APQ5      195 non-null    float64\n",
            " 13  MDVP:APQ          195 non-null    float64\n",
            " 14  Shimmer:DDA       195 non-null    float64\n",
            " 15  NHR               195 non-null    float64\n",
            " 16  HNR               195 non-null    float64\n",
            " 17  status            195 non-null    int64  \n",
            " 18  RPDE              195 non-null    float64\n",
            " 19  DFA               195 non-null    float64\n",
            " 20  spread1           195 non-null    float64\n",
            " 21  spread2           195 non-null    float64\n",
            " 22  D2                195 non-null    float64\n",
            " 23  PPE               195 non-null    float64\n",
            "dtypes: float64(22), int64(1), object(1)\n",
            "memory usage: 36.7+ KB\n"
          ]
        }
      ],
      "source": [
        "import pandas as pd\n",
        "from sklearn.feature_selection import RFE\n",
        "from sklearn.linear_model import LogisticRegression\n",
        "\n",
        "# Load the dataset\n",
        "url = 'https://archive.ics.uci.edu/ml/machine-learning-databases/parkinsons/parkinsons.data'\n",
        "data_set = pd.read_csv(url)\n",
        "data_set.info()\n"
      ]
    },
    {
      "cell_type": "code",
      "source": [
        "estimator = LogisticRegression()\n",
        "rfe = RFE(estimator, n_features_to_select=5)\n"
      ],
      "metadata": {
        "id": "xT7Xpcc8_Jye"
      },
      "execution_count": null,
      "outputs": []
    },
    {
      "cell_type": "code",
      "source": [
        "X = data_set.drop(['name', 'status'], axis=1)\n",
        "y = data_set['status']\n",
        "#rfe.fit(X, y)\n"
      ],
      "metadata": {
        "id": "fj4wL9gO_Qdr"
      },
      "execution_count": null,
      "outputs": []
    },
    {
      "cell_type": "code",
      "source": [
        "import logging\n",
        "import xgboost\n",
        "import traceback\n",
        "import pandas as pd\n",
        "import numpy as np\n",
        "import matplotlib.pyplot as plt\n",
        "import seaborn as sns\n",
        "from sklearn.preprocessing import LabelEncoder, StandardScaler\n",
        "from sklearn.feature_selection import RFE, SelectKBest, f_regression, f_classif\n",
        "from pandas.api.types import is_string_dtype\n",
        "from sklearn.tree import DecisionTreeClassifier, DecisionTreeRegressor\n",
        "from sklearn.ensemble import RandomForestClassifier, AdaBoostClassifier\n",
        "from sklearn.linear_model import LogisticRegression\n",
        "from sklearn.neighbors import KNeighborsClassifier\n",
        "from sklearn.svm import SVC\n",
        "from sklearn.metrics import accuracy_score\n",
        "from sklearn.model_selection import train_test_split\n",
        "\n",
        "LOGGER = logging.getLogger(__name__)\n",
        "\n",
        "class Model:\n",
        "    def feature_selection(self, df, target, feature_type):\n",
        "        LOGGER.info('Feature Automation Method - Starts')\n",
        "        try:\n",
        "            df = df.fillna(0)\n",
        "            le = LabelEncoder()\n",
        "            y = df[target]\n",
        "            label_encoder = {}\n",
        "            df.drop(target, axis=1, inplace=True)\n",
        "            str_type = is_string_dtype(y)\n",
        "            y = le.fit_transform(y)\n",
        "\n",
        "            for i in df.columns:\n",
        "                    # To deselect column having unique values\n",
        "                    unique_col_length = len(pd.unique(df[i]))\n",
        "                    total_length = len(df[i])\n",
        "                    percentage = int((unique_col_length/total_length)*100)\n",
        "                    if df[i].is_unique or len(pd.unique(df[i])) == 1 or percentage > 80:\n",
        "                        df.drop(i, axis=1, inplace=True)\n",
        "\n",
        "                # Applying Label Encoding to categorical columns\n",
        "            for col in df.columns.values:\n",
        "                  if df[col].dtype not in ['float64', 'int32']:\n",
        "                      label_encoder[col] = LabelEncoder()\n",
        "                      df[col] = df[col].astype(str)\n",
        "                      label_encoder[col] = label_encoder[col].fit(df[col])\n",
        "                      df[col] = label_encoder[col].transform(df[col].astype(str))\n",
        "\n",
        "                # Feature selection with Select K Best\n",
        "            if feature_type == \"SelectKBest\":\n",
        "                if str_type:\n",
        "                      # For classification type\n",
        "                      lr = f_classif\n",
        "                else:\n",
        "                        # For Regression type\n",
        "                      lr = f_regression\n",
        "\n",
        "                kbest = SelectKBest(score_func=lr, k=1).fit(df, y)\n",
        "                rank_dic = {}\n",
        "                for i, k in enumerate(df.columns.values):\n",
        "                    rank_dic[k] = kbest.scores_[i]\n",
        "\n",
        "                # Feature selection with RFE\n",
        "            else:\n",
        "                if str_type:\n",
        "                    # For classification type\n",
        "                    lr = DecisionTreeClassifier()\n",
        "                else:\n",
        "                      # For Regression type\n",
        "                    lr = DecisionTreeRegressor()\n",
        "                rfe = RFE(lr, n_features_to_select=1)\n",
        "                rfe.fit(df, y)\n",
        "                rank_dict = {}\n",
        "\n",
        "                for i, k in enumerate(df.columns.values):\n",
        "                    rank_dict[k] = rfe.ranking_[i]\n",
        "\n",
        "                sorted_dict = sorted(rank_dict.items(), key=lambda x: x[1])\n",
        "                rank_dict = dict(sorted(rank_dict.items(), key=lambda x: x[1]))\n",
        "\n",
        "\n",
        "                significant_list = []\n",
        "                if feature_type == 'RFE':\n",
        "                    length = int(len(rank_dict) * 0.6)\n",
        "                    for i in range(0, length):\n",
        "                        significant_list.append(sorted_dict[i])\n",
        "\n",
        "\n",
        "                elif feature_type == 'SelectKBest':\n",
        "                    length = int(len(rank_dict) * 0.6)\n",
        "                    for i in range(0, length):\n",
        "                        significant_list.append(dict_list[i])\n",
        "            # ... Rest of your feature selection logic ...\n",
        "\n",
        "            LOGGER.info('Feature Automation Method - Ends')\n",
        "            return significant_list\n",
        "\n",
        "        except Exception:\n",
        "            LOGGER.error(traceback.format_exc())\n",
        "            return []\n",
        "\n",
        "    def model_training(self):\n",
        "        LOGGER.info('Model Training  Method - Starts')\n",
        "        try:\n",
        "            dataframe = pd.read_csv('parkinsons.csv')\n",
        "\n",
        "            # ... Rest of your data preprocessing ...\n",
        "\n",
        "            X_train, X_test, y_train, y_test = train_test_split(X, y, test_size=0.2, random_state=0)\n",
        "\n",
        "            sc = StandardScaler()\n",
        "            X_train = sc.fit_transform(X_train)\n",
        "            X_test = sc.transform(X_test)\n",
        "\n",
        "            # Model Training starts\n",
        "            model_dict = {\n",
        "                'LogisticRegression': LogisticRegression(),\n",
        "                'KNeighborsClassifier': KNeighborsClassifier(),\n",
        "                'SVC': SVC(),\n",
        "                'RandomForestClassifier': RandomForestClassifier(),\n",
        "                'XGBClassifier': xgboost.XGBClassifier(),\n",
        "                'AdaBoostClassifier': AdaBoostClassifier()\n",
        "            }\n",
        "\n",
        "            results = {}\n",
        "            for model_name, classifier in model_dict.items():\n",
        "                model = classifier\n",
        "                model.fit(X_train, y_train)\n",
        "                prediction = model.predict(X_test)\n",
        "                score = accuracy_score(y_test, prediction)\n",
        "                results[model_name] = score\n",
        "                print(f'{model_name}: {score*100:.2f}%')\n",
        "\n",
        "            # Visualizing the accuracies in a bar chart\n",
        "            plt.figure(figsize=(15, 8))\n",
        "            sns.barplot(x=list(results.keys()), y=list(results.values()))\n",
        "            plt.xlabel('Algorithm')\n",
        "            plt.ylabel('Accuracy')\n",
        "            plt.title('Model Comparison')\n",
        "            plt.xticks(rotation=45)\n",
        "            plt.tight_layout()\n",
        "            plt.show()\n",
        "\n",
        "            best_algorithm = max(results, key=results.get)\n",
        "            max_accuracy = results[best_algorithm]\n",
        "\n",
        "            LOGGER.info('Model Training Method - Ends')\n",
        "            return best_algorithm, max_accuracy\n",
        "\n",
        "        except Exception:\n",
        "            LOGGER.error(traceback.format_exc())\n",
        "            return 'Failure', 0.0\n",
        "\n",
        "obj = Model()\n",
        "best_algorithm, max_accuracy = obj.model_training()\n",
        "target = 'status'\n",
        "#For RFE feature selection\n",
        "significant_attributes_rfe = obj.feature_selection(data_set, target, 'RFE')\n",
        "print(\"Selected features by RFE:\", significant_attributes_rfe)\n",
        "\n",
        "# For SelectKBest feature selection\n",
        "significant_attributes_kbest = obj.feature_selection(data_set, target, 'SelectKBest')\n",
        "print(\"Selected features by SelectKBest:\", significant_attributes_kbest)\n",
        "\n",
        "print(f\"The {best_algorithm} algorithm has the maximum accuracy of {max_accuracy*100:.2f}%\")\n"
      ],
      "metadata": {
        "colab": {
          "base_uri": "https://localhost:8080/",
          "height": 905
        },
        "id": "EY4ifDfXlShc",
        "outputId": "65801415-144f-42e0-ce27-fbd6e6d92296"
      },
      "execution_count": null,
      "outputs": [
        {
          "output_type": "stream",
          "name": "stdout",
          "text": [
            "LogisticRegression: 79.49%\n",
            "KNeighborsClassifier: 92.31%\n",
            "SVC: 92.31%\n",
            "RandomForestClassifier: 92.31%\n",
            "XGBClassifier: 94.87%\n",
            "AdaBoostClassifier: 89.74%\n"
          ]
        },
        {
          "output_type": "display_data",
          "data": {
            "text/plain": [
              "<Figure size 1500x800 with 1 Axes>"
            ],
            "image/png": "[encoded data removed]"
          },
          "metadata": {}
        },
        {
          "output_type": "stream",
          "name": "stderr",
          "text": [
            "ERROR:__main__:Traceback (most recent call last):\n",
            "  File \"<ipython-input-33-e6af6bd200e2>\", line 96, in feature_selection\n",
            "    return significant_list\n",
            "UnboundLocalError: local variable 'significant_list' referenced before assignment\n",
            "\n"
          ]
        },
        {
          "output_type": "stream",
          "name": "stdout",
          "text": [
            "Selected features by RFE: [('MDVP:Shimmer(dB)', 1)]\n",
            "Selected features by SelectKBest: []\n",
            "The XGBClassifier algorithm has the maximum accuracy of 94.87%\n"
          ]
        }
      ]
    },
    {
      "cell_type": "code",
      "source": [
        "print(rfe.ranking_)\n"
      ],
      "metadata": {
        "colab": {
          "base_uri": "https://localhost:8080/",
          "height": 176
        },
        "id": "YD2WjTjUOtWy",
        "outputId": "fa96ae01-12f5-443c-a9ee-a2358c2941f9"
      },
      "execution_count": null,
      "outputs": [
        {
          "output_type": "error",
          "ename": "NameError",
          "evalue": "ignored",
          "traceback": [
            "\u001b[0;31m---------------------------------------------------------------------------\u001b[0m",
            "\u001b[0;31mNameError\u001b[0m                                 Traceback (most recent call last)",
            "\u001b[0;32m<ipython-input-6-66d7d81ed537>\u001b[0m in \u001b[0;36m<cell line: 1>\u001b[0;34m()\u001b[0m\n\u001b[0;32m----> 1\u001b[0;31m \u001b[0mprint\u001b[0m\u001b[0;34m(\u001b[0m\u001b[0mrfe\u001b[0m\u001b[0;34m.\u001b[0m\u001b[0mranking_\u001b[0m\u001b[0;34m)\u001b[0m\u001b[0;34m\u001b[0m\u001b[0;34m\u001b[0m\u001b[0m\n\u001b[0m",
            "\u001b[0;31mNameError\u001b[0m: name 'rfe' is not defined"
          ]
        }
      ]
    },
    {
      "cell_type": "code",
      "source": [
        "selected_features = X.columns[rfe.support_]\n",
        "print(selected_features)\n"
      ],
      "metadata": {
        "colab": {
          "base_uri": "https://localhost:8080/"
        },
        "id": "wBVqh161O4PX",
        "outputId": "e6757ec9-7e63-4b45-d9c5-df83af54bd72"
      },
      "execution_count": null,
      "outputs": [
        {
          "output_type": "stream",
          "name": "stdout",
          "text": [
            "Index(['MDVP:Shimmer(dB)', 'DFA', 'spread1', 'spread2', 'D2'], dtype='object')\n"
          ]
        }
      ]
    },
    {
      "cell_type": "code",
      "source": [
        "import numpy as np\n",
        "from sklearn.model_selection import KFold, cross_val_score\n",
        "from sklearn.linear_model import LogisticRegression\n",
        "from sklearn.metrics import accuracy_score, precision_score, recall_score, f1_score\n",
        "from sklearn.model_selection import train_test_split\n",
        "\n",
        "import seaborn as sn\n",
        "#selected_features = ['tqwt_entropy_log_dec_5', 'tqwt_entropy_log_dec_12',\n",
        " #      'tqwt_entropy_log_dec_13', 'tqwt_entropy_log_dec_15',\n",
        "  #     'tqwt_entropy_log_dec_16','class']\n",
        "\n",
        "selected_features = ['MDVP:Shimmer(dB)', 'DFA', 'spread1', 'spread2', 'D2']\n",
        "# Create a new dataset with the selected features\n",
        "new_df = data_set[selected_features]\n",
        "\n",
        "# Save the new dataset to a CSV file\n",
        "new_df.to_csv('parkinsons_selected.csv', index=False)\n"
      ],
      "metadata": {
        "id": "xwc1D8IOSdkI"
      },
      "execution_count": null,
      "outputs": []
    },
    {
      "cell_type": "code",
      "source": [
        "new_df = pd.read_csv('parkinsons_selected.csv')\n",
        "from sklearn.model_selection import train_test_split\n",
        "#new_df.info()\n",
        "new_df.head\n"
      ],
      "metadata": {
        "colab": {
          "base_uri": "https://localhost:8080/"
        },
        "id": "Mqong_xylbL-",
        "outputId": "2e3231aa-9295-45f5-c116-40ea5320bf28"
      },
      "execution_count": null,
      "outputs": [
        {
          "output_type": "execute_result",
          "data": {
            "text/plain": [
              "<bound method NDFrame.head of      MDVP:Shimmer(dB)       DFA   spread1   spread2        D2\n",
              "0               0.426  0.815285 -4.813031  0.266482  2.301442\n",
              "1               0.626  0.819521 -4.075192  0.335590  2.486855\n",
              "2               0.482  0.825288 -4.443179  0.311173  2.342259\n",
              "3               0.517  0.819235 -4.117501  0.334147  2.405554\n",
              "4               0.584  0.823484 -3.747787  0.234513  2.332180\n",
              "..                ...       ...       ...       ...       ...\n",
              "190             0.405  0.657899 -6.538586  0.121952  2.657476\n",
              "191             0.263  0.683244 -6.195325  0.129303  2.784312\n",
              "192             0.256  0.655683 -6.787197  0.158453  2.679772\n",
              "193             0.241  0.643956 -6.744577  0.207454  2.138608\n",
              "194             0.190  0.664357 -5.724056  0.190667  2.555477\n",
              "\n",
              "[195 rows x 5 columns]>"
            ]
          },
          "metadata": {},
          "execution_count": 7
        }
      ]
    },
    {
      "cell_type": "markdown",
      "source": [
        "#Logistic Regression -->Need to Optimize\n"
      ],
      "metadata": {
        "id": "M-nbZ81Ia4N8"
      }
    },
    {
      "cell_type": "code",
      "source": [
        "# Split dataset into input features and target variable\n",
        "X_new = new_df\n",
        "\n",
        "#y = new_df[\"class\"]\n",
        "\n",
        "\n",
        "# Split dataset into training and testing sets\n",
        "X_train, X_test, y_train, y_test = train_test_split(X_new, y, test_size=0.2, random_state=42)\n",
        "\n",
        "clf = LogisticRegression()\n",
        "\n",
        "clf.fit(X_train,y_train)\n",
        "\n",
        "y_pred=clf.predict(X_test)\n",
        "\n",
        "print(X_test)\n",
        "print(y_pred)"
      ],
      "metadata": {
        "colab": {
          "base_uri": "https://localhost:8080/"
        },
        "id": "csb8pR7aPIlE",
        "outputId": "26d8764e-5b7f-4c9a-b709-69fe8fbcbe3e"
      },
      "execution_count": null,
      "outputs": [
        {
          "output_type": "stream",
          "name": "stdout",
          "text": [
            "     MDVP:Shimmer(dB)       DFA   spread1   spread2        D2\n",
            "138             0.517  0.701404 -5.634576  0.306014  2.419253\n",
            "16              0.192  0.644692 -5.440040  0.239764  2.264501\n",
            "155             0.276  0.652025 -3.583722  0.207914  2.439597\n",
            "96              0.307  0.693429 -6.417440  0.194627  2.473239\n",
            "68              0.478  0.731444 -5.869750  0.151814  2.118496\n",
            "153             0.241  0.670475 -4.865194  0.246404  2.013530\n",
            "55              0.307  0.811843 -4.333543  0.221727  2.014606\n",
            "15              0.126  0.658245 -5.340115  0.210185  2.205546\n",
            "112             0.210  0.722085 -4.876336  0.212054  2.376749\n",
            "111             0.155  0.712466 -6.471427  0.184378  2.502336\n",
            "184             0.163  0.656516 -5.198864  0.206768  2.120412\n",
            "18              0.542  0.719467 -3.949079  0.357870  3.109010\n",
            "82              0.216  0.787896 -5.022288  0.146948  2.428306\n",
            "9               0.255  0.798463 -5.011879  0.325996  2.432792\n",
            "164             0.272  0.674562 -2.929379  0.396746  2.560422\n",
            "117             0.175  0.676023 -4.597834  0.372114  2.975889\n",
            "69              0.497  0.727313 -6.261141  0.120956  2.137075\n",
            "113             0.149  0.722254 -5.963040  0.250283  2.489191\n",
            "192             0.256  0.655683 -6.787197  0.158453  2.679772\n",
            "119             0.124  0.582710 -5.517173  0.389295  2.925862\n",
            "123             0.231  0.732903 -5.445140  0.142466  2.174306\n",
            "144             0.228  0.630409 -6.132663  0.220617  2.576563\n",
            "66              0.313  0.720908 -5.409423  0.226850  2.359973\n",
            "45              0.134  0.638928 -6.995820  0.102083  2.365800\n",
            "158             0.266  0.627337 -5.070096  0.280091  2.892300\n",
            "115             0.235  0.662668 -4.673241  0.261549  2.702355\n",
            "67              0.308  0.729067 -5.324574  0.205660  2.291558\n",
            "93              0.637  0.697790 -6.152551  0.173520  2.080121\n",
            "30              0.097  0.741367 -7.348300  0.177551  1.743867\n",
            "101             0.584  0.643327 -4.202730  0.310163  2.638279\n",
            "118             0.129  0.655239 -4.913137  0.393056  2.816781\n",
            "75              0.206  0.807217 -5.477592  0.315074  1.862092\n",
            "24              0.164  0.732479 -5.557447  0.220890  2.692176\n",
            "172             0.133  0.776158 -6.085567  0.192375  1.889002\n",
            "127             0.257  0.736964 -5.825257  0.115697  1.996146\n",
            "169             0.212  0.646167 -7.169701  0.073298  2.266432\n",
            "19              0.348  0.686080 -4.554466  0.340176  2.856676\n",
            "168             0.189  0.725216 -5.736781  0.164529  2.882450\n",
            "73              0.226  0.789532 -5.389129  0.306636  1.928708\n",
            "[1 1 1 1 1 1 1 1 1 1 1 1 1 1 1 1 1 1 1 1 1 1 1 0 1 1 1 1 0 1 1 1 1 1 1 0 1\n",
            " 1 1]\n"
          ]
        }
      ]
    },
    {
      "cell_type": "code",
      "source": [
        "confusion_matrix = pd.crosstab(y_test, y_pred, rownames=['Actual'], colnames=['Predicted'])\n",
        "sn.heatmap(confusion_matrix, annot=True)"
      ],
      "metadata": {
        "colab": {
          "base_uri": "https://localhost:8080/",
          "height": 466
        },
        "id": "IJGwRir5UNFZ",
        "outputId": "06d33793-4d60-4b2d-a92c-c4f780451b18"
      },
      "execution_count": null,
      "outputs": [
        {
          "output_type": "execute_result",
          "data": {
            "text/plain": [
              "<Axes: xlabel='Predicted', ylabel='Actual'>"
            ]
          },
          "metadata": {},
          "execution_count": 9
        },
        {
          "output_type": "display_data",
          "data": {
            "text/plain": [
              "<Figure size 640x480 with 2 Axes>"
            ],
            "image/png": "[encoded data removed]"
          },
          "metadata": {}
        }
      ]
    },
    {
      "cell_type": "code",
      "source": [
        "def print_confusion_matrix(y_true, y_pred):\n",
        "    cm = confusion_matrix(y_true, y_pred)\n",
        "    print('True positive = ', cm[0][0])\n",
        "    print('False positive = ', cm[0][1])\n",
        "    print('False negative = ', cm[1][0])\n",
        "    print('True negative = ', cm[1][1])"
      ],
      "metadata": {
        "id": "K25JVdRXUXda"
      },
      "execution_count": null,
      "outputs": []
    },
    {
      "cell_type": "code",
      "source": [
        "from sklearn.metrics import confusion_matrix\n",
        "\n",
        "# Predict the target variable on the test set\n",
        "y_pred = clf.predict(X_test)\n",
        "\n",
        "# Compute the confusion matrix\n",
        "tn, fp, fn, tp = confusion_matrix(y_test, y_pred).ravel()\n",
        "\n",
        "# Print the confusion matrix\n",
        "print(f'True positives: {tp}')\n",
        "print(f'False positives: {fp}')\n",
        "print(f'True negatives: {tn}')\n",
        "print(f'False negatives: {fn}')"
      ],
      "metadata": {
        "colab": {
          "base_uri": "https://localhost:8080/"
        },
        "id": "6bRzRDAxUejp",
        "outputId": "dcd48f1b-cdf0-433d-bad6-805f0b2518c6"
      },
      "execution_count": null,
      "outputs": [
        {
          "output_type": "stream",
          "name": "stdout",
          "text": [
            "True positives: 32\n",
            "False positives: 4\n",
            "True negatives: 3\n",
            "False negatives: 0\n"
          ]
        }
      ]
    },
    {
      "cell_type": "code",
      "source": [
        "from sklearn.metrics import accuracy_score, precision_score, recall_score, f1_score, roc_auc_score, confusion_matrix\n",
        "\n",
        "accuracy = accuracy_score(y_test, y_pred)\n",
        "precision = precision_score(y_test, y_pred)\n",
        "recall = recall_score(y_test, y_pred)\n",
        "f1 = f1_score(y_test, y_pred)\n",
        "auc_roc = roc_auc_score(y_test, y_pred)\n",
        "\n",
        "print(f'Accuracy: {accuracy:.3f}')\n",
        "print(f'Precision: {precision:.3f}')\n",
        "print(f'Recall: {recall:.3f}')\n",
        "print(f'F1 score: {f1:.3f}')\n",
        "print(f'AUC-ROC score: {auc_roc:.3f}')"
      ],
      "metadata": {
        "colab": {
          "base_uri": "https://localhost:8080/"
        },
        "id": "MjIw-1SRUl0A",
        "outputId": "f66d44ab-1c45-4eab-eefd-34432a2bfd9f"
      },
      "execution_count": null,
      "outputs": [
        {
          "output_type": "stream",
          "name": "stdout",
          "text": [
            "Accuracy: 0.897\n",
            "Precision: 0.889\n",
            "Recall: 1.000\n",
            "F1 score: 0.941\n",
            "AUC-ROC score: 0.714\n"
          ]
        }
      ]
    },
    {
      "cell_type": "markdown",
      "source": [
        "### RANDOM FOREST"
      ],
      "metadata": {
        "id": "mAf4Sp82bBo6"
      }
    },
    {
      "cell_type": "code",
      "source": [
        "# Data Processing\n",
        "import pandas as pd\n",
        "import numpy as np\n",
        "\n",
        "# Modelling\n",
        "from sklearn.ensemble import RandomForestClassifier\n",
        "from sklearn.metrics import accuracy_score, confusion_matrix, precision_score, recall_score, ConfusionMatrixDisplay\n",
        "from sklearn.model_selection import RandomizedSearchCV, train_test_split\n",
        "from scipy.stats import randint\n",
        "\n",
        "# Tree Visualisation\n",
        "from sklearn.tree import export_graphviz\n",
        "from IPython.display import Image\n",
        "import graphviz"
      ],
      "metadata": {
        "id": "r7Jsp5zpbA8d"
      },
      "execution_count": null,
      "outputs": []
    },
    {
      "cell_type": "code",
      "source": [
        "new_df = pd.read_csv('parkinsons_selected.csv')\n",
        "from sklearn.model_selection import train_test_split"
      ],
      "metadata": {
        "id": "HUwz_gTHo-2H"
      },
      "execution_count": null,
      "outputs": []
    },
    {
      "cell_type": "code",
      "source": [
        "# Split dataset into input features and target variable\n",
        "X_new = new_df\n",
        "\n",
        "#y_new = new_df['class']\n",
        "\n",
        "\n",
        "# Split dataset into training and testing sets\n",
        "X_train, X_test, y_train, y_test = train_test_split(X_new, y, test_size=0.2, random_state=42)\n",
        "\n",
        "clf = LogisticRegression()\n",
        "\n",
        "clf.fit(X_train,y_train)\n",
        "\n",
        "y_pred=clf.predict(X_test)\n",
        "\n",
        "print(X_test)\n",
        "print(y_pred)"
      ],
      "metadata": {
        "colab": {
          "base_uri": "https://localhost:8080/"
        },
        "id": "8bYoTSDjpALp",
        "outputId": "b5923747-58c4-47fb-b274-e8c77bc8bf93"
      },
      "execution_count": null,
      "outputs": [
        {
          "output_type": "stream",
          "name": "stdout",
          "text": [
            "     MDVP:Shimmer(dB)       DFA   spread1   spread2        D2\n",
            "138             0.517  0.701404 -5.634576  0.306014  2.419253\n",
            "16              0.192  0.644692 -5.440040  0.239764  2.264501\n",
            "155             0.276  0.652025 -3.583722  0.207914  2.439597\n",
            "96              0.307  0.693429 -6.417440  0.194627  2.473239\n",
            "68              0.478  0.731444 -5.869750  0.151814  2.118496\n",
            "153             0.241  0.670475 -4.865194  0.246404  2.013530\n",
            "55              0.307  0.811843 -4.333543  0.221727  2.014606\n",
            "15              0.126  0.658245 -5.340115  0.210185  2.205546\n",
            "112             0.210  0.722085 -4.876336  0.212054  2.376749\n",
            "111             0.155  0.712466 -6.471427  0.184378  2.502336\n",
            "184             0.163  0.656516 -5.198864  0.206768  2.120412\n",
            "18              0.542  0.719467 -3.949079  0.357870  3.109010\n",
            "82              0.216  0.787896 -5.022288  0.146948  2.428306\n",
            "9               0.255  0.798463 -5.011879  0.325996  2.432792\n",
            "164             0.272  0.674562 -2.929379  0.396746  2.560422\n",
            "117             0.175  0.676023 -4.597834  0.372114  2.975889\n",
            "69              0.497  0.727313 -6.261141  0.120956  2.137075\n",
            "113             0.149  0.722254 -5.963040  0.250283  2.489191\n",
            "192             0.256  0.655683 -6.787197  0.158453  2.679772\n",
            "119             0.124  0.582710 -5.517173  0.389295  2.925862\n",
            "123             0.231  0.732903 -5.445140  0.142466  2.174306\n",
            "144             0.228  0.630409 -6.132663  0.220617  2.576563\n",
            "66              0.313  0.720908 -5.409423  0.226850  2.359973\n",
            "45              0.134  0.638928 -6.995820  0.102083  2.365800\n",
            "158             0.266  0.627337 -5.070096  0.280091  2.892300\n",
            "115             0.235  0.662668 -4.673241  0.261549  2.702355\n",
            "67              0.308  0.729067 -5.324574  0.205660  2.291558\n",
            "93              0.637  0.697790 -6.152551  0.173520  2.080121\n",
            "30              0.097  0.741367 -7.348300  0.177551  1.743867\n",
            "101             0.584  0.643327 -4.202730  0.310163  2.638279\n",
            "118             0.129  0.655239 -4.913137  0.393056  2.816781\n",
            "75              0.206  0.807217 -5.477592  0.315074  1.862092\n",
            "24              0.164  0.732479 -5.557447  0.220890  2.692176\n",
            "172             0.133  0.776158 -6.085567  0.192375  1.889002\n",
            "127             0.257  0.736964 -5.825257  0.115697  1.996146\n",
            "169             0.212  0.646167 -7.169701  0.073298  2.266432\n",
            "19              0.348  0.686080 -4.554466  0.340176  2.856676\n",
            "168             0.189  0.725216 -5.736781  0.164529  2.882450\n",
            "73              0.226  0.789532 -5.389129  0.306636  1.928708\n",
            "[1 1 1 1 1 1 1 1 1 1 1 1 1 1 1 1 1 1 1 1 1 1 1 0 1 1 1 1 0 1 1 1 1 1 1 0 1\n",
            " 1 1]\n"
          ]
        }
      ]
    },
    {
      "cell_type": "code",
      "source": [
        "from sklearn.model_selection import train_test_split\n",
        "\n",
        "# Split dataset into input features and target variable\n",
        "#X = new_df.drop('class', axis=1)\n",
        "#y = new_df['class']\n",
        "\n",
        "# Split dataset into training and testing sets\n",
        "X_train, X_test, y_train, y_test = train_test_split(X_new, y, test_size=0.2, random_state=42)\n",
        "\n",
        "clf = RandomForestClassifier()\n",
        "\n",
        "clf.fit(X_train,y_train)\n",
        "\n",
        "y_pred=clf.predict(X_test)\n",
        "\n",
        "print(X_test)\n",
        "print(y_pred)"
      ],
      "metadata": {
        "colab": {
          "base_uri": "https://localhost:8080/"
        },
        "id": "TFja5bffb4C0",
        "outputId": "c53bb589-c9f9-41df-ec70-b7d3be78f1e4"
      },
      "execution_count": null,
      "outputs": [
        {
          "output_type": "stream",
          "name": "stdout",
          "text": [
            "     MDVP:Shimmer(dB)       DFA   spread1   spread2        D2\n",
            "138             0.517  0.701404 -5.634576  0.306014  2.419253\n",
            "16              0.192  0.644692 -5.440040  0.239764  2.264501\n",
            "155             0.276  0.652025 -3.583722  0.207914  2.439597\n",
            "96              0.307  0.693429 -6.417440  0.194627  2.473239\n",
            "68              0.478  0.731444 -5.869750  0.151814  2.118496\n",
            "153             0.241  0.670475 -4.865194  0.246404  2.013530\n",
            "55              0.307  0.811843 -4.333543  0.221727  2.014606\n",
            "15              0.126  0.658245 -5.340115  0.210185  2.205546\n",
            "112             0.210  0.722085 -4.876336  0.212054  2.376749\n",
            "111             0.155  0.712466 -6.471427  0.184378  2.502336\n",
            "184             0.163  0.656516 -5.198864  0.206768  2.120412\n",
            "18              0.542  0.719467 -3.949079  0.357870  3.109010\n",
            "82              0.216  0.787896 -5.022288  0.146948  2.428306\n",
            "9               0.255  0.798463 -5.011879  0.325996  2.432792\n",
            "164             0.272  0.674562 -2.929379  0.396746  2.560422\n",
            "117             0.175  0.676023 -4.597834  0.372114  2.975889\n",
            "69              0.497  0.727313 -6.261141  0.120956  2.137075\n",
            "113             0.149  0.722254 -5.963040  0.250283  2.489191\n",
            "192             0.256  0.655683 -6.787197  0.158453  2.679772\n",
            "119             0.124  0.582710 -5.517173  0.389295  2.925862\n",
            "123             0.231  0.732903 -5.445140  0.142466  2.174306\n",
            "144             0.228  0.630409 -6.132663  0.220617  2.576563\n",
            "66              0.313  0.720908 -5.409423  0.226850  2.359973\n",
            "45              0.134  0.638928 -6.995820  0.102083  2.365800\n",
            "158             0.266  0.627337 -5.070096  0.280091  2.892300\n",
            "115             0.235  0.662668 -4.673241  0.261549  2.702355\n",
            "67              0.308  0.729067 -5.324574  0.205660  2.291558\n",
            "93              0.637  0.697790 -6.152551  0.173520  2.080121\n",
            "30              0.097  0.741367 -7.348300  0.177551  1.743867\n",
            "101             0.584  0.643327 -4.202730  0.310163  2.638279\n",
            "118             0.129  0.655239 -4.913137  0.393056  2.816781\n",
            "75              0.206  0.807217 -5.477592  0.315074  1.862092\n",
            "24              0.164  0.732479 -5.557447  0.220890  2.692176\n",
            "172             0.133  0.776158 -6.085567  0.192375  1.889002\n",
            "127             0.257  0.736964 -5.825257  0.115697  1.996146\n",
            "169             0.212  0.646167 -7.169701  0.073298  2.266432\n",
            "19              0.348  0.686080 -4.554466  0.340176  2.856676\n",
            "168             0.189  0.725216 -5.736781  0.164529  2.882450\n",
            "73              0.226  0.789532 -5.389129  0.306636  1.928708\n",
            "[1 1 1 1 1 1 1 1 1 1 1 1 1 1 1 1 1 1 0 1 1 1 1 0 1 1 1 1 0 1 1 1 1 0 1 0 1\n",
            " 1 1]\n"
          ]
        }
      ]
    },
    {
      "cell_type": "code",
      "source": [
        "confusion_matrix = pd.crosstab(y_test, y_pred, rownames=['Actual'], colnames=['Predicted'])\n",
        "sn.heatmap(confusion_matrix, annot=True)"
      ],
      "metadata": {
        "colab": {
          "base_uri": "https://localhost:8080/",
          "height": 466
        },
        "id": "MmrAULLEcX4k",
        "outputId": "3e1c197c-855d-42f6-dce7-a54da9230573"
      },
      "execution_count": null,
      "outputs": [
        {
          "output_type": "execute_result",
          "data": {
            "text/plain": [
              "<Axes: xlabel='Predicted', ylabel='Actual'>"
            ]
          },
          "metadata": {},
          "execution_count": 17
        },
        {
          "output_type": "display_data",
          "data": {
            "text/plain": [
              "<Figure size 640x480 with 2 Axes>"
            ],
            "image/png": "[encoded data removed]"
          },
          "metadata": {}
        }
      ]
    },
    {
      "cell_type": "code",
      "source": [
        "def print_confusion_matrix(y_true, y_pred):\n",
        "    cm = confusion_matrix(y_true, y_pred)\n",
        "    print('True positive = ', cm[0][0])\n",
        "    print('False positive = ', cm[0][1])\n",
        "    print('False negative = ', cm[1][0])\n",
        "    print('True negative = ', cm[1][1])"
      ],
      "metadata": {
        "id": "FelhKvObcd7t"
      },
      "execution_count": null,
      "outputs": []
    },
    {
      "cell_type": "code",
      "source": [
        "from sklearn.metrics import confusion_matrix\n",
        "\n",
        "# Predict the target variable on the test set\n",
        "y_pred = clf.predict(X_test)\n",
        "\n",
        "# Compute the confusion matrix\n",
        "tn, fp, fn, tp = confusion_matrix(y_test, y_pred).ravel()\n",
        "\n",
        "# Print the confusion matrix\n",
        "print(f'True positives: {tp}')\n",
        "print(f'False positives: {fp}')\n",
        "print(f'True negatives: {tn}')\n",
        "print(f'False negatives: {fn}')"
      ],
      "metadata": {
        "colab": {
          "base_uri": "https://localhost:8080/"
        },
        "id": "pfGtf55KcfcP",
        "outputId": "80127340-5e89-4cce-c42f-e49fd1a54652"
      },
      "execution_count": null,
      "outputs": [
        {
          "output_type": "stream",
          "name": "stdout",
          "text": [
            "True positives: 32\n",
            "False positives: 2\n",
            "True negatives: 5\n",
            "False negatives: 0\n"
          ]
        }
      ]
    },
    {
      "cell_type": "code",
      "source": [
        "from sklearn.metrics import accuracy_score, precision_score, recall_score, f1_score, roc_auc_score, confusion_matrix\n",
        "\n",
        "accuracy = accuracy_score(y_test, y_pred)\n",
        "precision = precision_score(y_test, y_pred)\n",
        "recall = recall_score(y_test, y_pred)\n",
        "f1 = f1_score(y_test, y_pred)\n",
        "auc_roc = roc_auc_score(y_test, y_pred)\n",
        "\n",
        "print(f'Accuracy: {accuracy:.3f}')\n",
        "print(f'Precision: {precision:.3f}')\n",
        "print(f'Recall: {recall:.3f}')\n",
        "print(f'F1 score: {f1:.3f}')\n",
        "print(f'AUC-ROC score: {auc_roc:.3f}')"
      ],
      "metadata": {
        "colab": {
          "base_uri": "https://localhost:8080/"
        },
        "id": "UHL7Sf-Zcmw_",
        "outputId": "0488c9c1-ff85-4175-a6ce-a270f66d03e4"
      },
      "execution_count": null,
      "outputs": [
        {
          "output_type": "stream",
          "name": "stdout",
          "text": [
            "Accuracy: 0.949\n",
            "Precision: 0.941\n",
            "Recall: 1.000\n",
            "F1 score: 0.970\n",
            "AUC-ROC score: 0.857\n"
          ]
        }
      ]
    },
    {
      "cell_type": "markdown",
      "source": [
        "###KNN"
      ],
      "metadata": {
        "id": "vu-VaI0QeEdG"
      }
    },
    {
      "cell_type": "code",
      "source": [
        "import pandas as pd\n",
        "import numpy as np\n",
        "import seaborn as sn\n",
        "selected_features = ['MDVP:Shimmer(dB)', 'status', 'spread1', 'spread2', 'D2']\n",
        "\n",
        "# Create a new dataset with the selected features\n",
        "new_df = data_set[selected_features]\n",
        "\n",
        "# Save the new dataset to a CSV file\n",
        "new_df.to_csv('parkinsons_selected.csv', index=False)"
      ],
      "metadata": {
        "id": "zGNUXY6Gflnz"
      },
      "execution_count": null,
      "outputs": []
    },
    {
      "cell_type": "code",
      "source": [
        "import numpy as np\n",
        "from sklearn.model_selection import KFold, cross_val_score\n",
        "from sklearn.neighbors import KNeighborsClassifier\n",
        "from sklearn import metrics\n",
        "from sklearn.metrics import accuracy_score, precision_score, recall_score, f1_score\n",
        "from sklearn.model_selection import train_test_split\n",
        "\n",
        "import seaborn as sn\n",
        "\n",
        "#X = new_data[['MDVP:Fo(Hz)','spread1','DFA','RPDE']]\n",
        "X =new_df[['MDVP:Shimmer(dB)', 'status', 'spread1', 'spread2', 'D2']]\n",
        "y = new_df['status']\n",
        "\n",
        "X_train,X_test,y_train,y_test = train_test_split(X,y,test_size=0.25,random_state=0)\n",
        "\n",
        "knn = KNeighborsClassifier(n_neighbors=5)\n",
        "\n",
        "knn.fit(X_train,y_train)\n",
        "\n",
        "y_pred=knn.predict(X_test)\n",
        "\n",
        "print(X_test)\n",
        "print(y_pred)\n"
      ],
      "metadata": {
        "colab": {
          "base_uri": "https://localhost:8080/"
        },
        "id": "3Dqyc_WseJJI",
        "outputId": "6dd65107-b0a1-46af-f179-e0473f835b9b"
      },
      "execution_count": null,
      "outputs": [
        {
          "output_type": "stream",
          "name": "stdout",
          "text": [
            "     MDVP:Shimmer(dB)  status   spread1   spread2        D2\n",
            "83              0.202       1 -6.025367  0.078202  2.053601\n",
            "12              0.112       1 -6.547148  0.152813  2.041277\n",
            "33              0.085       0 -7.695734  0.178540  1.544609\n",
            "113             0.149       1 -5.963040  0.250283  2.489191\n",
            "171             0.129       0 -6.323531  0.218885  2.193412\n",
            "134             0.441       1 -5.301321  0.320385  2.375138\n",
            "163             0.155       1 -5.617124  0.184896  1.871871\n",
            "124             0.224       1 -5.944191  0.143359  1.929715\n",
            "74              0.216       1 -5.313360  0.201861  2.225815\n",
            "18              0.542       1 -3.949079  0.357870  3.109010\n",
            "7               0.134       1 -6.167603  0.183721  2.064693\n",
            "5               0.456       1 -4.242867  0.299111  2.187560\n",
            "125             0.233       1 -5.594275  0.127950  1.765957\n",
            "161             0.325       1 -5.283009  0.226528  2.442906\n",
            "170             0.181       0 -7.304500  0.171088  2.095237\n",
            "181             0.163       1 -5.704053  0.216204  2.679185\n",
            "123             0.231       1 -5.445140  0.142466  2.174306\n",
            "60              0.170       0 -7.040508  0.066994  2.460791\n",
            "44              0.126       0 -7.057869  0.091608  2.330716\n",
            "141             0.571       1 -5.410336  0.288917  2.665133\n",
            "56              0.334       1 -4.438453  0.238298  1.922940\n",
            "173             0.133       0 -5.943501  0.192150  1.852542\n",
            "136             0.431       1 -4.378916  0.300067  2.445502\n",
            "89              0.442       1 -4.379411  0.375531  3.671155\n",
            "63              0.145       0 -7.245620  0.018689  2.498224\n",
            "55              0.307       1 -4.333543  0.221727  2.014606\n",
            "110             0.207       1 -5.258320  0.256454  2.550961\n",
            "166             0.116       0 -7.018057  0.176316  1.852402\n",
            "175             0.137       0 -5.966779  0.197938  1.974857\n",
            "45              0.134       0 -6.995820  0.102083  2.365800\n",
            "22              0.377       1 -4.330956  0.262384  2.916777\n",
            "155             0.276       1 -3.583722  0.207914  2.439597\n",
            "66              0.313       1 -5.409423  0.226850  2.359973\n",
            "37              0.168       1 -6.006414  0.196371  2.536527\n",
            "4               0.584       1 -3.747787  0.234513  2.332180\n",
            "80              0.364       1 -4.441519  0.155097  2.645959\n",
            "178             0.142       1 -6.311987  0.182459  2.251553\n",
            "106             0.097       1 -6.981201  0.184550  2.129924\n",
            "160             0.406       1 -5.185987  0.259229  2.151121\n",
            "26              0.186       1 -6.183590  0.226278  2.589702\n",
            "139             0.267       1 -5.866357  0.233070  2.445646\n",
            "143             0.180       1 -5.898673  0.213353  2.470746\n",
            "71              0.483       1 -5.207985  0.224852  2.642276\n",
            "8               0.191       1 -5.498678  0.327769  2.322511\n",
            "61              0.165       0 -7.293801  0.086372  2.321560\n",
            "130             0.125       1 -6.135296  0.203630  2.539724\n",
            "122             0.441       1 -5.418787  0.160267  2.090438\n",
            "101             0.584       1 -4.202730  0.310163  2.638279\n",
            "118             0.129       1 -4.913137  0.393056  2.816781\n",
            "[1 1 0 1 0 1 1 1 1 1 1 1 1 1 0 1 1 0 0 1 1 0 1 1 0 1 1 0 0 0 1 1 1 1 1 1 1\n",
            " 1 1 1 1 1 1 1 0 1 1 1 1]\n"
          ]
        }
      ]
    },
    {
      "cell_type": "code",
      "source": [
        "confusion_matrix = pd.crosstab(y_test, y_pred, rownames=['Actual'], colnames=['Predicted'])\n",
        "sn.heatmap(confusion_matrix, annot=True)"
      ],
      "metadata": {
        "colab": {
          "base_uri": "https://localhost:8080/",
          "height": 466
        },
        "id": "Y2lpCcd3gJ2I",
        "outputId": "a5c9ea7b-d048-4efd-be9d-ad359e71317f"
      },
      "execution_count": null,
      "outputs": [
        {
          "output_type": "execute_result",
          "data": {
            "text/plain": [
              "<Axes: xlabel='Predicted', ylabel='Actual'>"
            ]
          },
          "metadata": {},
          "execution_count": 23
        },
        {
          "output_type": "display_data",
          "data": {
            "text/plain": [
              "<Figure size 640x480 with 2 Axes>"
            ],
            "image/png": "[encoded data removed]"
          },
          "metadata": {}
        }
      ]
    },
    {
      "cell_type": "code",
      "source": [
        "def print_confusion_matrix(y_true, y_pred):\n",
        "    cm = confusion_matrix(y_true, y_pred)\n",
        "    print('True positive = ', cm[0][0])\n",
        "    print('False positive = ', cm[0][1])\n",
        "    print('False negative = ', cm[1][0])\n",
        "    print('True negative = ', cm[1][1])"
      ],
      "metadata": {
        "id": "rzuyYUG0gNdM"
      },
      "execution_count": null,
      "outputs": []
    },
    {
      "cell_type": "code",
      "source": [
        "from sklearn.metrics import accuracy_score, precision_score, recall_score, f1_score, roc_auc_score, confusion_matrix\n",
        "# Predict the target variable on the test set\n",
        "y_pred = knn.predict(X_test)\n",
        "\n",
        "# Compute the confusion matrix\n",
        "tn, fp, fn, tp = confusion_matrix(y_test, y_pred).ravel()\n",
        "\n",
        "# Print the confusion matrix\n",
        "print(f'True positives: {tp}')\n",
        "print(f'False positives: {fp}')\n",
        "print(f'True negatives: {tn}')\n",
        "print(f'False negatives: {fn}')"
      ],
      "metadata": {
        "colab": {
          "base_uri": "https://localhost:8080/"
        },
        "id": "oG_p3n65gYIu",
        "outputId": "b39b2deb-7086-4a77-86c2-df5c6ae9202a"
      },
      "execution_count": null,
      "outputs": [
        {
          "output_type": "stream",
          "name": "stdout",
          "text": [
            "True positives: 38\n",
            "False positives: 0\n",
            "True negatives: 11\n",
            "False negatives: 0\n"
          ]
        }
      ]
    },
    {
      "cell_type": "code",
      "source": [
        "from sklearn.metrics import accuracy_score, precision_score, recall_score, f1_score, roc_auc_score, confusion_matrix\n",
        "\n",
        "accuracy = accuracy_score(y_test, y_pred)\n",
        "precision = precision_score(y_test, y_pred)\n",
        "recall = recall_score(y_test, y_pred)\n",
        "f1 = f1_score(y_test, y_pred)\n",
        "auc_roc = roc_auc_score(y_test, y_pred)\n",
        "\n",
        "print(f'Accuracy: {accuracy:.3f}')\n",
        "print(f'Precision: {precision:.3f}')\n",
        "print(f'Recall: {recall:.3f}')\n",
        "print(f'F1 score: {f1:.3f}')\n",
        "print(f'AUC-ROC score: {auc_roc:.3f}')"
      ],
      "metadata": {
        "colab": {
          "base_uri": "https://localhost:8080/"
        },
        "id": "fS44Sa9xnZt0",
        "outputId": "c87a8d73-dd37-4a1e-a2b5-6f4afb732c53"
      },
      "execution_count": null,
      "outputs": [
        {
          "output_type": "stream",
          "name": "stdout",
          "text": [
            "Accuracy: 1.000\n",
            "Precision: 1.000\n",
            "Recall: 1.000\n",
            "F1 score: 1.000\n",
            "AUC-ROC score: 1.000\n"
          ]
        }
      ]
    },
    {
      "cell_type": "markdown",
      "source": [
        "### XGBOOST"
      ],
      "metadata": {
        "id": "vWoSbzLvdl0o"
      }
    },
    {
      "cell_type": "code",
      "source": [
        "from xgboost import XGBClassifier"
      ],
      "metadata": {
        "id": "qjJHWSA8doVI"
      },
      "execution_count": null,
      "outputs": []
    },
    {
      "cell_type": "code",
      "source": [
        "import seaborn as sn\n",
        "selected_features = ['MDVP:Shimmer(dB)', 'status', 'spread1', 'spread2', 'D2']\n",
        "\n",
        "# Create a new dataset with the selected features\n",
        "new_df = data_set[selected_features]\n",
        "\n",
        "# Save the new dataset to a CSV file\n",
        "new_df.to_csv('parkinsons_selected.csv', index=False)"
      ],
      "metadata": {
        "id": "QQLXCmq2eJ0V"
      },
      "execution_count": null,
      "outputs": []
    },
    {
      "cell_type": "code",
      "source": [
        "from sklearn.model_selection import train_test_split\n",
        "\n",
        "# Split dataset into input features and target variable\n",
        "X = new_df.drop('status', axis=1)\n",
        "y = new_df['status']\n",
        "\n",
        "# Split dataset into training and testing sets\n",
        "X_train, X_test, y_train, y_test = train_test_split(X, y, test_size=0.2, random_state=42)\n",
        "\n",
        "clf_xgb = XGBClassifier()\n",
        "\n",
        "clf_xgb.fit(X_train,y_train)\n",
        "\n",
        "y_pred=clf_xgb.predict(X_test)\n",
        "\n",
        "print(X_test)\n",
        "print(y_pred)"
      ],
      "metadata": {
        "colab": {
          "base_uri": "https://localhost:8080/"
        },
        "id": "4EKYLjTieVcO",
        "outputId": "8274c37c-a3ea-40d3-eb5f-7c45f7f7e7db"
      },
      "execution_count": null,
      "outputs": [
        {
          "output_type": "stream",
          "name": "stdout",
          "text": [
            "     MDVP:Shimmer(dB)   spread1   spread2        D2\n",
            "138             0.517 -5.634576  0.306014  2.419253\n",
            "16              0.192 -5.440040  0.239764  2.264501\n",
            "155             0.276 -3.583722  0.207914  2.439597\n",
            "96              0.307 -6.417440  0.194627  2.473239\n",
            "68              0.478 -5.869750  0.151814  2.118496\n",
            "153             0.241 -4.865194  0.246404  2.013530\n",
            "55              0.307 -4.333543  0.221727  2.014606\n",
            "15              0.126 -5.340115  0.210185  2.205546\n",
            "112             0.210 -4.876336  0.212054  2.376749\n",
            "111             0.155 -6.471427  0.184378  2.502336\n",
            "184             0.163 -5.198864  0.206768  2.120412\n",
            "18              0.542 -3.949079  0.357870  3.109010\n",
            "82              0.216 -5.022288  0.146948  2.428306\n",
            "9               0.255 -5.011879  0.325996  2.432792\n",
            "164             0.272 -2.929379  0.396746  2.560422\n",
            "117             0.175 -4.597834  0.372114  2.975889\n",
            "69              0.497 -6.261141  0.120956  2.137075\n",
            "113             0.149 -5.963040  0.250283  2.489191\n",
            "192             0.256 -6.787197  0.158453  2.679772\n",
            "119             0.124 -5.517173  0.389295  2.925862\n",
            "123             0.231 -5.445140  0.142466  2.174306\n",
            "144             0.228 -6.132663  0.220617  2.576563\n",
            "66              0.313 -5.409423  0.226850  2.359973\n",
            "45              0.134 -6.995820  0.102083  2.365800\n",
            "158             0.266 -5.070096  0.280091  2.892300\n",
            "115             0.235 -4.673241  0.261549  2.702355\n",
            "67              0.308 -5.324574  0.205660  2.291558\n",
            "93              0.637 -6.152551  0.173520  2.080121\n",
            "30              0.097 -7.348300  0.177551  1.743867\n",
            "101             0.584 -4.202730  0.310163  2.638279\n",
            "118             0.129 -4.913137  0.393056  2.816781\n",
            "75              0.206 -5.477592  0.315074  1.862092\n",
            "24              0.164 -5.557447  0.220890  2.692176\n",
            "172             0.133 -6.085567  0.192375  1.889002\n",
            "127             0.257 -5.825257  0.115697  1.996146\n",
            "169             0.212 -7.169701  0.073298  2.266432\n",
            "19              0.348 -4.554466  0.340176  2.856676\n",
            "168             0.189 -5.736781  0.164529  2.882450\n",
            "73              0.226 -5.389129  0.306636  1.928708\n",
            "[1 1 1 1 1 1 1 1 1 1 1 1 1 1 1 1 1 1 0 1 1 1 1 0 1 1 1 1 0 1 1 1 1 0 1 0 1\n",
            " 0 1]\n"
          ]
        }
      ]
    },
    {
      "cell_type": "code",
      "source": [
        "confusion_matrix = pd.crosstab(y_test, y_pred, rownames=['Actual'], colnames=['Predicted'])\n",
        "sn.heatmap(confusion_matrix, annot=True)"
      ],
      "metadata": {
        "colab": {
          "base_uri": "https://localhost:8080/",
          "height": 466
        },
        "id": "IkoDRfEyeohl",
        "outputId": "633fd68e-072b-4e2f-8bdf-42f0eba83f61"
      },
      "execution_count": null,
      "outputs": [
        {
          "output_type": "execute_result",
          "data": {
            "text/plain": [
              "<Axes: xlabel='Predicted', ylabel='Actual'>"
            ]
          },
          "metadata": {},
          "execution_count": 30
        },
        {
          "output_type": "display_data",
          "data": {
            "text/plain": [
              "<Figure size 640x480 with 2 Axes>"
            ],
            "image/png": "[encoded data removed]"
          },
          "metadata": {}
        }
      ]
    },
    {
      "cell_type": "code",
      "source": [
        "def print_confusion_matrix(y_true, y_pred):\n",
        "    cm = confusion_matrix(y_true, y_pred)\n",
        "    print('True positive = ', cm[0][0])\n",
        "    print('False positive = ', cm[0][1])\n",
        "    print('False negative = ', cm[1][0])\n",
        "    print('True negative = ', cm[1][1])"
      ],
      "metadata": {
        "id": "-qvyFpeseuiF"
      },
      "execution_count": null,
      "outputs": []
    },
    {
      "cell_type": "code",
      "source": [
        "from sklearn.metrics import confusion_matrix\n",
        "\n",
        "# Predict the target variable on the test set\n",
        "y_pred = clf_xgb.predict(X_test)\n",
        "\n",
        "# Compute the confusion matrix\n",
        "tn, fp, fn, tp = confusion_matrix(y_test, y_pred).ravel()\n",
        "\n",
        "# Print the confusion matrix\n",
        "print(f'True positives: {tp}')\n",
        "print(f'False positives: {fp}')\n",
        "print(f'True negatives: {tn}')\n",
        "print(f'False negatives: {fn}')"
      ],
      "metadata": {
        "colab": {
          "base_uri": "https://localhost:8080/"
        },
        "id": "3veu4sUee0BX",
        "outputId": "db316155-1e79-4d99-95a4-a588305e3100"
      },
      "execution_count": null,
      "outputs": [
        {
          "output_type": "stream",
          "name": "stdout",
          "text": [
            "True positives: 32\n",
            "False positives: 1\n",
            "True negatives: 6\n",
            "False negatives: 0\n"
          ]
        }
      ]
    },
    {
      "cell_type": "code",
      "source": [
        "from sklearn.metrics import accuracy_score, precision_score, recall_score, f1_score, roc_auc_score, confusion_matrix\n",
        "\n",
        "accuracy = accuracy_score(y_test, y_pred)\n",
        "precision = precision_score(y_test, y_pred)\n",
        "recall = recall_score(y_test, y_pred)\n",
        "f1 = f1_score(y_test, y_pred)\n",
        "auc_roc = roc_auc_score(y_test, y_pred)\n",
        "\n",
        "print(f'Accuracy: {accuracy:.3f}')\n",
        "print(f'Precision: {precision:.3f}')\n",
        "print(f'Recall: {recall:.3f}')\n",
        "print(f'F1 score: {f1:.3f}')\n",
        "print(f'AUC-ROC score: {auc_roc:.3f}')"
      ],
      "metadata": {
        "id": "S0mg9CyLe5IG",
        "outputId": "e142792d-51e0-41cb-fe66-8d843d2da6b5",
        "colab": {
          "base_uri": "https://localhost:8080/"
        }
      },
      "execution_count": null,
      "outputs": [
        {
          "output_type": "stream",
          "name": "stdout",
          "text": [
            "Accuracy: 0.974\n",
            "Precision: 0.970\n",
            "Recall: 1.000\n",
            "F1 score: 0.985\n",
            "AUC-ROC score: 0.929\n"
          ]
        }
      ]
    },
    {
      "cell_type": "code",
      "source": [
        "import numpy as np\n",
        "import matplotlib.pyplot as plt\n",
        "from sklearn.metrics import accuracy_score, roc_curve, auc, precision_recall_curve, confusion_matrix\n",
        "\n",
        "# Assuming you have already trained your model and obtained y_pred and y_test\n",
        "# y_pred and y_test should be arrays with predicted and actual labels, respectively\n",
        "\n",
        "# Accuracy\n",
        "accuracy = accuracy_score(y_test, y_pred)\n",
        "print(f'Accuracy: {accuracy:.3f}')\n",
        "\n",
        "# Precision, Recall, F1-Score\n",
        "precision = precision_score(y_test, y_pred)\n",
        "recall = recall_score(y_test, y_pred)\n",
        "f1 = f1_score(y_test, y_pred)\n",
        "print(f'Precision: {precision:.3f}')\n",
        "print(f'Recall: {recall:.3f}')\n",
        "print(f'F1 score: {f1:.3f}')\n",
        "\n",
        "# ROC-AUC Curve\n",
        "fpr, tpr, _ = roc_curve(y_test, y_pred)\n",
        "roc_auc = auc(fpr, tpr)\n",
        "print(f'AUC-ROC score: {roc_auc:.3f}')\n",
        "\n",
        "plt.figure()\n",
        "plt.plot(fpr, tpr, color='darkorange', lw=2, label='ROC curve (area = %0.2f)' % roc_auc)\n",
        "plt.plot([0, 1], [0, 1], color='navy', lw=2, linestyle='--')\n",
        "plt.xlim([0.0, 1.0])\n",
        "plt.ylim([0.0, 1.05])\n",
        "plt.xlabel('False Positive Rate')\n",
        "plt.ylabel('True Positive Rate')\n",
        "plt.title('Receiver Operating Characteristic')\n",
        "plt.legend(loc=\"lower right\")\n",
        "plt.show()\n",
        "\n",
        "# Precision-Recall Curve\n",
        "precision, recall, _ = precision_recall_curve(y_test, y_pred)\n",
        "plt.figure()\n",
        "plt.plot(recall, precision, color='blue', lw=2, label='Precision-Recall curve')\n",
        "plt.xlabel('Recall')\n",
        "plt.ylabel('Precision')\n",
        "plt.xlim([0.0, 1.0])\n",
        "plt.ylim([0.0, 1.05])\n",
        "plt.title('Precision-Recall Curve')\n",
        "plt.legend(loc=\"lower left\")\n",
        "plt.show()\n",
        "\n",
        "# Confusion Matrix\n",
        "conf_matrix = confusion_matrix(y_test, y_pred)\n",
        "print('Confusion Matrix:')\n",
        "print(conf_matrix)\n"
      ],
      "metadata": {
        "colab": {
          "base_uri": "https://localhost:8080/",
          "height": 1000
        },
        "id": "1tDHsLZl1Ye-",
        "outputId": "50e6142b-94ac-41be-c8d2-a489c2424412"
      },
      "execution_count": null,
      "outputs": [
        {
          "output_type": "stream",
          "name": "stdout",
          "text": [
            "Accuracy: 0.974\n",
            "Precision: 0.970\n",
            "Recall: 1.000\n",
            "F1 score: 0.985\n",
            "AUC-ROC score: 0.929\n"
          ]
        },
        {
          "output_type": "display_data",
          "data": {
            "text/plain": [
              "<Figure size 640x480 with 1 Axes>"
            ],
            "image/png": "[encoded data removed]"
          },
          "metadata": {}
        },
        {
          "output_type": "display_data",
          "data": {
            "text/plain": [
              "<Figure size 640x480 with 1 Axes>"
            ],
            "image/png": "[encoded data removed]"
          },
          "metadata": {}
        },
        {
          "output_type": "stream",
          "name": "stdout",
          "text": [
            "Confusion Matrix:\n",
            "[[ 6  1]\n",
            " [ 0 32]]\n"
          ]
        }
      ]
    }
  ]
}