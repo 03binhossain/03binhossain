{
  "cells": [
    {
      "cell_type": "markdown",
      "metadata": {
        "id": "view-in-github",
        "colab_type": "text"
      },
      "source": [
        "<a href=\"https://colab.research.google.com/github/NazmulHassan033/Nazmul-Hassan/blob/main/No_Reduction_Speech_Dataset_2_parkinsons_disease_predictions.ipynb\" target=\"_parent\"><img src=\"https://colab.research.google.com/assets/colab-badge.svg\" alt=\"Open In Colab\"/></a>"
      ]
    },
    {
      "cell_type": "code",
      "execution_count": null,
      "id": "fa8eb913",
      "metadata": {
        "execution": {
          "iopub.execute_input": "2023-03-12T16:30:20.954898Z",
          "iopub.status.busy": "2023-03-12T16:30:20.954085Z",
          "iopub.status.idle": "2023-03-12T16:30:22.336626Z",
          "shell.execute_reply": "2023-03-12T16:30:22.335561Z"
        },
        "papermill": {
          "duration": 1.399737,
          "end_time": "2023-03-12T16:30:22.339533",
          "exception": false,
          "start_time": "2023-03-12T16:30:20.939796",
          "status": "completed"
        },
        "tags": [],
        "id": "fa8eb913"
      },
      "outputs": [],
      "source": [
        "\n",
        "import numpy as np\n",
        "import pandas as pd\n",
        "import matplotlib.pyplot as plt\n",
        "import seaborn as sns\n",
        "\n",
        "\n",
        "from sklearn.preprocessing import MinMaxScaler\n",
        "from sklearn.metrics import confusion_matrix,accuracy_score, classification_report\n",
        "\n",
        "from xgboost import XGBClassifier"
      ]
    },
    {
      "cell_type": "code",
      "execution_count": null,
      "id": "d9dd1f52",
      "metadata": {
        "execution": {
          "iopub.execute_input": "2023-03-12T16:30:22.367072Z",
          "iopub.status.busy": "2023-03-12T16:30:22.366604Z",
          "iopub.status.idle": "2023-03-12T16:30:22.376924Z",
          "shell.execute_reply": "2023-03-12T16:30:22.375642Z"
        },
        "papermill": {
          "duration": 0.027239,
          "end_time": "2023-03-12T16:30:22.379576",
          "exception": false,
          "start_time": "2023-03-12T16:30:22.352337",
          "status": "completed"
        },
        "tags": [],
        "id": "d9dd1f52"
      },
      "outputs": [],
      "source": [
        "import os\n",
        "for dirname, _, filenames in os.walk('../F:/Thesis Folder/Thesis'):\n",
        "    for filename in filenames:\n",
        "        print(os.path.join(dirname, filename))"
      ]
    },
    {
      "cell_type": "markdown",
      "id": "fe676995",
      "metadata": {
        "papermill": {
          "duration": 0.014349,
          "end_time": "2023-03-12T16:30:22.406566",
          "exception": false,
          "start_time": "2023-03-12T16:30:22.392217",
          "status": "completed"
        },
        "tags": [],
        "id": "fe676995"
      },
      "source": [
        "# Read the data"
      ]
    },
    {
      "cell_type": "code",
      "execution_count": null,
      "id": "a21ed9db",
      "metadata": {
        "execution": {
          "iopub.execute_input": "2023-03-12T16:30:22.434232Z",
          "iopub.status.busy": "2023-03-12T16:30:22.433426Z",
          "iopub.status.idle": "2023-03-12T16:30:22.489312Z",
          "shell.execute_reply": "2023-03-12T16:30:22.487790Z"
        },
        "papermill": {
          "duration": 0.073819,
          "end_time": "2023-03-12T16:30:22.492975",
          "exception": false,
          "start_time": "2023-03-12T16:30:22.419156",
          "status": "completed"
        },
        "tags": [],
        "colab": {
          "base_uri": "https://localhost:8080/",
          "height": 335
        },
        "id": "a21ed9db",
        "outputId": "930a2e9f-daff-4895-b6f6-b43d2f307171"
      },
      "outputs": [
        {
          "output_type": "stream",
          "name": "stdout",
          "text": [
            "(756, 755) \n",
            "\n"
          ]
        },
        {
          "output_type": "execute_result",
          "data": {
            "text/plain": [
              "   id  gender      PPE      DFA     RPDE  numPulses  numPeriodsPulses  \\\n",
              "0   0       1  0.85247  0.71826  0.57227        240               239   \n",
              "1   0       1  0.76686  0.69481  0.53966        234               233   \n",
              "2   0       1  0.85083  0.67604  0.58982        232               231   \n",
              "3   1       0  0.41121  0.79672  0.59257        178               177   \n",
              "4   1       0  0.32790  0.79782  0.53028        236               235   \n",
              "\n",
              "   meanPeriodPulses  stdDevPeriodPulses  locPctJitter  ...  \\\n",
              "0          0.008064            0.000087       0.00218  ...   \n",
              "1          0.008258            0.000073       0.00195  ...   \n",
              "2          0.008340            0.000060       0.00176  ...   \n",
              "3          0.010858            0.000183       0.00419  ...   \n",
              "4          0.008162            0.002669       0.00535  ...   \n",
              "\n",
              "   tqwt_kurtosisValue_dec_28  tqwt_kurtosisValue_dec_29  \\\n",
              "0                     1.5620                     2.6445   \n",
              "1                     1.5589                     3.6107   \n",
              "2                     1.5643                     2.3308   \n",
              "3                     3.7805                     3.5664   \n",
              "4                     6.1727                     5.8416   \n",
              "\n",
              "   tqwt_kurtosisValue_dec_30  tqwt_kurtosisValue_dec_31  \\\n",
              "0                     3.8686                     4.2105   \n",
              "1                    23.5155                    14.1962   \n",
              "2                     9.4959                    10.7458   \n",
              "3                     5.2558                    14.0403   \n",
              "4                     6.0805                     5.7621   \n",
              "\n",
              "   tqwt_kurtosisValue_dec_32  tqwt_kurtosisValue_dec_33  \\\n",
              "0                     5.1221                     4.4625   \n",
              "1                    11.0261                     9.5082   \n",
              "2                    11.0177                     4.8066   \n",
              "3                     4.2235                     4.6857   \n",
              "4                     7.7817                    11.6891   \n",
              "\n",
              "   tqwt_kurtosisValue_dec_34  tqwt_kurtosisValue_dec_35  \\\n",
              "0                     2.6202                     3.0004   \n",
              "1                     6.5245                     6.3431   \n",
              "2                     2.9199                     3.1495   \n",
              "3                     4.8460                     6.2650   \n",
              "4                     8.2103                     5.0559   \n",
              "\n",
              "   tqwt_kurtosisValue_dec_36  status  \n",
              "0                    18.9405       1  \n",
              "1                    45.1780       1  \n",
              "2                     4.7666       1  \n",
              "3                     4.0603       1  \n",
              "4                     6.1164       1  \n",
              "\n",
              "[5 rows x 755 columns]"
            ],
            "text/html": [
              "\n",
              "\n",
              "  <div id=\"df-b37fbf84-3f84-4526-97d2-10f35f714412\">\n",
              "    <div class=\"colab-df-container\">\n",
              "      <div>\n",
              "<style scoped>\n",
              "    .dataframe tbody tr th:only-of-type {\n",
              "        vertical-align: middle;\n",
              "    }\n",
              "\n",
              "    .dataframe tbody tr th {\n",
              "        vertical-align: top;\n",
              "    }\n",
              "\n",
              "    .dataframe thead th {\n",
              "        text-align: right;\n",
              "    }\n",
              "</style>\n",
              "<table border=\"1\" class=\"dataframe\">\n",
              "  <thead>\n",
              "    <tr style=\"text-align: right;\">\n",
              "      <th></th>\n",
              "      <th>id</th>\n",
              "      <th>gender</th>\n",
              "      <th>PPE</th>\n",
              "      <th>DFA</th>\n",
              "      <th>RPDE</th>\n",
              "      <th>numPulses</th>\n",
              "      <th>numPeriodsPulses</th>\n",
              "      <th>meanPeriodPulses</th>\n",
              "      <th>stdDevPeriodPulses</th>\n",
              "      <th>locPctJitter</th>\n",
              "      <th>...</th>\n",
              "      <th>tqwt_kurtosisValue_dec_28</th>\n",
              "      <th>tqwt_kurtosisValue_dec_29</th>\n",
              "      <th>tqwt_kurtosisValue_dec_30</th>\n",
              "      <th>tqwt_kurtosisValue_dec_31</th>\n",
              "      <th>tqwt_kurtosisValue_dec_32</th>\n",
              "      <th>tqwt_kurtosisValue_dec_33</th>\n",
              "      <th>tqwt_kurtosisValue_dec_34</th>\n",
              "      <th>tqwt_kurtosisValue_dec_35</th>\n",
              "      <th>tqwt_kurtosisValue_dec_36</th>\n",
              "      <th>status</th>\n",
              "    </tr>\n",
              "  </thead>\n",
              "  <tbody>\n",
              "    <tr>\n",
              "      <th>0</th>\n",
              "      <td>0</td>\n",
              "      <td>1</td>\n",
              "      <td>0.85247</td>\n",
              "      <td>0.71826</td>\n",
              "      <td>0.57227</td>\n",
              "      <td>240</td>\n",
              "      <td>239</td>\n",
              "      <td>0.008064</td>\n",
              "      <td>0.000087</td>\n",
              "      <td>0.00218</td>\n",
              "      <td>...</td>\n",
              "      <td>1.5620</td>\n",
              "      <td>2.6445</td>\n",
              "      <td>3.8686</td>\n",
              "      <td>4.2105</td>\n",
              "      <td>5.1221</td>\n",
              "      <td>4.4625</td>\n",
              "      <td>2.6202</td>\n",
              "      <td>3.0004</td>\n",
              "      <td>18.9405</td>\n",
              "      <td>1</td>\n",
              "    </tr>\n",
              "    <tr>\n",
              "      <th>1</th>\n",
              "      <td>0</td>\n",
              "      <td>1</td>\n",
              "      <td>0.76686</td>\n",
              "      <td>0.69481</td>\n",
              "      <td>0.53966</td>\n",
              "      <td>234</td>\n",
              "      <td>233</td>\n",
              "      <td>0.008258</td>\n",
              "      <td>0.000073</td>\n",
              "      <td>0.00195</td>\n",
              "      <td>...</td>\n",
              "      <td>1.5589</td>\n",
              "      <td>3.6107</td>\n",
              "      <td>23.5155</td>\n",
              "      <td>14.1962</td>\n",
              "      <td>11.0261</td>\n",
              "      <td>9.5082</td>\n",
              "      <td>6.5245</td>\n",
              "      <td>6.3431</td>\n",
              "      <td>45.1780</td>\n",
              "      <td>1</td>\n",
              "    </tr>\n",
              "    <tr>\n",
              "      <th>2</th>\n",
              "      <td>0</td>\n",
              "      <td>1</td>\n",
              "      <td>0.85083</td>\n",
              "      <td>0.67604</td>\n",
              "      <td>0.58982</td>\n",
              "      <td>232</td>\n",
              "      <td>231</td>\n",
              "      <td>0.008340</td>\n",
              "      <td>0.000060</td>\n",
              "      <td>0.00176</td>\n",
              "      <td>...</td>\n",
              "      <td>1.5643</td>\n",
              "      <td>2.3308</td>\n",
              "      <td>9.4959</td>\n",
              "      <td>10.7458</td>\n",
              "      <td>11.0177</td>\n",
              "      <td>4.8066</td>\n",
              "      <td>2.9199</td>\n",
              "      <td>3.1495</td>\n",
              "      <td>4.7666</td>\n",
              "      <td>1</td>\n",
              "    </tr>\n",
              "    <tr>\n",
              "      <th>3</th>\n",
              "      <td>1</td>\n",
              "      <td>0</td>\n",
              "      <td>0.41121</td>\n",
              "      <td>0.79672</td>\n",
              "      <td>0.59257</td>\n",
              "      <td>178</td>\n",
              "      <td>177</td>\n",
              "      <td>0.010858</td>\n",
              "      <td>0.000183</td>\n",
              "      <td>0.00419</td>\n",
              "      <td>...</td>\n",
              "      <td>3.7805</td>\n",
              "      <td>3.5664</td>\n",
              "      <td>5.2558</td>\n",
              "      <td>14.0403</td>\n",
              "      <td>4.2235</td>\n",
              "      <td>4.6857</td>\n",
              "      <td>4.8460</td>\n",
              "      <td>6.2650</td>\n",
              "      <td>4.0603</td>\n",
              "      <td>1</td>\n",
              "    </tr>\n",
              "    <tr>\n",
              "      <th>4</th>\n",
              "      <td>1</td>\n",
              "      <td>0</td>\n",
              "      <td>0.32790</td>\n",
              "      <td>0.79782</td>\n",
              "      <td>0.53028</td>\n",
              "      <td>236</td>\n",
              "      <td>235</td>\n",
              "      <td>0.008162</td>\n",
              "      <td>0.002669</td>\n",
              "      <td>0.00535</td>\n",
              "      <td>...</td>\n",
              "      <td>6.1727</td>\n",
              "      <td>5.8416</td>\n",
              "      <td>6.0805</td>\n",
              "      <td>5.7621</td>\n",
              "      <td>7.7817</td>\n",
              "      <td>11.6891</td>\n",
              "      <td>8.2103</td>\n",
              "      <td>5.0559</td>\n",
              "      <td>6.1164</td>\n",
              "      <td>1</td>\n",
              "    </tr>\n",
              "  </tbody>\n",
              "</table>\n",
              "<p>5 rows × 755 columns</p>\n",
              "</div>\n",
              "      <button class=\"colab-df-convert\" onclick=\"convertToInteractive('df-b37fbf84-3f84-4526-97d2-10f35f714412')\"\n",
              "              title=\"Convert this dataframe to an interactive table.\"\n",
              "              style=\"display:none;\">\n",
              "\n",
              "  <svg xmlns=\"http://www.w3.org/2000/svg\" height=\"24px\"viewBox=\"0 0 24 24\"\n",
              "       width=\"24px\">\n",
              "    <path d=\"M0 0h24v24H0V0z\" fill=\"none\"/>\n",
              "    <path d=\"M18.56 5.44l.94 2.06.94-2.06 2.06-.94-2.06-.94-.94-2.06-.94 2.06-2.06.94zm-11 1L8.5 8.5l.94-2.06 2.06-.94-2.06-.94L8.5 2.5l-.94 2.06-2.06.94zm10 10l.94 2.06.94-2.06 2.06-.94-2.06-.94-.94-2.06-.94 2.06-2.06.94z\"/><path d=\"M17.41 7.96l-1.37-1.37c-.4-.4-.92-.59-1.43-.59-.52 0-1.04.2-1.43.59L10.3 9.45l-7.72 7.72c-.78.78-.78 2.05 0 2.83L4 21.41c.39.39.9.59 1.41.59.51 0 1.02-.2 1.41-.59l7.78-7.78 2.81-2.81c.8-.78.8-2.07 0-2.86zM5.41 20L4 18.59l7.72-7.72 1.47 1.35L5.41 20z\"/>\n",
              "  </svg>\n",
              "      </button>\n",
              "\n",
              "\n",
              "\n",
              "    <div id=\"df-2e3131f1-1f82-4396-a279-42d566e1624f\">\n",
              "      <button class=\"colab-df-quickchart\" onclick=\"quickchart('df-2e3131f1-1f82-4396-a279-42d566e1624f')\"\n",
              "              title=\"Suggest charts.\"\n",
              "              style=\"display:none;\">\n",
              "\n",
              "<svg xmlns=\"http://www.w3.org/2000/svg\" height=\"24px\"viewBox=\"0 0 24 24\"\n",
              "     width=\"24px\">\n",
              "    <g>\n",
              "        <path d=\"M19 3H5c-1.1 0-2 .9-2 2v14c0 1.1.9 2 2 2h14c1.1 0 2-.9 2-2V5c0-1.1-.9-2-2-2zM9 17H7v-7h2v7zm4 0h-2V7h2v10zm4 0h-2v-4h2v4z\"/>\n",
              "    </g>\n",
              "</svg>\n",
              "      </button>\n",
              "    </div>\n",
              "\n",
              "<style>\n",
              "  .colab-df-quickchart {\n",
              "    background-color: #E8F0FE;\n",
              "    border: none;\n",
              "    border-radius: 50%;\n",
              "    cursor: pointer;\n",
              "    display: none;\n",
              "    fill: #1967D2;\n",
              "    height: 32px;\n",
              "    padding: 0 0 0 0;\n",
              "    width: 32px;\n",
              "  }\n",
              "\n",
              "  .colab-df-quickchart:hover {\n",
              "    background-color: #E2EBFA;\n",
              "    box-shadow: 0px 1px 2px rgba(60, 64, 67, 0.3), 0px 1px 3px 1px rgba(60, 64, 67, 0.15);\n",
              "    fill: #174EA6;\n",
              "  }\n",
              "\n",
              "  [theme=dark] .colab-df-quickchart {\n",
              "    background-color: #3B4455;\n",
              "    fill: #D2E3FC;\n",
              "  }\n",
              "\n",
              "  [theme=dark] .colab-df-quickchart:hover {\n",
              "    background-color: #434B5C;\n",
              "    box-shadow: 0px 1px 3px 1px rgba(0, 0, 0, 0.15);\n",
              "    filter: drop-shadow(0px 1px 2px rgba(0, 0, 0, 0.3));\n",
              "    fill: #FFFFFF;\n",
              "  }\n",
              "</style>\n",
              "\n",
              "    <script>\n",
              "      async function quickchart(key) {\n",
              "        const containerElement = document.querySelector('#' + key);\n",
              "        const charts = await google.colab.kernel.invokeFunction(\n",
              "            'suggestCharts', [key], {});\n",
              "      }\n",
              "    </script>\n",
              "\n",
              "      <script>\n",
              "\n",
              "function displayQuickchartButton(domScope) {\n",
              "  let quickchartButtonEl =\n",
              "    domScope.querySelector('#df-2e3131f1-1f82-4396-a279-42d566e1624f button.colab-df-quickchart');\n",
              "  quickchartButtonEl.style.display =\n",
              "    google.colab.kernel.accessAllowed ? 'block' : 'none';\n",
              "}\n",
              "\n",
              "        displayQuickchartButton(document);\n",
              "      </script>\n",
              "      <style>\n",
              "    .colab-df-container {\n",
              "      display:flex;\n",
              "      flex-wrap:wrap;\n",
              "      gap: 12px;\n",
              "    }\n",
              "\n",
              "    .colab-df-convert {\n",
              "      background-color: #E8F0FE;\n",
              "      border: none;\n",
              "      border-radius: 50%;\n",
              "      cursor: pointer;\n",
              "      display: none;\n",
              "      fill: #1967D2;\n",
              "      height: 32px;\n",
              "      padding: 0 0 0 0;\n",
              "      width: 32px;\n",
              "    }\n",
              "\n",
              "    .colab-df-convert:hover {\n",
              "      background-color: #E2EBFA;\n",
              "      box-shadow: 0px 1px 2px rgba(60, 64, 67, 0.3), 0px 1px 3px 1px rgba(60, 64, 67, 0.15);\n",
              "      fill: #174EA6;\n",
              "    }\n",
              "\n",
              "    [theme=dark] .colab-df-convert {\n",
              "      background-color: #3B4455;\n",
              "      fill: #D2E3FC;\n",
              "    }\n",
              "\n",
              "    [theme=dark] .colab-df-convert:hover {\n",
              "      background-color: #434B5C;\n",
              "      box-shadow: 0px 1px 3px 1px rgba(0, 0, 0, 0.15);\n",
              "      filter: drop-shadow(0px 1px 2px rgba(0, 0, 0, 0.3));\n",
              "      fill: #FFFFFF;\n",
              "    }\n",
              "  </style>\n",
              "\n",
              "      <script>\n",
              "        const buttonEl =\n",
              "          document.querySelector('#df-b37fbf84-3f84-4526-97d2-10f35f714412 button.colab-df-convert');\n",
              "        buttonEl.style.display =\n",
              "          google.colab.kernel.accessAllowed ? 'block' : 'none';\n",
              "\n",
              "        async function convertToInteractive(key) {\n",
              "          const element = document.querySelector('#df-b37fbf84-3f84-4526-97d2-10f35f714412');\n",
              "          const dataTable =\n",
              "            await google.colab.kernel.invokeFunction('convertToInteractive',\n",
              "                                                     [key], {});\n",
              "          if (!dataTable) return;\n",
              "\n",
              "          const docLinkHtml = 'Like what you see? Visit the ' +\n",
              "            '<a target=\"_blank\" href=https://colab.research.google.com/notebooks/data_table.ipynb>data table notebook</a>'\n",
              "            + ' to learn more about interactive tables.';\n",
              "          element.innerHTML = '';\n",
              "          dataTable['output_type'] = 'display_data';\n",
              "          await google.colab.output.renderOutput(dataTable, element);\n",
              "          const docLink = document.createElement('div');\n",
              "          docLink.innerHTML = docLinkHtml;\n",
              "          element.appendChild(docLink);\n",
              "        }\n",
              "      </script>\n",
              "    </div>\n",
              "  </div>\n"
            ]
          },
          "metadata": {},
          "execution_count": 3
        }
      ],
      "source": [
        "#  let’s read the data into a DataFrame\n",
        "\n",
        "#Read the data\n",
        "df=pd.read_csv('pd_speech_features.csv')\n",
        "print(df.shape,'\\n')\n",
        "df.head()"
      ]
    },
    {
      "cell_type": "code",
      "execution_count": null,
      "id": "658d4e7f",
      "metadata": {
        "execution": {
          "iopub.execute_input": "2023-03-12T16:30:22.521899Z",
          "iopub.status.busy": "2023-03-12T16:30:22.521424Z",
          "iopub.status.idle": "2023-03-12T16:30:22.613006Z",
          "shell.execute_reply": "2023-03-12T16:30:22.611594Z"
        },
        "papermill": {
          "duration": 0.109298,
          "end_time": "2023-03-12T16:30:22.615533",
          "exception": false,
          "start_time": "2023-03-12T16:30:22.506235",
          "status": "completed"
        },
        "tags": [],
        "colab": {
          "base_uri": "https://localhost:8080/",
          "height": 393
        },
        "id": "658d4e7f",
        "outputId": "a632535f-8d62-49ec-fc12-f95903b91c13"
      },
      "outputs": [
        {
          "output_type": "execute_result",
          "data": {
            "text/plain": [
              "               id      gender         PPE         DFA        RPDE   numPulses  \\\n",
              "count  756.000000  756.000000  756.000000  756.000000  756.000000  756.000000   \n",
              "mean   125.500000    0.515873    0.746284    0.700414    0.489058  323.972222   \n",
              "std     72.793721    0.500079    0.169294    0.069718    0.137442   99.219059   \n",
              "min      0.000000    0.000000    0.041551    0.543500    0.154300    2.000000   \n",
              "25%     62.750000    0.000000    0.762833    0.647053    0.386537  251.000000   \n",
              "50%    125.500000    1.000000    0.809655    0.700525    0.484355  317.000000   \n",
              "75%    188.250000    1.000000    0.834315    0.754985    0.586515  384.250000   \n",
              "max    251.000000    1.000000    0.907660    0.852640    0.871230  907.000000   \n",
              "\n",
              "       numPeriodsPulses  meanPeriodPulses  stdDevPeriodPulses  locPctJitter  \\\n",
              "count        756.000000        756.000000          756.000000    756.000000   \n",
              "mean         322.678571          0.006360            0.000383      0.002324   \n",
              "std           99.402499          0.001826            0.000728      0.002628   \n",
              "min            1.000000          0.002107            0.000011      0.000210   \n",
              "25%          250.000000          0.005003            0.000049      0.000970   \n",
              "50%          316.000000          0.006048            0.000077      0.001495   \n",
              "75%          383.250000          0.007528            0.000171      0.002520   \n",
              "max          905.000000          0.012966            0.003483      0.027750   \n",
              "\n",
              "       ...  tqwt_kurtosisValue_dec_28  tqwt_kurtosisValue_dec_29  \\\n",
              "count  ...                 756.000000                 756.000000   \n",
              "mean   ...                  26.237251                  22.840337   \n",
              "std    ...                  42.220693                  32.626464   \n",
              "min    ...                   1.509800                   1.531700   \n",
              "25%    ...                   2.408675                   3.452800   \n",
              "50%    ...                   5.586300                   7.062750   \n",
              "75%    ...                  28.958075                  29.830850   \n",
              "max    ...                 239.788800                 203.311300   \n",
              "\n",
              "       tqwt_kurtosisValue_dec_30  tqwt_kurtosisValue_dec_31  \\\n",
              "count                 756.000000                 756.000000   \n",
              "mean                   18.587888                  13.872018   \n",
              "std                    25.537464                  20.046029   \n",
              "min                     1.582900                   1.747200   \n",
              "25%                     3.354825                   3.077450   \n",
              "50%                     6.077400                   4.770850   \n",
              "75%                    21.944050                  13.188000   \n",
              "max                   121.542900                 102.207000   \n",
              "\n",
              "       tqwt_kurtosisValue_dec_32  tqwt_kurtosisValue_dec_33  \\\n",
              "count                 756.000000                 756.000000   \n",
              "mean                   12.218953                  12.375335   \n",
              "std                    17.783642                  16.341665   \n",
              "min                     1.789500                   1.628700   \n",
              "25%                     2.937025                   3.114375   \n",
              "50%                     4.300450                   4.741450   \n",
              "75%                    10.876150                  12.201325   \n",
              "max                    85.571700                  73.532200   \n",
              "\n",
              "       tqwt_kurtosisValue_dec_34  tqwt_kurtosisValue_dec_35  \\\n",
              "count                 756.000000                 756.000000   \n",
              "mean                   14.799230                  14.751559   \n",
              "std                    15.722502                  14.432979   \n",
              "min                     1.861700                   1.955900   \n",
              "25%                     3.665925                   3.741275   \n",
              "50%                     6.725700                   7.334250   \n",
              "75%                    21.922050                  22.495175   \n",
              "max                    62.007300                  57.544300   \n",
              "\n",
              "       tqwt_kurtosisValue_dec_36      status  \n",
              "count                 756.000000  756.000000  \n",
              "mean                   31.481110    0.746032  \n",
              "std                    34.230991    0.435568  \n",
              "min                     2.364000    0.000000  \n",
              "25%                     3.948750    0.000000  \n",
              "50%                    10.637250    1.000000  \n",
              "75%                    61.125325    1.000000  \n",
              "max                   156.423700    1.000000  \n",
              "\n",
              "[8 rows x 755 columns]"
            ],
            "text/html": [
              "\n",
              "\n",
              "  <div id=\"df-fae178d1-db70-4f63-9c96-5d373ccc4cac\">\n",
              "    <div class=\"colab-df-container\">\n",
              "      <div>\n",
              "<style scoped>\n",
              "    .dataframe tbody tr th:only-of-type {\n",
              "        vertical-align: middle;\n",
              "    }\n",
              "\n",
              "    .dataframe tbody tr th {\n",
              "        vertical-align: top;\n",
              "    }\n",
              "\n",
              "    .dataframe thead th {\n",
              "        text-align: right;\n",
              "    }\n",
              "</style>\n",
              "<table border=\"1\" class=\"dataframe\">\n",
              "  <thead>\n",
              "    <tr style=\"text-align: right;\">\n",
              "      <th></th>\n",
              "      <th>id</th>\n",
              "      <th>gender</th>\n",
              "      <th>PPE</th>\n",
              "      <th>DFA</th>\n",
              "      <th>RPDE</th>\n",
              "      <th>numPulses</th>\n",
              "      <th>numPeriodsPulses</th>\n",
              "      <th>meanPeriodPulses</th>\n",
              "      <th>stdDevPeriodPulses</th>\n",
              "      <th>locPctJitter</th>\n",
              "      <th>...</th>\n",
              "      <th>tqwt_kurtosisValue_dec_28</th>\n",
              "      <th>tqwt_kurtosisValue_dec_29</th>\n",
              "      <th>tqwt_kurtosisValue_dec_30</th>\n",
              "      <th>tqwt_kurtosisValue_dec_31</th>\n",
              "      <th>tqwt_kurtosisValue_dec_32</th>\n",
              "      <th>tqwt_kurtosisValue_dec_33</th>\n",
              "      <th>tqwt_kurtosisValue_dec_34</th>\n",
              "      <th>tqwt_kurtosisValue_dec_35</th>\n",
              "      <th>tqwt_kurtosisValue_dec_36</th>\n",
              "      <th>status</th>\n",
              "    </tr>\n",
              "  </thead>\n",
              "  <tbody>\n",
              "    <tr>\n",
              "      <th>count</th>\n",
              "      <td>756.000000</td>\n",
              "      <td>756.000000</td>\n",
              "      <td>756.000000</td>\n",
              "      <td>756.000000</td>\n",
              "      <td>756.000000</td>\n",
              "      <td>756.000000</td>\n",
              "      <td>756.000000</td>\n",
              "      <td>756.000000</td>\n",
              "      <td>756.000000</td>\n",
              "      <td>756.000000</td>\n",
              "      <td>...</td>\n",
              "      <td>756.000000</td>\n",
              "      <td>756.000000</td>\n",
              "      <td>756.000000</td>\n",
              "      <td>756.000000</td>\n",
              "      <td>756.000000</td>\n",
              "      <td>756.000000</td>\n",
              "      <td>756.000000</td>\n",
              "      <td>756.000000</td>\n",
              "      <td>756.000000</td>\n",
              "      <td>756.000000</td>\n",
              "    </tr>\n",
              "    <tr>\n",
              "      <th>mean</th>\n",
              "      <td>125.500000</td>\n",
              "      <td>0.515873</td>\n",
              "      <td>0.746284</td>\n",
              "      <td>0.700414</td>\n",
              "      <td>0.489058</td>\n",
              "      <td>323.972222</td>\n",
              "      <td>322.678571</td>\n",
              "      <td>0.006360</td>\n",
              "      <td>0.000383</td>\n",
              "      <td>0.002324</td>\n",
              "      <td>...</td>\n",
              "      <td>26.237251</td>\n",
              "      <td>22.840337</td>\n",
              "      <td>18.587888</td>\n",
              "      <td>13.872018</td>\n",
              "      <td>12.218953</td>\n",
              "      <td>12.375335</td>\n",
              "      <td>14.799230</td>\n",
              "      <td>14.751559</td>\n",
              "      <td>31.481110</td>\n",
              "      <td>0.746032</td>\n",
              "    </tr>\n",
              "    <tr>\n",
              "      <th>std</th>\n",
              "      <td>72.793721</td>\n",
              "      <td>0.500079</td>\n",
              "      <td>0.169294</td>\n",
              "      <td>0.069718</td>\n",
              "      <td>0.137442</td>\n",
              "      <td>99.219059</td>\n",
              "      <td>99.402499</td>\n",
              "      <td>0.001826</td>\n",
              "      <td>0.000728</td>\n",
              "      <td>0.002628</td>\n",
              "      <td>...</td>\n",
              "      <td>42.220693</td>\n",
              "      <td>32.626464</td>\n",
              "      <td>25.537464</td>\n",
              "      <td>20.046029</td>\n",
              "      <td>17.783642</td>\n",
              "      <td>16.341665</td>\n",
              "      <td>15.722502</td>\n",
              "      <td>14.432979</td>\n",
              "      <td>34.230991</td>\n",
              "      <td>0.435568</td>\n",
              "    </tr>\n",
              "    <tr>\n",
              "      <th>min</th>\n",
              "      <td>0.000000</td>\n",
              "      <td>0.000000</td>\n",
              "      <td>0.041551</td>\n",
              "      <td>0.543500</td>\n",
              "      <td>0.154300</td>\n",
              "      <td>2.000000</td>\n",
              "      <td>1.000000</td>\n",
              "      <td>0.002107</td>\n",
              "      <td>0.000011</td>\n",
              "      <td>0.000210</td>\n",
              "      <td>...</td>\n",
              "      <td>1.509800</td>\n",
              "      <td>1.531700</td>\n",
              "      <td>1.582900</td>\n",
              "      <td>1.747200</td>\n",
              "      <td>1.789500</td>\n",
              "      <td>1.628700</td>\n",
              "      <td>1.861700</td>\n",
              "      <td>1.955900</td>\n",
              "      <td>2.364000</td>\n",
              "      <td>0.000000</td>\n",
              "    </tr>\n",
              "    <tr>\n",
              "      <th>25%</th>\n",
              "      <td>62.750000</td>\n",
              "      <td>0.000000</td>\n",
              "      <td>0.762833</td>\n",
              "      <td>0.647053</td>\n",
              "      <td>0.386537</td>\n",
              "      <td>251.000000</td>\n",
              "      <td>250.000000</td>\n",
              "      <td>0.005003</td>\n",
              "      <td>0.000049</td>\n",
              "      <td>0.000970</td>\n",
              "      <td>...</td>\n",
              "      <td>2.408675</td>\n",
              "      <td>3.452800</td>\n",
              "      <td>3.354825</td>\n",
              "      <td>3.077450</td>\n",
              "      <td>2.937025</td>\n",
              "      <td>3.114375</td>\n",
              "      <td>3.665925</td>\n",
              "      <td>3.741275</td>\n",
              "      <td>3.948750</td>\n",
              "      <td>0.000000</td>\n",
              "    </tr>\n",
              "    <tr>\n",
              "      <th>50%</th>\n",
              "      <td>125.500000</td>\n",
              "      <td>1.000000</td>\n",
              "      <td>0.809655</td>\n",
              "      <td>0.700525</td>\n",
              "      <td>0.484355</td>\n",
              "      <td>317.000000</td>\n",
              "      <td>316.000000</td>\n",
              "      <td>0.006048</td>\n",
              "      <td>0.000077</td>\n",
              "      <td>0.001495</td>\n",
              "      <td>...</td>\n",
              "      <td>5.586300</td>\n",
              "      <td>7.062750</td>\n",
              "      <td>6.077400</td>\n",
              "      <td>4.770850</td>\n",
              "      <td>4.300450</td>\n",
              "      <td>4.741450</td>\n",
              "      <td>6.725700</td>\n",
              "      <td>7.334250</td>\n",
              "      <td>10.637250</td>\n",
              "      <td>1.000000</td>\n",
              "    </tr>\n",
              "    <tr>\n",
              "      <th>75%</th>\n",
              "      <td>188.250000</td>\n",
              "      <td>1.000000</td>\n",
              "      <td>0.834315</td>\n",
              "      <td>0.754985</td>\n",
              "      <td>0.586515</td>\n",
              "      <td>384.250000</td>\n",
              "      <td>383.250000</td>\n",
              "      <td>0.007528</td>\n",
              "      <td>0.000171</td>\n",
              "      <td>0.002520</td>\n",
              "      <td>...</td>\n",
              "      <td>28.958075</td>\n",
              "      <td>29.830850</td>\n",
              "      <td>21.944050</td>\n",
              "      <td>13.188000</td>\n",
              "      <td>10.876150</td>\n",
              "      <td>12.201325</td>\n",
              "      <td>21.922050</td>\n",
              "      <td>22.495175</td>\n",
              "      <td>61.125325</td>\n",
              "      <td>1.000000</td>\n",
              "    </tr>\n",
              "    <tr>\n",
              "      <th>max</th>\n",
              "      <td>251.000000</td>\n",
              "      <td>1.000000</td>\n",
              "      <td>0.907660</td>\n",
              "      <td>0.852640</td>\n",
              "      <td>0.871230</td>\n",
              "      <td>907.000000</td>\n",
              "      <td>905.000000</td>\n",
              "      <td>0.012966</td>\n",
              "      <td>0.003483</td>\n",
              "      <td>0.027750</td>\n",
              "      <td>...</td>\n",
              "      <td>239.788800</td>\n",
              "      <td>203.311300</td>\n",
              "      <td>121.542900</td>\n",
              "      <td>102.207000</td>\n",
              "      <td>85.571700</td>\n",
              "      <td>73.532200</td>\n",
              "      <td>62.007300</td>\n",
              "      <td>57.544300</td>\n",
              "      <td>156.423700</td>\n",
              "      <td>1.000000</td>\n",
              "    </tr>\n",
              "  </tbody>\n",
              "</table>\n",
              "<p>8 rows × 755 columns</p>\n",
              "</div>\n",
              "      <button class=\"colab-df-convert\" onclick=\"convertToInteractive('df-fae178d1-db70-4f63-9c96-5d373ccc4cac')\"\n",
              "              title=\"Convert this dataframe to an interactive table.\"\n",
              "              style=\"display:none;\">\n",
              "\n",
              "  <svg xmlns=\"http://www.w3.org/2000/svg\" height=\"24px\"viewBox=\"0 0 24 24\"\n",
              "       width=\"24px\">\n",
              "    <path d=\"M0 0h24v24H0V0z\" fill=\"none\"/>\n",
              "    <path d=\"M18.56 5.44l.94 2.06.94-2.06 2.06-.94-2.06-.94-.94-2.06-.94 2.06-2.06.94zm-11 1L8.5 8.5l.94-2.06 2.06-.94-2.06-.94L8.5 2.5l-.94 2.06-2.06.94zm10 10l.94 2.06.94-2.06 2.06-.94-2.06-.94-.94-2.06-.94 2.06-2.06.94z\"/><path d=\"M17.41 7.96l-1.37-1.37c-.4-.4-.92-.59-1.43-.59-.52 0-1.04.2-1.43.59L10.3 9.45l-7.72 7.72c-.78.78-.78 2.05 0 2.83L4 21.41c.39.39.9.59 1.41.59.51 0 1.02-.2 1.41-.59l7.78-7.78 2.81-2.81c.8-.78.8-2.07 0-2.86zM5.41 20L4 18.59l7.72-7.72 1.47 1.35L5.41 20z\"/>\n",
              "  </svg>\n",
              "      </button>\n",
              "\n",
              "\n",
              "\n",
              "    <div id=\"df-d0f0000b-7ee5-4a85-98ef-ae0d7576a116\">\n",
              "      <button class=\"colab-df-quickchart\" onclick=\"quickchart('df-d0f0000b-7ee5-4a85-98ef-ae0d7576a116')\"\n",
              "              title=\"Suggest charts.\"\n",
              "              style=\"display:none;\">\n",
              "\n",
              "<svg xmlns=\"http://www.w3.org/2000/svg\" height=\"24px\"viewBox=\"0 0 24 24\"\n",
              "     width=\"24px\">\n",
              "    <g>\n",
              "        <path d=\"M19 3H5c-1.1 0-2 .9-2 2v14c0 1.1.9 2 2 2h14c1.1 0 2-.9 2-2V5c0-1.1-.9-2-2-2zM9 17H7v-7h2v7zm4 0h-2V7h2v10zm4 0h-2v-4h2v4z\"/>\n",
              "    </g>\n",
              "</svg>\n",
              "      </button>\n",
              "    </div>\n",
              "\n",
              "<style>\n",
              "  .colab-df-quickchart {\n",
              "    background-color: #E8F0FE;\n",
              "    border: none;\n",
              "    border-radius: 50%;\n",
              "    cursor: pointer;\n",
              "    display: none;\n",
              "    fill: #1967D2;\n",
              "    height: 32px;\n",
              "    padding: 0 0 0 0;\n",
              "    width: 32px;\n",
              "  }\n",
              "\n",
              "  .colab-df-quickchart:hover {\n",
              "    background-color: #E2EBFA;\n",
              "    box-shadow: 0px 1px 2px rgba(60, 64, 67, 0.3), 0px 1px 3px 1px rgba(60, 64, 67, 0.15);\n",
              "    fill: #174EA6;\n",
              "  }\n",
              "\n",
              "  [theme=dark] .colab-df-quickchart {\n",
              "    background-color: #3B4455;\n",
              "    fill: #D2E3FC;\n",
              "  }\n",
              "\n",
              "  [theme=dark] .colab-df-quickchart:hover {\n",
              "    background-color: #434B5C;\n",
              "    box-shadow: 0px 1px 3px 1px rgba(0, 0, 0, 0.15);\n",
              "    filter: drop-shadow(0px 1px 2px rgba(0, 0, 0, 0.3));\n",
              "    fill: #FFFFFF;\n",
              "  }\n",
              "</style>\n",
              "\n",
              "    <script>\n",
              "      async function quickchart(key) {\n",
              "        const containerElement = document.querySelector('#' + key);\n",
              "        const charts = await google.colab.kernel.invokeFunction(\n",
              "            'suggestCharts', [key], {});\n",
              "      }\n",
              "    </script>\n",
              "\n",
              "      <script>\n",
              "\n",
              "function displayQuickchartButton(domScope) {\n",
              "  let quickchartButtonEl =\n",
              "    domScope.querySelector('#df-d0f0000b-7ee5-4a85-98ef-ae0d7576a116 button.colab-df-quickchart');\n",
              "  quickchartButtonEl.style.display =\n",
              "    google.colab.kernel.accessAllowed ? 'block' : 'none';\n",
              "}\n",
              "\n",
              "        displayQuickchartButton(document);\n",
              "      </script>\n",
              "      <style>\n",
              "    .colab-df-container {\n",
              "      display:flex;\n",
              "      flex-wrap:wrap;\n",
              "      gap: 12px;\n",
              "    }\n",
              "\n",
              "    .colab-df-convert {\n",
              "      background-color: #E8F0FE;\n",
              "      border: none;\n",
              "      border-radius: 50%;\n",
              "      cursor: pointer;\n",
              "      display: none;\n",
              "      fill: #1967D2;\n",
              "      height: 32px;\n",
              "      padding: 0 0 0 0;\n",
              "      width: 32px;\n",
              "    }\n",
              "\n",
              "    .colab-df-convert:hover {\n",
              "      background-color: #E2EBFA;\n",
              "      box-shadow: 0px 1px 2px rgba(60, 64, 67, 0.3), 0px 1px 3px 1px rgba(60, 64, 67, 0.15);\n",
              "      fill: #174EA6;\n",
              "    }\n",
              "\n",
              "    [theme=dark] .colab-df-convert {\n",
              "      background-color: #3B4455;\n",
              "      fill: #D2E3FC;\n",
              "    }\n",
              "\n",
              "    [theme=dark] .colab-df-convert:hover {\n",
              "      background-color: #434B5C;\n",
              "      box-shadow: 0px 1px 3px 1px rgba(0, 0, 0, 0.15);\n",
              "      filter: drop-shadow(0px 1px 2px rgba(0, 0, 0, 0.3));\n",
              "      fill: #FFFFFF;\n",
              "    }\n",
              "  </style>\n",
              "\n",
              "      <script>\n",
              "        const buttonEl =\n",
              "          document.querySelector('#df-fae178d1-db70-4f63-9c96-5d373ccc4cac button.colab-df-convert');\n",
              "        buttonEl.style.display =\n",
              "          google.colab.kernel.accessAllowed ? 'block' : 'none';\n",
              "\n",
              "        async function convertToInteractive(key) {\n",
              "          const element = document.querySelector('#df-fae178d1-db70-4f63-9c96-5d373ccc4cac');\n",
              "          const dataTable =\n",
              "            await google.colab.kernel.invokeFunction('convertToInteractive',\n",
              "                                                     [key], {});\n",
              "          if (!dataTable) return;\n",
              "\n",
              "          const docLinkHtml = 'Like what you see? Visit the ' +\n",
              "            '<a target=\"_blank\" href=https://colab.research.google.com/notebooks/data_table.ipynb>data table notebook</a>'\n",
              "            + ' to learn more about interactive tables.';\n",
              "          element.innerHTML = '';\n",
              "          dataTable['output_type'] = 'display_data';\n",
              "          await google.colab.output.renderOutput(dataTable, element);\n",
              "          const docLink = document.createElement('div');\n",
              "          docLink.innerHTML = docLinkHtml;\n",
              "          element.appendChild(docLink);\n",
              "        }\n",
              "      </script>\n",
              "    </div>\n",
              "  </div>\n"
            ]
          },
          "metadata": {},
          "execution_count": 4
        }
      ],
      "source": [
        "# descrive the data\n",
        "\n",
        "df.describe()"
      ]
    },
    {
      "cell_type": "code",
      "execution_count": null,
      "id": "5fb62ed5",
      "metadata": {
        "execution": {
          "iopub.execute_input": "2023-03-12T16:30:22.645807Z",
          "iopub.status.busy": "2023-03-12T16:30:22.645027Z",
          "iopub.status.idle": "2023-03-12T16:30:22.668344Z",
          "shell.execute_reply": "2023-03-12T16:30:22.667026Z"
        },
        "papermill": {
          "duration": 0.041469,
          "end_time": "2023-03-12T16:30:22.671129",
          "exception": false,
          "start_time": "2023-03-12T16:30:22.629660",
          "status": "completed"
        },
        "tags": [],
        "colab": {
          "base_uri": "https://localhost:8080/"
        },
        "id": "5fb62ed5",
        "outputId": "ebb800f8-6f9f-473c-e7d2-d7f5f39c413d"
      },
      "outputs": [
        {
          "output_type": "stream",
          "name": "stdout",
          "text": [
            "<class 'pandas.core.frame.DataFrame'>\n",
            "RangeIndex: 756 entries, 0 to 755\n",
            "Columns: 755 entries, id to status\n",
            "dtypes: float64(749), int64(6)\n",
            "memory usage: 4.4 MB\n"
          ]
        }
      ],
      "source": [
        "#  To know how many rows and cols and NA values\n",
        "\n",
        "df.info()"
      ]
    },
    {
      "cell_type": "code",
      "execution_count": null,
      "id": "8aef0af5",
      "metadata": {
        "execution": {
          "iopub.execute_input": "2023-03-12T16:30:22.702991Z",
          "iopub.status.busy": "2023-03-12T16:30:22.702043Z",
          "iopub.status.idle": "2023-03-12T16:30:22.709356Z",
          "shell.execute_reply": "2023-03-12T16:30:22.708395Z"
        },
        "papermill": {
          "duration": 0.025147,
          "end_time": "2023-03-12T16:30:22.711696",
          "exception": false,
          "start_time": "2023-03-12T16:30:22.686549",
          "status": "completed"
        },
        "tags": [],
        "colab": {
          "base_uri": "https://localhost:8080/"
        },
        "id": "8aef0af5",
        "outputId": "9a210d4e-58f8-436f-e2dc-7642062a9719"
      },
      "outputs": [
        {
          "output_type": "execute_result",
          "data": {
            "text/plain": [
              "(756, 755)"
            ]
          },
          "metadata": {},
          "execution_count": 7
        }
      ],
      "source": [
        "#  shape of the dataset\n",
        "\n",
        "df.shape"
      ]
    },
    {
      "cell_type": "code",
      "execution_count": null,
      "id": "4b99e6b0",
      "metadata": {
        "execution": {
          "iopub.execute_input": "2023-03-12T16:30:22.742326Z",
          "iopub.status.busy": "2023-03-12T16:30:22.741620Z",
          "iopub.status.idle": "2023-03-12T16:30:22.757422Z",
          "shell.execute_reply": "2023-03-12T16:30:22.756023Z"
        },
        "papermill": {
          "duration": 0.034959,
          "end_time": "2023-03-12T16:30:22.760819",
          "exception": false,
          "start_time": "2023-03-12T16:30:22.725860",
          "status": "completed"
        },
        "tags": [],
        "id": "4b99e6b0"
      },
      "outputs": [],
      "source": [
        "#Get the features and labels\n",
        "X_un=df.copy()\n",
        "X_un=X_un.drop(['id','gender','status'],axis=1)\n",
        "y_un=df[['status']]"
      ]
    },
    {
      "cell_type": "code",
      "execution_count": null,
      "id": "cd545588",
      "metadata": {
        "execution": {
          "iopub.execute_input": "2023-03-12T16:30:22.804150Z",
          "iopub.status.busy": "2023-03-12T16:30:22.802980Z",
          "iopub.status.idle": "2023-03-12T16:30:22.815487Z",
          "shell.execute_reply": "2023-03-12T16:30:22.814460Z"
        },
        "papermill": {
          "duration": 0.037186,
          "end_time": "2023-03-12T16:30:22.818316",
          "exception": false,
          "start_time": "2023-03-12T16:30:22.781130",
          "status": "completed"
        },
        "tags": [],
        "colab": {
          "base_uri": "https://localhost:8080/"
        },
        "id": "cd545588",
        "outputId": "bb684da8-c97d-4c3a-e90b-d6f9eedcffe3"
      },
      "outputs": [
        {
          "output_type": "execute_result",
          "data": {
            "text/plain": [
              "status\n",
              "1         564\n",
              "0         192\n",
              "dtype: int64"
            ]
          },
          "metadata": {},
          "execution_count": 10
        }
      ],
      "source": [
        "#0 is healthy 1 is parkison affected\n",
        "y_un.value_counts()"
      ]
    },
    {
      "cell_type": "code",
      "execution_count": null,
      "id": "195a5179",
      "metadata": {
        "execution": {
          "iopub.execute_input": "2023-03-12T16:30:22.859203Z",
          "iopub.status.busy": "2023-03-12T16:30:22.858351Z",
          "iopub.status.idle": "2023-03-12T16:30:23.067915Z",
          "shell.execute_reply": "2023-03-12T16:30:23.066086Z"
        },
        "papermill": {
          "duration": 0.233849,
          "end_time": "2023-03-12T16:30:23.072976",
          "exception": false,
          "start_time": "2023-03-12T16:30:22.839127",
          "status": "completed"
        },
        "tags": [],
        "colab": {
          "base_uri": "https://localhost:8080/",
          "height": 424
        },
        "id": "195a5179",
        "outputId": "88906498-acd0-4044-b467-3aa240ac2536"
      },
      "outputs": [
        {
          "output_type": "execute_result",
          "data": {
            "text/plain": [
              "<Axes: ylabel='status'>"
            ]
          },
          "metadata": {},
          "execution_count": 11
        },
        {
          "output_type": "display_data",
          "data": {
            "text/plain": [
              "<Figure size 640x480 with 1 Axes>"
            ],
            "image/png": "[encoded data removed]"
          },
          "metadata": {}
        }
      ],
      "source": [
        "df['status'].value_counts().plot(kind='pie', autopct = \"%1.0f%%\")"
      ]
    },
    {
      "cell_type": "code",
      "execution_count": null,
      "id": "26489c4d",
      "metadata": {
        "execution": {
          "iopub.execute_input": "2023-03-12T16:30:23.134375Z",
          "iopub.status.busy": "2023-03-12T16:30:23.133947Z",
          "iopub.status.idle": "2023-03-12T16:30:23.711935Z",
          "shell.execute_reply": "2023-03-12T16:30:23.710658Z"
        },
        "papermill": {
          "duration": 0.601575,
          "end_time": "2023-03-12T16:30:23.714389",
          "exception": false,
          "start_time": "2023-03-12T16:30:23.112814",
          "status": "completed"
        },
        "tags": [],
        "colab": {
          "base_uri": "https://localhost:8080/",
          "height": 386
        },
        "id": "26489c4d",
        "outputId": "b6cb7396-c1ed-48d8-d0d0-f75bfcdb894e"
      },
      "outputs": [
        {
          "output_type": "execute_result",
          "data": {
            "text/plain": [
              "<Axes: >"
            ]
          },
          "metadata": {},
          "execution_count": 12
        },
        {
          "output_type": "display_data",
          "data": {
            "text/plain": [
              "<Figure size 1500x700 with 1 Axes>"
            ],
            "image/png": "[encoded data removed]"
          },
          "metadata": {}
        }
      ],
      "source": [
        "X_un.boxplot(figsize=(15,7))"
      ]
    },
    {
      "cell_type": "code",
      "execution_count": null,
      "id": "3f74fc15",
      "metadata": {
        "execution": {
          "iopub.execute_input": "2023-03-12T16:30:23.748085Z",
          "iopub.status.busy": "2023-03-12T16:30:23.747599Z",
          "iopub.status.idle": "2023-03-12T16:30:23.765211Z",
          "shell.execute_reply": "2023-03-12T16:30:23.763850Z"
        },
        "papermill": {
          "duration": 0.037572,
          "end_time": "2023-03-12T16:30:23.767906",
          "exception": false,
          "start_time": "2023-03-12T16:30:23.730334",
          "status": "completed"
        },
        "tags": [],
        "id": "3f74fc15"
      },
      "outputs": [],
      "source": [
        "from sklearn.model_selection import StratifiedShuffleSplit\n",
        "split=StratifiedShuffleSplit(n_splits=3,test_size=0.2,random_state=24)\n",
        "\n",
        "for train_index,test_index in split.split(X_un,y_un):\n",
        "    strat_train_set_x,strat_train_y=X_un.loc[train_index],y_un.loc[train_index]\n",
        "    strat_test_set_x,strat_test_y=X_un.loc[test_index],y_un.loc[test_index] #completely unseen to our classifier"
      ]
    },
    {
      "cell_type": "code",
      "execution_count": null,
      "id": "f82e0a39",
      "metadata": {
        "execution": {
          "iopub.execute_input": "2023-03-12T16:30:23.800732Z",
          "iopub.status.busy": "2023-03-12T16:30:23.800208Z",
          "iopub.status.idle": "2023-03-12T16:30:23.807129Z",
          "shell.execute_reply": "2023-03-12T16:30:23.805847Z"
        },
        "papermill": {
          "duration": 0.026331,
          "end_time": "2023-03-12T16:30:23.809755",
          "exception": false,
          "start_time": "2023-03-12T16:30:23.783424",
          "status": "completed"
        },
        "tags": [],
        "colab": {
          "base_uri": "https://localhost:8080/"
        },
        "id": "f82e0a39",
        "outputId": "fcdc0a5e-d773-4b56-fe0f-b248c80159ae"
      },
      "outputs": [
        {
          "output_type": "stream",
          "name": "stdout",
          "text": [
            "(604, 752) (604, 1)\n",
            "(152, 752) (152, 1)\n"
          ]
        }
      ],
      "source": [
        "print(strat_train_set_x.shape,strat_train_y.shape)\n",
        "print(strat_test_set_x.shape,strat_test_y.shape)"
      ]
    },
    {
      "cell_type": "markdown",
      "id": "032b9780",
      "metadata": {
        "papermill": {
          "duration": 0.015216,
          "end_time": "2023-03-12T16:30:23.840384",
          "exception": false,
          "start_time": "2023-03-12T16:30:23.825168",
          "status": "completed"
        },
        "tags": [],
        "id": "032b9780"
      },
      "source": [
        "# without cross validation and without scaling"
      ]
    },
    {
      "cell_type": "code",
      "execution_count": null,
      "id": "df483745",
      "metadata": {
        "execution": {
          "iopub.execute_input": "2023-03-12T16:30:23.874521Z",
          "iopub.status.busy": "2023-03-12T16:30:23.873997Z",
          "iopub.status.idle": "2023-03-12T16:30:24.159804Z",
          "shell.execute_reply": "2023-03-12T16:30:24.158614Z"
        },
        "papermill": {
          "duration": 0.306251,
          "end_time": "2023-03-12T16:30:24.163036",
          "exception": false,
          "start_time": "2023-03-12T16:30:23.856785",
          "status": "completed"
        },
        "tags": [],
        "colab": {
          "base_uri": "https://localhost:8080/"
        },
        "id": "df483745",
        "outputId": "775f68a8-b7a1-4cb4-9639-9a1c0516e07e"
      },
      "outputs": [
        {
          "output_type": "stream",
          "name": "stderr",
          "text": [
            "/usr/local/lib/python3.10/dist-packages/xgboost/sklearn.py:1395: UserWarning: `use_label_encoder` is deprecated in 1.7.0.\n",
            "  warnings.warn(\"`use_label_encoder` is deprecated in 1.7.0.\")\n"
          ]
        },
        {
          "output_type": "stream",
          "name": "stdout",
          "text": [
            "accuracy score 0.90\n",
            "recall score 0.90\n"
          ]
        }
      ],
      "source": [
        "#Train the model\n",
        "from sklearn.metrics import precision_score, accuracy_score,recall_score\n",
        "model=XGBClassifier(use_label_encoder=False,eval_metric='rmse')\n",
        "model.fit(strat_train_set_x,strat_train_y)\n",
        "y_pred=model.predict(strat_test_set_x)\n",
        "\n",
        "print('accuracy score %.2f'% accuracy_score(y_pred,strat_test_y))\n",
        "print('recall score %.2f'%recall_score(y_pred,strat_test_y))\n"
      ]
    },
    {
      "cell_type": "code",
      "execution_count": null,
      "id": "ee4a5464",
      "metadata": {
        "execution": {
          "iopub.execute_input": "2023-03-12T16:30:24.199354Z",
          "iopub.status.busy": "2023-03-12T16:30:24.198927Z",
          "iopub.status.idle": "2023-03-12T16:30:24.213087Z",
          "shell.execute_reply": "2023-03-12T16:30:24.211533Z"
        },
        "papermill": {
          "duration": 0.035594,
          "end_time": "2023-03-12T16:30:24.216749",
          "exception": false,
          "start_time": "2023-03-12T16:30:24.181155",
          "status": "completed"
        },
        "tags": [],
        "colab": {
          "base_uri": "https://localhost:8080/"
        },
        "id": "ee4a5464",
        "outputId": "bbe6c83b-96b3-440f-9567-c2a02b192e7c"
      },
      "outputs": [
        {
          "output_type": "stream",
          "name": "stdout",
          "text": [
            "Confusion Matrix: \n",
            "\n",
            "Classification Report:\n",
            "              precision    recall  f1-score   support\n",
            "\n",
            "           0       0.67      0.93      0.78        28\n",
            "           1       0.98      0.90      0.94       124\n",
            "\n",
            "    accuracy                           0.90       152\n",
            "   macro avg       0.82      0.91      0.86       152\n",
            "weighted avg       0.92      0.90      0.91       152\n",
            "\n"
          ]
        }
      ],
      "source": [
        "print(\"Confusion Matrix: \")\n",
        "cf_matrix=confusion_matrix(y_pred,strat_test_y)\n",
        "\n",
        "print(\"\\nClassification Report:\")\n",
        "print(classification_report(y_pred,strat_test_y))"
      ]
    },
    {
      "cell_type": "code",
      "execution_count": null,
      "id": "76793e86",
      "metadata": {
        "execution": {
          "iopub.execute_input": "2023-03-12T16:30:24.251996Z",
          "iopub.status.busy": "2023-03-12T16:30:24.250753Z",
          "iopub.status.idle": "2023-03-12T16:30:24.524063Z",
          "shell.execute_reply": "2023-03-12T16:30:24.523191Z"
        },
        "papermill": {
          "duration": 0.292751,
          "end_time": "2023-03-12T16:30:24.526403",
          "exception": false,
          "start_time": "2023-03-12T16:30:24.233652",
          "status": "completed"
        },
        "tags": [],
        "colab": {
          "base_uri": "https://localhost:8080/",
          "height": 664
        },
        "id": "76793e86",
        "outputId": "2fb8649a-f0a5-48ff-e60d-587fe157c408"
      },
      "outputs": [
        {
          "output_type": "stream",
          "name": "stdout",
          "text": [
            "Confusion Matrix: \n",
            "\n",
            "Classification Report:\n",
            "              precision    recall  f1-score   support\n",
            "\n",
            "           0       0.67      0.93      0.78        28\n",
            "           1       0.98      0.90      0.94       124\n",
            "\n",
            "    accuracy                           0.90       152\n",
            "   macro avg       0.82      0.91      0.86       152\n",
            "weighted avg       0.92      0.90      0.91       152\n",
            "\n"
          ]
        },
        {
          "output_type": "execute_result",
          "data": {
            "text/plain": [
              "<Axes: >"
            ]
          },
          "metadata": {},
          "execution_count": 18
        },
        {
          "output_type": "display_data",
          "data": {
            "text/plain": [
              "<Figure size 640x480 with 2 Axes>"
            ],
            "image/png": "[encoded data removed]"
          },
          "metadata": {}
        }
      ],
      "source": [
        "print(\"Confusion Matrix: \")\n",
        "cf_matrix=confusion_matrix(y_pred,strat_test_y)\n",
        "\n",
        "print(\"\\nClassification Report:\")\n",
        "print(classification_report(y_pred,strat_test_y))\n",
        "\n",
        "\n",
        "import seaborn as sns\n",
        "sns.heatmap(cf_matrix, annot=True)"
      ]
    },
    {
      "cell_type": "markdown",
      "id": "7f7a9e09",
      "metadata": {
        "papermill": {
          "duration": 0.015538,
          "end_time": "2023-03-12T16:30:24.558066",
          "exception": false,
          "start_time": "2023-03-12T16:30:24.542528",
          "status": "completed"
        },
        "tags": [],
        "id": "7f7a9e09"
      },
      "source": [
        "# Using ANN"
      ]
    },
    {
      "cell_type": "code",
      "source": [
        "pip install tensorflow-addons\n"
      ],
      "metadata": {
        "colab": {
          "base_uri": "https://localhost:8080/"
        },
        "id": "MVEXJI_jhKLc",
        "outputId": "c69da3a6-f0ba-48a4-bbbb-522b14894fd6"
      },
      "id": "MVEXJI_jhKLc",
      "execution_count": null,
      "outputs": [
        {
          "output_type": "stream",
          "name": "stdout",
          "text": [
            "Collecting tensorflow-addons\n",
            "  Downloading tensorflow_addons-0.21.0-cp310-cp310-manylinux_2_17_x86_64.manylinux2014_x86_64.whl (612 kB)\n",
            "\u001b[?25l     \u001b[90m━━━━━━━━━━━━━━━━━━━━━━━━━━━━━━━━━━━━━━━━\u001b[0m \u001b[32m0.0/612.1 kB\u001b[0m \u001b[31m?\u001b[0m eta \u001b[36m-:--:--\u001b[0m\r\u001b[2K     \u001b[91m━━━━\u001b[0m\u001b[91m╸\u001b[0m\u001b[90m━━━━━━━━━━━━━━━━━━━━━━━━━━━━━━━━━━━\u001b[0m \u001b[32m71.7/612.1 kB\u001b[0m \u001b[31m2.0 MB/s\u001b[0m eta \u001b[36m0:00:01\u001b[0m\r\u001b[2K     \u001b[91m━━━━━━━━━━━━━━━━━━━━━━━━━━━━━━━━━━━\u001b[0m\u001b[91m╸\u001b[0m\u001b[90m━━━\u001b[0m \u001b[32m563.2/612.1 kB\u001b[0m \u001b[31m8.1 MB/s\u001b[0m eta \u001b[36m0:00:01\u001b[0m\r\u001b[2K     \u001b[90m━━━━━━━━━━━━━━━━━━━━━━━━━━━━━━━━━━━━━━━\u001b[0m \u001b[32m612.1/612.1 kB\u001b[0m \u001b[31m7.4 MB/s\u001b[0m eta \u001b[36m0:00:00\u001b[0m\n",
            "\u001b[?25hRequirement already satisfied: packaging in /usr/local/lib/python3.10/dist-packages (from tensorflow-addons) (23.1)\n",
            "Collecting typeguard<3.0.0,>=2.7 (from tensorflow-addons)\n",
            "  Downloading typeguard-2.13.3-py3-none-any.whl (17 kB)\n",
            "Installing collected packages: typeguard, tensorflow-addons\n",
            "Successfully installed tensorflow-addons-0.21.0 typeguard-2.13.3\n"
          ]
        }
      ]
    },
    {
      "cell_type": "code",
      "execution_count": null,
      "id": "9f67ad56",
      "metadata": {
        "execution": {
          "iopub.execute_input": "2023-03-12T16:30:24.592088Z",
          "iopub.status.busy": "2023-03-12T16:30:24.591396Z",
          "iopub.status.idle": "2023-03-12T16:30:33.525538Z",
          "shell.execute_reply": "2023-03-12T16:30:33.524400Z"
        },
        "papermill": {
          "duration": 8.954983,
          "end_time": "2023-03-12T16:30:33.528880",
          "exception": false,
          "start_time": "2023-03-12T16:30:24.573897",
          "status": "completed"
        },
        "tags": [],
        "colab": {
          "base_uri": "https://localhost:8080/"
        },
        "id": "9f67ad56",
        "outputId": "d9b6de38-0135-44c7-900c-f2a0d4e0178d"
      },
      "outputs": [
        {
          "output_type": "stream",
          "name": "stderr",
          "text": [
            "/usr/local/lib/python3.10/dist-packages/tensorflow_addons/utils/tfa_eol_msg.py:23: UserWarning: \n",
            "\n",
            "TensorFlow Addons (TFA) has ended development and introduction of new features.\n",
            "TFA has entered a minimal maintenance and release mode until a planned end of life in May 2024.\n",
            "Please modify downstream libraries to take dependencies from other repositories in our TensorFlow community (e.g. Keras, Keras-CV, and Keras-NLP). \n",
            "\n",
            "For more information see: https://github.com/tensorflow/addons/issues/2807 \n",
            "\n",
            "  warnings.warn(\n"
          ]
        }
      ],
      "source": [
        "import os\n",
        "import numpy as np\n",
        "import pandas as pd\n",
        "import matplotlib.pyplot as plt\n",
        "from sklearn.preprocessing import MinMaxScaler\n",
        "from sklearn.model_selection import train_test_split\n",
        "import tensorflow as tf\n",
        "import tensorflow_addons as tfa\n",
        "from tensorflow.keras.layers import *\n",
        "from tensorflow.keras.models import Sequential\n",
        "from tensorflow.keras.utils import to_categorical"
      ]
    },
    {
      "cell_type": "markdown",
      "id": "ca1bb10f",
      "metadata": {
        "papermill": {
          "duration": 0.015674,
          "end_time": "2023-03-12T16:30:33.560809",
          "exception": false,
          "start_time": "2023-03-12T16:30:33.545135",
          "status": "completed"
        },
        "tags": [],
        "id": "ca1bb10f"
      },
      "source": [
        "# Set Configurations and read data"
      ]
    },
    {
      "cell_type": "code",
      "execution_count": null,
      "id": "3ee4da6c",
      "metadata": {
        "execution": {
          "iopub.execute_input": "2023-03-12T16:30:33.597121Z",
          "iopub.status.busy": "2023-03-12T16:30:33.596054Z",
          "iopub.status.idle": "2023-03-12T16:30:33.609985Z",
          "shell.execute_reply": "2023-03-12T16:30:33.608876Z"
        },
        "papermill": {
          "duration": 0.035858,
          "end_time": "2023-03-12T16:30:33.612901",
          "exception": false,
          "start_time": "2023-03-12T16:30:33.577043",
          "status": "completed"
        },
        "tags": [],
        "id": "3ee4da6c"
      },
      "outputs": [],
      "source": [
        "SEED = 42\n",
        "EPOCHS = 300\n",
        "BATCH_SIZE = 32\n",
        "\n",
        "#df = pd.read_csv('../input/parkinsons-disease-data-set/parkinsons.data')"
      ]
    },
    {
      "cell_type": "code",
      "execution_count": null,
      "id": "45b3dafb",
      "metadata": {
        "execution": {
          "iopub.execute_input": "2023-03-12T16:30:33.646796Z",
          "iopub.status.busy": "2023-03-12T16:30:33.646323Z",
          "iopub.status.idle": "2023-03-12T16:30:33.652903Z",
          "shell.execute_reply": "2023-03-12T16:30:33.651506Z"
        },
        "papermill": {
          "duration": 0.026573,
          "end_time": "2023-03-12T16:30:33.655488",
          "exception": false,
          "start_time": "2023-03-12T16:30:33.628915",
          "status": "completed"
        },
        "tags": [],
        "id": "45b3dafb"
      },
      "outputs": [],
      "source": [
        "def seed_everything(seed):\n",
        "    np.random.seed(seed)\n",
        "    os.environ['PYTHONHASHSEED'] = str(seed)\n",
        "    tf.random.set_seed(seed)\n",
        "\n",
        "seed_everything(SEED)"
      ]
    },
    {
      "cell_type": "markdown",
      "id": "e86811ed",
      "metadata": {
        "papermill": {
          "duration": 0.016307,
          "end_time": "2023-03-12T16:30:33.687659",
          "exception": false,
          "start_time": "2023-03-12T16:30:33.671352",
          "status": "completed"
        },
        "tags": [],
        "id": "e86811ed"
      },
      "source": [
        "# EDA"
      ]
    },
    {
      "cell_type": "code",
      "execution_count": null,
      "id": "4375e86b",
      "metadata": {
        "execution": {
          "iopub.execute_input": "2023-03-12T16:30:33.721603Z",
          "iopub.status.busy": "2023-03-12T16:30:33.721122Z",
          "iopub.status.idle": "2023-03-12T16:30:33.732556Z",
          "shell.execute_reply": "2023-03-12T16:30:33.731252Z"
        },
        "papermill": {
          "duration": 0.031605,
          "end_time": "2023-03-12T16:30:33.735214",
          "exception": false,
          "start_time": "2023-03-12T16:30:33.703609",
          "status": "completed"
        },
        "tags": [],
        "colab": {
          "base_uri": "https://localhost:8080/"
        },
        "id": "4375e86b",
        "outputId": "a8c828b7-6cd1-4ad0-d535-6797ff4bb663"
      },
      "outputs": [
        {
          "output_type": "execute_result",
          "data": {
            "text/plain": [
              "1    147\n",
              "0     48\n",
              "Name: status, dtype: int64"
            ]
          },
          "metadata": {},
          "execution_count": 23
        }
      ],
      "source": [
        "df['status'].value_counts()"
      ]
    },
    {
      "cell_type": "code",
      "execution_count": null,
      "id": "cbfe0019",
      "metadata": {
        "execution": {
          "iopub.execute_input": "2023-03-12T16:30:33.769617Z",
          "iopub.status.busy": "2023-03-12T16:30:33.769083Z",
          "iopub.status.idle": "2023-03-12T16:30:33.856946Z",
          "shell.execute_reply": "2023-03-12T16:30:33.855594Z"
        },
        "papermill": {
          "duration": 0.108602,
          "end_time": "2023-03-12T16:30:33.860031",
          "exception": false,
          "start_time": "2023-03-12T16:30:33.751429",
          "status": "completed"
        },
        "tags": [],
        "colab": {
          "base_uri": "https://localhost:8080/",
          "height": 393
        },
        "id": "cbfe0019",
        "outputId": "af49b292-b654-479d-c10b-a16c6866067f"
      },
      "outputs": [
        {
          "output_type": "execute_result",
          "data": {
            "text/plain": [
              "       MDVP:Fo(Hz)  MDVP:Fhi(Hz)  MDVP:Flo(Hz)  MDVP:Jitter(%)  \\\n",
              "count   195.000000    195.000000    195.000000      195.000000   \n",
              "mean    154.228641    197.104918    116.324631        0.006220   \n",
              "std      41.390065     91.491548     43.521413        0.004848   \n",
              "min      88.333000    102.145000     65.476000        0.001680   \n",
              "25%     117.572000    134.862500     84.291000        0.003460   \n",
              "50%     148.790000    175.829000    104.315000        0.004940   \n",
              "75%     182.769000    224.205500    140.018500        0.007365   \n",
              "max     260.105000    592.030000    239.170000        0.033160   \n",
              "\n",
              "       MDVP:Jitter(Abs)    MDVP:RAP    MDVP:PPQ  Jitter:DDP  MDVP:Shimmer  \\\n",
              "count        195.000000  195.000000  195.000000  195.000000    195.000000   \n",
              "mean           0.000044    0.003306    0.003446    0.009920      0.029709   \n",
              "std            0.000035    0.002968    0.002759    0.008903      0.018857   \n",
              "min            0.000007    0.000680    0.000920    0.002040      0.009540   \n",
              "25%            0.000020    0.001660    0.001860    0.004985      0.016505   \n",
              "50%            0.000030    0.002500    0.002690    0.007490      0.022970   \n",
              "75%            0.000060    0.003835    0.003955    0.011505      0.037885   \n",
              "max            0.000260    0.021440    0.019580    0.064330      0.119080   \n",
              "\n",
              "       MDVP:Shimmer(dB)  ...  Shimmer:DDA         NHR         HNR      status  \\\n",
              "count        195.000000  ...   195.000000  195.000000  195.000000  195.000000   \n",
              "mean           0.282251  ...     0.046993    0.024847   21.885974    0.753846   \n",
              "std            0.194877  ...     0.030459    0.040418    4.425764    0.431878   \n",
              "min            0.085000  ...     0.013640    0.000650    8.441000    0.000000   \n",
              "25%            0.148500  ...     0.024735    0.005925   19.198000    1.000000   \n",
              "50%            0.221000  ...     0.038360    0.011660   22.085000    1.000000   \n",
              "75%            0.350000  ...     0.060795    0.025640   25.075500    1.000000   \n",
              "max            1.302000  ...     0.169420    0.314820   33.047000    1.000000   \n",
              "\n",
              "             RPDE         DFA     spread1     spread2          D2         PPE  \n",
              "count  195.000000  195.000000  195.000000  195.000000  195.000000  195.000000  \n",
              "mean     0.498536    0.718099   -5.684397    0.226510    2.381826    0.206552  \n",
              "std      0.103942    0.055336    1.090208    0.083406    0.382799    0.090119  \n",
              "min      0.256570    0.574282   -7.964984    0.006274    1.423287    0.044539  \n",
              "25%      0.421306    0.674758   -6.450096    0.174351    2.099125    0.137451  \n",
              "50%      0.495954    0.722254   -5.720868    0.218885    2.361532    0.194052  \n",
              "75%      0.587562    0.761881   -5.046192    0.279234    2.636456    0.252980  \n",
              "max      0.685151    0.825288   -2.434031    0.450493    3.671155    0.527367  \n",
              "\n",
              "[8 rows x 23 columns]"
            ],
            "text/html": [
              "\n",
              "\n",
              "  <div id=\"df-4e90d407-acd1-4473-bdfe-1ad15438a7d7\">\n",
              "    <div class=\"colab-df-container\">\n",
              "      <div>\n",
              "<style scoped>\n",
              "    .dataframe tbody tr th:only-of-type {\n",
              "        vertical-align: middle;\n",
              "    }\n",
              "\n",
              "    .dataframe tbody tr th {\n",
              "        vertical-align: top;\n",
              "    }\n",
              "\n",
              "    .dataframe thead th {\n",
              "        text-align: right;\n",
              "    }\n",
              "</style>\n",
              "<table border=\"1\" class=\"dataframe\">\n",
              "  <thead>\n",
              "    <tr style=\"text-align: right;\">\n",
              "      <th></th>\n",
              "      <th>MDVP:Fo(Hz)</th>\n",
              "      <th>MDVP:Fhi(Hz)</th>\n",
              "      <th>MDVP:Flo(Hz)</th>\n",
              "      <th>MDVP:Jitter(%)</th>\n",
              "      <th>MDVP:Jitter(Abs)</th>\n",
              "      <th>MDVP:RAP</th>\n",
              "      <th>MDVP:PPQ</th>\n",
              "      <th>Jitter:DDP</th>\n",
              "      <th>MDVP:Shimmer</th>\n",
              "      <th>MDVP:Shimmer(dB)</th>\n",
              "      <th>...</th>\n",
              "      <th>Shimmer:DDA</th>\n",
              "      <th>NHR</th>\n",
              "      <th>HNR</th>\n",
              "      <th>status</th>\n",
              "      <th>RPDE</th>\n",
              "      <th>DFA</th>\n",
              "      <th>spread1</th>\n",
              "      <th>spread2</th>\n",
              "      <th>D2</th>\n",
              "      <th>PPE</th>\n",
              "    </tr>\n",
              "  </thead>\n",
              "  <tbody>\n",
              "    <tr>\n",
              "      <th>count</th>\n",
              "      <td>195.000000</td>\n",
              "      <td>195.000000</td>\n",
              "      <td>195.000000</td>\n",
              "      <td>195.000000</td>\n",
              "      <td>195.000000</td>\n",
              "      <td>195.000000</td>\n",
              "      <td>195.000000</td>\n",
              "      <td>195.000000</td>\n",
              "      <td>195.000000</td>\n",
              "      <td>195.000000</td>\n",
              "      <td>...</td>\n",
              "      <td>195.000000</td>\n",
              "      <td>195.000000</td>\n",
              "      <td>195.000000</td>\n",
              "      <td>195.000000</td>\n",
              "      <td>195.000000</td>\n",
              "      <td>195.000000</td>\n",
              "      <td>195.000000</td>\n",
              "      <td>195.000000</td>\n",
              "      <td>195.000000</td>\n",
              "      <td>195.000000</td>\n",
              "    </tr>\n",
              "    <tr>\n",
              "      <th>mean</th>\n",
              "      <td>154.228641</td>\n",
              "      <td>197.104918</td>\n",
              "      <td>116.324631</td>\n",
              "      <td>0.006220</td>\n",
              "      <td>0.000044</td>\n",
              "      <td>0.003306</td>\n",
              "      <td>0.003446</td>\n",
              "      <td>0.009920</td>\n",
              "      <td>0.029709</td>\n",
              "      <td>0.282251</td>\n",
              "      <td>...</td>\n",
              "      <td>0.046993</td>\n",
              "      <td>0.024847</td>\n",
              "      <td>21.885974</td>\n",
              "      <td>0.753846</td>\n",
              "      <td>0.498536</td>\n",
              "      <td>0.718099</td>\n",
              "      <td>-5.684397</td>\n",
              "      <td>0.226510</td>\n",
              "      <td>2.381826</td>\n",
              "      <td>0.206552</td>\n",
              "    </tr>\n",
              "    <tr>\n",
              "      <th>std</th>\n",
              "      <td>41.390065</td>\n",
              "      <td>91.491548</td>\n",
              "      <td>43.521413</td>\n",
              "      <td>0.004848</td>\n",
              "      <td>0.000035</td>\n",
              "      <td>0.002968</td>\n",
              "      <td>0.002759</td>\n",
              "      <td>0.008903</td>\n",
              "      <td>0.018857</td>\n",
              "      <td>0.194877</td>\n",
              "      <td>...</td>\n",
              "      <td>0.030459</td>\n",
              "      <td>0.040418</td>\n",
              "      <td>4.425764</td>\n",
              "      <td>0.431878</td>\n",
              "      <td>0.103942</td>\n",
              "      <td>0.055336</td>\n",
              "      <td>1.090208</td>\n",
              "      <td>0.083406</td>\n",
              "      <td>0.382799</td>\n",
              "      <td>0.090119</td>\n",
              "    </tr>\n",
              "    <tr>\n",
              "      <th>min</th>\n",
              "      <td>88.333000</td>\n",
              "      <td>102.145000</td>\n",
              "      <td>65.476000</td>\n",
              "      <td>0.001680</td>\n",
              "      <td>0.000007</td>\n",
              "      <td>0.000680</td>\n",
              "      <td>0.000920</td>\n",
              "      <td>0.002040</td>\n",
              "      <td>0.009540</td>\n",
              "      <td>0.085000</td>\n",
              "      <td>...</td>\n",
              "      <td>0.013640</td>\n",
              "      <td>0.000650</td>\n",
              "      <td>8.441000</td>\n",
              "      <td>0.000000</td>\n",
              "      <td>0.256570</td>\n",
              "      <td>0.574282</td>\n",
              "      <td>-7.964984</td>\n",
              "      <td>0.006274</td>\n",
              "      <td>1.423287</td>\n",
              "      <td>0.044539</td>\n",
              "    </tr>\n",
              "    <tr>\n",
              "      <th>25%</th>\n",
              "      <td>117.572000</td>\n",
              "      <td>134.862500</td>\n",
              "      <td>84.291000</td>\n",
              "      <td>0.003460</td>\n",
              "      <td>0.000020</td>\n",
              "      <td>0.001660</td>\n",
              "      <td>0.001860</td>\n",
              "      <td>0.004985</td>\n",
              "      <td>0.016505</td>\n",
              "      <td>0.148500</td>\n",
              "      <td>...</td>\n",
              "      <td>0.024735</td>\n",
              "      <td>0.005925</td>\n",
              "      <td>19.198000</td>\n",
              "      <td>1.000000</td>\n",
              "      <td>0.421306</td>\n",
              "      <td>0.674758</td>\n",
              "      <td>-6.450096</td>\n",
              "      <td>0.174351</td>\n",
              "      <td>2.099125</td>\n",
              "      <td>0.137451</td>\n",
              "    </tr>\n",
              "    <tr>\n",
              "      <th>50%</th>\n",
              "      <td>148.790000</td>\n",
              "      <td>175.829000</td>\n",
              "      <td>104.315000</td>\n",
              "      <td>0.004940</td>\n",
              "      <td>0.000030</td>\n",
              "      <td>0.002500</td>\n",
              "      <td>0.002690</td>\n",
              "      <td>0.007490</td>\n",
              "      <td>0.022970</td>\n",
              "      <td>0.221000</td>\n",
              "      <td>...</td>\n",
              "      <td>0.038360</td>\n",
              "      <td>0.011660</td>\n",
              "      <td>22.085000</td>\n",
              "      <td>1.000000</td>\n",
              "      <td>0.495954</td>\n",
              "      <td>0.722254</td>\n",
              "      <td>-5.720868</td>\n",
              "      <td>0.218885</td>\n",
              "      <td>2.361532</td>\n",
              "      <td>0.194052</td>\n",
              "    </tr>\n",
              "    <tr>\n",
              "      <th>75%</th>\n",
              "      <td>182.769000</td>\n",
              "      <td>224.205500</td>\n",
              "      <td>140.018500</td>\n",
              "      <td>0.007365</td>\n",
              "      <td>0.000060</td>\n",
              "      <td>0.003835</td>\n",
              "      <td>0.003955</td>\n",
              "      <td>0.011505</td>\n",
              "      <td>0.037885</td>\n",
              "      <td>0.350000</td>\n",
              "      <td>...</td>\n",
              "      <td>0.060795</td>\n",
              "      <td>0.025640</td>\n",
              "      <td>25.075500</td>\n",
              "      <td>1.000000</td>\n",
              "      <td>0.587562</td>\n",
              "      <td>0.761881</td>\n",
              "      <td>-5.046192</td>\n",
              "      <td>0.279234</td>\n",
              "      <td>2.636456</td>\n",
              "      <td>0.252980</td>\n",
              "    </tr>\n",
              "    <tr>\n",
              "      <th>max</th>\n",
              "      <td>260.105000</td>\n",
              "      <td>592.030000</td>\n",
              "      <td>239.170000</td>\n",
              "      <td>0.033160</td>\n",
              "      <td>0.000260</td>\n",
              "      <td>0.021440</td>\n",
              "      <td>0.019580</td>\n",
              "      <td>0.064330</td>\n",
              "      <td>0.119080</td>\n",
              "      <td>1.302000</td>\n",
              "      <td>...</td>\n",
              "      <td>0.169420</td>\n",
              "      <td>0.314820</td>\n",
              "      <td>33.047000</td>\n",
              "      <td>1.000000</td>\n",
              "      <td>0.685151</td>\n",
              "      <td>0.825288</td>\n",
              "      <td>-2.434031</td>\n",
              "      <td>0.450493</td>\n",
              "      <td>3.671155</td>\n",
              "      <td>0.527367</td>\n",
              "    </tr>\n",
              "  </tbody>\n",
              "</table>\n",
              "<p>8 rows × 23 columns</p>\n",
              "</div>\n",
              "      <button class=\"colab-df-convert\" onclick=\"convertToInteractive('df-4e90d407-acd1-4473-bdfe-1ad15438a7d7')\"\n",
              "              title=\"Convert this dataframe to an interactive table.\"\n",
              "              style=\"display:none;\">\n",
              "\n",
              "  <svg xmlns=\"http://www.w3.org/2000/svg\" height=\"24px\"viewBox=\"0 0 24 24\"\n",
              "       width=\"24px\">\n",
              "    <path d=\"M0 0h24v24H0V0z\" fill=\"none\"/>\n",
              "    <path d=\"M18.56 5.44l.94 2.06.94-2.06 2.06-.94-2.06-.94-.94-2.06-.94 2.06-2.06.94zm-11 1L8.5 8.5l.94-2.06 2.06-.94-2.06-.94L8.5 2.5l-.94 2.06-2.06.94zm10 10l.94 2.06.94-2.06 2.06-.94-2.06-.94-.94-2.06-.94 2.06-2.06.94z\"/><path d=\"M17.41 7.96l-1.37-1.37c-.4-.4-.92-.59-1.43-.59-.52 0-1.04.2-1.43.59L10.3 9.45l-7.72 7.72c-.78.78-.78 2.05 0 2.83L4 21.41c.39.39.9.59 1.41.59.51 0 1.02-.2 1.41-.59l7.78-7.78 2.81-2.81c.8-.78.8-2.07 0-2.86zM5.41 20L4 18.59l7.72-7.72 1.47 1.35L5.41 20z\"/>\n",
              "  </svg>\n",
              "      </button>\n",
              "\n",
              "\n",
              "\n",
              "    <div id=\"df-c9151072-4e25-45d0-a611-10bc28caaed2\">\n",
              "      <button class=\"colab-df-quickchart\" onclick=\"quickchart('df-c9151072-4e25-45d0-a611-10bc28caaed2')\"\n",
              "              title=\"Suggest charts.\"\n",
              "              style=\"display:none;\">\n",
              "\n",
              "<svg xmlns=\"http://www.w3.org/2000/svg\" height=\"24px\"viewBox=\"0 0 24 24\"\n",
              "     width=\"24px\">\n",
              "    <g>\n",
              "        <path d=\"M19 3H5c-1.1 0-2 .9-2 2v14c0 1.1.9 2 2 2h14c1.1 0 2-.9 2-2V5c0-1.1-.9-2-2-2zM9 17H7v-7h2v7zm4 0h-2V7h2v10zm4 0h-2v-4h2v4z\"/>\n",
              "    </g>\n",
              "</svg>\n",
              "      </button>\n",
              "    </div>\n",
              "\n",
              "<style>\n",
              "  .colab-df-quickchart {\n",
              "    background-color: #E8F0FE;\n",
              "    border: none;\n",
              "    border-radius: 50%;\n",
              "    cursor: pointer;\n",
              "    display: none;\n",
              "    fill: #1967D2;\n",
              "    height: 32px;\n",
              "    padding: 0 0 0 0;\n",
              "    width: 32px;\n",
              "  }\n",
              "\n",
              "  .colab-df-quickchart:hover {\n",
              "    background-color: #E2EBFA;\n",
              "    box-shadow: 0px 1px 2px rgba(60, 64, 67, 0.3), 0px 1px 3px 1px rgba(60, 64, 67, 0.15);\n",
              "    fill: #174EA6;\n",
              "  }\n",
              "\n",
              "  [theme=dark] .colab-df-quickchart {\n",
              "    background-color: #3B4455;\n",
              "    fill: #D2E3FC;\n",
              "  }\n",
              "\n",
              "  [theme=dark] .colab-df-quickchart:hover {\n",
              "    background-color: #434B5C;\n",
              "    box-shadow: 0px 1px 3px 1px rgba(0, 0, 0, 0.15);\n",
              "    filter: drop-shadow(0px 1px 2px rgba(0, 0, 0, 0.3));\n",
              "    fill: #FFFFFF;\n",
              "  }\n",
              "</style>\n",
              "\n",
              "    <script>\n",
              "      async function quickchart(key) {\n",
              "        const containerElement = document.querySelector('#' + key);\n",
              "        const charts = await google.colab.kernel.invokeFunction(\n",
              "            'suggestCharts', [key], {});\n",
              "      }\n",
              "    </script>\n",
              "\n",
              "      <script>\n",
              "\n",
              "function displayQuickchartButton(domScope) {\n",
              "  let quickchartButtonEl =\n",
              "    domScope.querySelector('#df-c9151072-4e25-45d0-a611-10bc28caaed2 button.colab-df-quickchart');\n",
              "  quickchartButtonEl.style.display =\n",
              "    google.colab.kernel.accessAllowed ? 'block' : 'none';\n",
              "}\n",
              "\n",
              "        displayQuickchartButton(document);\n",
              "      </script>\n",
              "      <style>\n",
              "    .colab-df-container {\n",
              "      display:flex;\n",
              "      flex-wrap:wrap;\n",
              "      gap: 12px;\n",
              "    }\n",
              "\n",
              "    .colab-df-convert {\n",
              "      background-color: #E8F0FE;\n",
              "      border: none;\n",
              "      border-radius: 50%;\n",
              "      cursor: pointer;\n",
              "      display: none;\n",
              "      fill: #1967D2;\n",
              "      height: 32px;\n",
              "      padding: 0 0 0 0;\n",
              "      width: 32px;\n",
              "    }\n",
              "\n",
              "    .colab-df-convert:hover {\n",
              "      background-color: #E2EBFA;\n",
              "      box-shadow: 0px 1px 2px rgba(60, 64, 67, 0.3), 0px 1px 3px 1px rgba(60, 64, 67, 0.15);\n",
              "      fill: #174EA6;\n",
              "    }\n",
              "\n",
              "    [theme=dark] .colab-df-convert {\n",
              "      background-color: #3B4455;\n",
              "      fill: #D2E3FC;\n",
              "    }\n",
              "\n",
              "    [theme=dark] .colab-df-convert:hover {\n",
              "      background-color: #434B5C;\n",
              "      box-shadow: 0px 1px 3px 1px rgba(0, 0, 0, 0.15);\n",
              "      filter: drop-shadow(0px 1px 2px rgba(0, 0, 0, 0.3));\n",
              "      fill: #FFFFFF;\n",
              "    }\n",
              "  </style>\n",
              "\n",
              "      <script>\n",
              "        const buttonEl =\n",
              "          document.querySelector('#df-4e90d407-acd1-4473-bdfe-1ad15438a7d7 button.colab-df-convert');\n",
              "        buttonEl.style.display =\n",
              "          google.colab.kernel.accessAllowed ? 'block' : 'none';\n",
              "\n",
              "        async function convertToInteractive(key) {\n",
              "          const element = document.querySelector('#df-4e90d407-acd1-4473-bdfe-1ad15438a7d7');\n",
              "          const dataTable =\n",
              "            await google.colab.kernel.invokeFunction('convertToInteractive',\n",
              "                                                     [key], {});\n",
              "          if (!dataTable) return;\n",
              "\n",
              "          const docLinkHtml = 'Like what you see? Visit the ' +\n",
              "            '<a target=\"_blank\" href=https://colab.research.google.com/notebooks/data_table.ipynb>data table notebook</a>'\n",
              "            + ' to learn more about interactive tables.';\n",
              "          element.innerHTML = '';\n",
              "          dataTable['output_type'] = 'display_data';\n",
              "          await google.colab.output.renderOutput(dataTable, element);\n",
              "          const docLink = document.createElement('div');\n",
              "          docLink.innerHTML = docLinkHtml;\n",
              "          element.appendChild(docLink);\n",
              "        }\n",
              "      </script>\n",
              "    </div>\n",
              "  </div>\n"
            ]
          },
          "metadata": {},
          "execution_count": 24
        }
      ],
      "source": [
        "df.describe()"
      ]
    },
    {
      "cell_type": "code",
      "execution_count": null,
      "id": "282ec40c",
      "metadata": {
        "execution": {
          "iopub.execute_input": "2023-03-12T16:30:33.896526Z",
          "iopub.status.busy": "2023-03-12T16:30:33.895712Z",
          "iopub.status.idle": "2023-03-12T16:30:33.914277Z",
          "shell.execute_reply": "2023-03-12T16:30:33.912925Z"
        },
        "papermill": {
          "duration": 0.040178,
          "end_time": "2023-03-12T16:30:33.916922",
          "exception": false,
          "start_time": "2023-03-12T16:30:33.876744",
          "status": "completed"
        },
        "tags": [],
        "id": "282ec40c"
      },
      "outputs": [],
      "source": [
        "df = df.drop(['id','gender'], axis=1)\n",
        "\n",
        "train_df, test_df = train_test_split(df,\n",
        "                                     test_size=0.2,\n",
        "                                     random_state=SEED)\n",
        "train_df, val_df = train_test_split(train_df,\n",
        "                                    test_size=0.2,\n",
        "                                    random_state=SEED)\n",
        "\n",
        "\n",
        "X_train = train_df.drop('status', axis=1).values.astype('float32')\n",
        "y_train = train_df['status'].values.astype('int32')\n",
        "X_val = val_df.drop('status', axis=1).values.astype('float32')\n",
        "y_val = val_df['status'].values.astype('int32')\n",
        "X_test = test_df.drop('status', axis=1).values.astype('float32')\n",
        "y_test = test_df['status'].values.astype('int32')\n",
        "\n",
        "mmsc = MinMaxScaler()\n",
        "X_train = mmsc.fit_transform(X_train)\n",
        "X_val = mmsc.transform(X_val)\n",
        "X_test = mmsc.transform(X_test)\n",
        "\n",
        "y_train = to_categorical(y_train)\n",
        "y_val = to_categorical(y_val)\n",
        "y_test = to_categorical(y_test)"
      ]
    },
    {
      "cell_type": "markdown",
      "id": "10956522",
      "metadata": {
        "papermill": {
          "duration": 0.016402,
          "end_time": "2023-03-12T16:30:33.950371",
          "exception": false,
          "start_time": "2023-03-12T16:30:33.933969",
          "status": "completed"
        },
        "tags": [],
        "id": "10956522"
      },
      "source": [
        "# Build the model"
      ]
    },
    {
      "cell_type": "code",
      "execution_count": null,
      "id": "bd414e2d",
      "metadata": {
        "execution": {
          "iopub.execute_input": "2023-03-12T16:30:33.985862Z",
          "iopub.status.busy": "2023-03-12T16:30:33.985395Z",
          "iopub.status.idle": "2023-03-12T16:30:34.173021Z",
          "shell.execute_reply": "2023-03-12T16:30:34.171397Z"
        },
        "papermill": {
          "duration": 0.212354,
          "end_time": "2023-03-12T16:30:34.179422",
          "exception": false,
          "start_time": "2023-03-12T16:30:33.967068",
          "status": "completed"
        },
        "tags": [],
        "colab": {
          "base_uri": "https://localhost:8080/"
        },
        "id": "bd414e2d",
        "outputId": "40dfb75d-118d-4c81-f677-908baee8299a"
      },
      "outputs": [
        {
          "output_type": "stream",
          "name": "stdout",
          "text": [
            "Model: \"sequential\"\n",
            "_________________________________________________________________\n",
            " Layer (type)                Output Shape              Param #   \n",
            "=================================================================\n",
            " dense (Dense)               (None, 128)               96384     \n",
            "                                                                 \n",
            " dense_1 (Dense)             (None, 128)               16512     \n",
            "                                                                 \n",
            " dense_2 (Dense)             (None, 64)                8256      \n",
            "                                                                 \n",
            " dense_3 (Dense)             (None, 2)                 130       \n",
            "                                                                 \n",
            "=================================================================\n",
            "Total params: 121,282\n",
            "Trainable params: 121,282\n",
            "Non-trainable params: 0\n",
            "_________________________________________________________________\n"
          ]
        }
      ],
      "source": [
        "shape = X_train.shape[1]\n",
        "num_classes = y_train.shape[1]\n",
        "\n",
        "model = Sequential()\n",
        "model.add(Input((shape,)))\n",
        "model.add(Dense(128, activation='relu'))\n",
        "model.add(Dense(128, activation='relu'))\n",
        "model.add(Dense(64, activation='relu'))\n",
        "model.add(Dense(num_classes, activation='softmax'))\n",
        "opt = tfa.optimizers.RectifiedAdam()\n",
        "model.compile(loss='categorical_crossentropy', optimizer=opt, metrics=['accuracy'])\n",
        "model.summary()"
      ]
    },
    {
      "cell_type": "code",
      "execution_count": null,
      "id": "631d4f49",
      "metadata": {
        "execution": {
          "iopub.execute_input": "2023-03-12T16:30:34.218182Z",
          "iopub.status.busy": "2023-03-12T16:30:34.217762Z",
          "iopub.status.idle": "2023-03-12T16:30:49.104076Z",
          "shell.execute_reply": "2023-03-12T16:30:49.103069Z"
        },
        "papermill": {
          "duration": 14.908483,
          "end_time": "2023-03-12T16:30:49.106777",
          "exception": false,
          "start_time": "2023-03-12T16:30:34.198294",
          "status": "completed"
        },
        "tags": [],
        "colab": {
          "base_uri": "https://localhost:8080/"
        },
        "id": "631d4f49",
        "outputId": "009a3f8a-7cbd-4bdc-be4a-667efd408a23"
      },
      "outputs": [
        {
          "output_type": "stream",
          "name": "stdout",
          "text": [
            "Epoch 1/300\n",
            "16/16 [==============================] - 2s 22ms/step - loss: 0.7401 - accuracy: 0.3602 - val_loss: 0.6339 - val_accuracy: 0.7603\n",
            "Epoch 2/300\n",
            "16/16 [==============================] - 0s 7ms/step - loss: 0.5925 - accuracy: 0.7391 - val_loss: 0.5603 - val_accuracy: 0.7603\n",
            "Epoch 3/300\n",
            "16/16 [==============================] - 0s 8ms/step - loss: 0.5602 - accuracy: 0.7412 - val_loss: 0.5231 - val_accuracy: 0.7603\n",
            "Epoch 4/300\n",
            "16/16 [==============================] - 0s 8ms/step - loss: 0.5269 - accuracy: 0.7412 - val_loss: 0.4815 - val_accuracy: 0.7603\n",
            "Epoch 5/300\n",
            "16/16 [==============================] - 0s 7ms/step - loss: 0.4924 - accuracy: 0.7495 - val_loss: 0.4512 - val_accuracy: 0.8264\n",
            "Epoch 6/300\n",
            "16/16 [==============================] - 0s 7ms/step - loss: 0.4801 - accuracy: 0.7723 - val_loss: 0.4058 - val_accuracy: 0.8678\n",
            "Epoch 7/300\n",
            "16/16 [==============================] - 0s 7ms/step - loss: 0.4387 - accuracy: 0.8095 - val_loss: 0.3842 - val_accuracy: 0.9091\n",
            "Epoch 8/300\n",
            "16/16 [==============================] - 0s 8ms/step - loss: 0.4244 - accuracy: 0.8199 - val_loss: 0.3406 - val_accuracy: 0.8760\n",
            "Epoch 9/300\n",
            "16/16 [==============================] - 0s 8ms/step - loss: 0.4064 - accuracy: 0.8344 - val_loss: 0.3320 - val_accuracy: 0.9008\n",
            "Epoch 10/300\n",
            "16/16 [==============================] - 0s 7ms/step - loss: 0.3986 - accuracy: 0.8385 - val_loss: 0.3210 - val_accuracy: 0.8512\n",
            "Epoch 11/300\n",
            "16/16 [==============================] - 0s 8ms/step - loss: 0.3799 - accuracy: 0.8468 - val_loss: 0.3065 - val_accuracy: 0.9008\n",
            "Epoch 12/300\n",
            "16/16 [==============================] - 0s 8ms/step - loss: 0.4089 - accuracy: 0.8137 - val_loss: 0.2985 - val_accuracy: 0.8926\n",
            "Epoch 13/300\n",
            "16/16 [==============================] - 0s 7ms/step - loss: 0.3739 - accuracy: 0.8344 - val_loss: 0.2921 - val_accuracy: 0.8926\n",
            "Epoch 14/300\n",
            "16/16 [==============================] - 0s 7ms/step - loss: 0.3811 - accuracy: 0.8282 - val_loss: 0.2820 - val_accuracy: 0.9174\n",
            "Epoch 15/300\n",
            "16/16 [==============================] - 0s 7ms/step - loss: 0.3749 - accuracy: 0.8344 - val_loss: 0.2859 - val_accuracy: 0.8760\n",
            "Epoch 16/300\n",
            "16/16 [==============================] - 0s 9ms/step - loss: 0.3592 - accuracy: 0.8468 - val_loss: 0.2701 - val_accuracy: 0.9174\n",
            "Epoch 17/300\n",
            "16/16 [==============================] - 0s 12ms/step - loss: 0.3797 - accuracy: 0.8385 - val_loss: 0.2912 - val_accuracy: 0.9008\n",
            "Epoch 18/300\n",
            "16/16 [==============================] - 0s 11ms/step - loss: 0.3544 - accuracy: 0.8364 - val_loss: 0.2928 - val_accuracy: 0.9008\n",
            "Epoch 19/300\n",
            "16/16 [==============================] - 0s 11ms/step - loss: 0.3248 - accuracy: 0.8571 - val_loss: 0.2948 - val_accuracy: 0.8843\n",
            "Epoch 20/300\n",
            "16/16 [==============================] - 0s 11ms/step - loss: 0.3409 - accuracy: 0.8571 - val_loss: 0.2484 - val_accuracy: 0.9174\n",
            "Epoch 21/300\n",
            "16/16 [==============================] - 0s 11ms/step - loss: 0.3303 - accuracy: 0.8530 - val_loss: 0.2997 - val_accuracy: 0.8678\n",
            "Epoch 22/300\n",
            "16/16 [==============================] - 0s 10ms/step - loss: 0.3215 - accuracy: 0.8592 - val_loss: 0.2477 - val_accuracy: 0.9091\n",
            "Epoch 23/300\n",
            "16/16 [==============================] - 0s 11ms/step - loss: 0.2993 - accuracy: 0.8654 - val_loss: 0.2354 - val_accuracy: 0.9091\n",
            "Epoch 24/300\n",
            "16/16 [==============================] - 0s 11ms/step - loss: 0.3079 - accuracy: 0.8654 - val_loss: 0.3314 - val_accuracy: 0.8926\n",
            "Epoch 25/300\n",
            "16/16 [==============================] - 0s 12ms/step - loss: 0.3365 - accuracy: 0.8344 - val_loss: 0.3293 - val_accuracy: 0.9008\n",
            "Epoch 26/300\n",
            "16/16 [==============================] - 0s 12ms/step - loss: 0.2992 - accuracy: 0.8758 - val_loss: 0.2316 - val_accuracy: 0.9256\n",
            "Epoch 27/300\n",
            "16/16 [==============================] - 0s 12ms/step - loss: 0.2699 - accuracy: 0.8778 - val_loss: 0.2203 - val_accuracy: 0.9174\n",
            "Epoch 28/300\n",
            "16/16 [==============================] - 0s 11ms/step - loss: 0.2561 - accuracy: 0.8903 - val_loss: 0.3205 - val_accuracy: 0.8678\n",
            "Epoch 29/300\n",
            "16/16 [==============================] - 0s 12ms/step - loss: 0.3262 - accuracy: 0.8634 - val_loss: 0.2184 - val_accuracy: 0.9256\n",
            "Epoch 30/300\n",
            "16/16 [==============================] - 0s 12ms/step - loss: 0.2648 - accuracy: 0.8799 - val_loss: 0.2232 - val_accuracy: 0.9091\n",
            "Epoch 31/300\n",
            "16/16 [==============================] - 0s 11ms/step - loss: 0.2363 - accuracy: 0.9048 - val_loss: 0.2086 - val_accuracy: 0.9339\n",
            "Epoch 32/300\n",
            "16/16 [==============================] - 0s 7ms/step - loss: 0.2992 - accuracy: 0.8799 - val_loss: 0.2547 - val_accuracy: 0.8926\n",
            "Epoch 33/300\n",
            "16/16 [==============================] - 0s 9ms/step - loss: 0.2674 - accuracy: 0.8758 - val_loss: 0.3024 - val_accuracy: 0.8926\n",
            "Epoch 34/300\n",
            "16/16 [==============================] - 0s 7ms/step - loss: 0.4010 - accuracy: 0.8199 - val_loss: 0.3453 - val_accuracy: 0.8430\n",
            "Epoch 35/300\n",
            "16/16 [==============================] - 0s 8ms/step - loss: 0.3086 - accuracy: 0.8696 - val_loss: 0.2100 - val_accuracy: 0.9256\n",
            "Epoch 36/300\n",
            "16/16 [==============================] - 0s 7ms/step - loss: 0.2556 - accuracy: 0.8820 - val_loss: 0.2367 - val_accuracy: 0.9339\n",
            "Epoch 37/300\n",
            "16/16 [==============================] - 0s 8ms/step - loss: 0.2253 - accuracy: 0.8903 - val_loss: 0.1994 - val_accuracy: 0.9174\n",
            "Epoch 38/300\n",
            "16/16 [==============================] - 0s 8ms/step - loss: 0.2083 - accuracy: 0.9130 - val_loss: 0.2026 - val_accuracy: 0.9256\n",
            "Epoch 39/300\n",
            "16/16 [==============================] - 0s 7ms/step - loss: 0.1992 - accuracy: 0.9130 - val_loss: 0.1926 - val_accuracy: 0.9256\n",
            "Epoch 40/300\n",
            "16/16 [==============================] - 0s 8ms/step - loss: 0.2338 - accuracy: 0.9006 - val_loss: 0.1951 - val_accuracy: 0.9421\n",
            "Epoch 41/300\n",
            "16/16 [==============================] - 0s 8ms/step - loss: 0.1783 - accuracy: 0.9400 - val_loss: 0.1722 - val_accuracy: 0.9339\n",
            "Epoch 42/300\n",
            "16/16 [==============================] - 0s 8ms/step - loss: 0.1594 - accuracy: 0.9337 - val_loss: 0.1912 - val_accuracy: 0.9256\n",
            "Epoch 43/300\n",
            "16/16 [==============================] - 0s 8ms/step - loss: 0.2011 - accuracy: 0.9006 - val_loss: 0.2142 - val_accuracy: 0.9256\n",
            "Epoch 44/300\n",
            "16/16 [==============================] - 0s 7ms/step - loss: 0.2015 - accuracy: 0.9213 - val_loss: 0.1927 - val_accuracy: 0.9256\n",
            "Epoch 45/300\n",
            "16/16 [==============================] - 0s 7ms/step - loss: 0.1596 - accuracy: 0.9275 - val_loss: 0.2738 - val_accuracy: 0.9008\n",
            "Epoch 46/300\n",
            "16/16 [==============================] - 0s 7ms/step - loss: 0.1512 - accuracy: 0.9296 - val_loss: 0.1889 - val_accuracy: 0.9339\n",
            "Epoch 47/300\n",
            "16/16 [==============================] - 0s 7ms/step - loss: 0.1708 - accuracy: 0.9337 - val_loss: 0.1765 - val_accuracy: 0.9504\n",
            "Epoch 48/300\n",
            "16/16 [==============================] - 0s 7ms/step - loss: 0.1430 - accuracy: 0.9524 - val_loss: 0.2518 - val_accuracy: 0.9174\n",
            "Epoch 49/300\n",
            "16/16 [==============================] - 0s 8ms/step - loss: 0.1843 - accuracy: 0.9213 - val_loss: 0.2605 - val_accuracy: 0.9091\n",
            "Epoch 50/300\n",
            "16/16 [==============================] - 0s 8ms/step - loss: 0.2499 - accuracy: 0.8861 - val_loss: 0.1979 - val_accuracy: 0.9256\n",
            "Epoch 51/300\n",
            "16/16 [==============================] - 0s 8ms/step - loss: 0.1980 - accuracy: 0.9172 - val_loss: 0.1628 - val_accuracy: 0.9421\n",
            "Epoch 52/300\n",
            "16/16 [==============================] - 0s 7ms/step - loss: 0.1372 - accuracy: 0.9462 - val_loss: 0.2016 - val_accuracy: 0.9421\n",
            "Epoch 53/300\n",
            "16/16 [==============================] - 0s 9ms/step - loss: 0.0961 - accuracy: 0.9752 - val_loss: 0.2055 - val_accuracy: 0.9339\n",
            "Epoch 54/300\n",
            "16/16 [==============================] - 0s 7ms/step - loss: 0.0885 - accuracy: 0.9814 - val_loss: 0.2765 - val_accuracy: 0.9091\n",
            "Epoch 55/300\n",
            "16/16 [==============================] - 0s 7ms/step - loss: 0.0991 - accuracy: 0.9731 - val_loss: 0.1925 - val_accuracy: 0.9421\n",
            "Epoch 56/300\n",
            "16/16 [==============================] - 0s 7ms/step - loss: 0.2250 - accuracy: 0.9027 - val_loss: 0.2716 - val_accuracy: 0.9008\n",
            "Epoch 57/300\n",
            "16/16 [==============================] - 0s 8ms/step - loss: 0.1534 - accuracy: 0.9275 - val_loss: 0.2351 - val_accuracy: 0.8926\n",
            "Epoch 58/300\n",
            "16/16 [==============================] - 0s 7ms/step - loss: 0.1770 - accuracy: 0.9151 - val_loss: 0.2667 - val_accuracy: 0.9174\n",
            "Epoch 59/300\n",
            "16/16 [==============================] - 0s 8ms/step - loss: 0.1673 - accuracy: 0.9255 - val_loss: 0.2314 - val_accuracy: 0.9091\n",
            "Epoch 60/300\n",
            "16/16 [==============================] - 0s 8ms/step - loss: 0.1812 - accuracy: 0.9234 - val_loss: 0.2290 - val_accuracy: 0.9339\n",
            "Epoch 61/300\n",
            "16/16 [==============================] - 0s 8ms/step - loss: 0.1456 - accuracy: 0.9420 - val_loss: 0.2003 - val_accuracy: 0.9174\n",
            "Epoch 62/300\n",
            "16/16 [==============================] - 0s 7ms/step - loss: 0.1155 - accuracy: 0.9607 - val_loss: 0.1748 - val_accuracy: 0.9256\n",
            "Epoch 63/300\n",
            "16/16 [==============================] - 0s 8ms/step - loss: 0.1182 - accuracy: 0.9482 - val_loss: 0.1712 - val_accuracy: 0.9174\n",
            "Epoch 64/300\n",
            "16/16 [==============================] - 0s 7ms/step - loss: 0.1605 - accuracy: 0.9358 - val_loss: 0.1811 - val_accuracy: 0.9339\n",
            "Epoch 65/300\n",
            "16/16 [==============================] - 0s 8ms/step - loss: 0.1108 - accuracy: 0.9689 - val_loss: 0.1710 - val_accuracy: 0.9339\n",
            "Epoch 66/300\n",
            "16/16 [==============================] - 0s 7ms/step - loss: 0.0904 - accuracy: 0.9689 - val_loss: 0.2254 - val_accuracy: 0.9339\n",
            "Epoch 67/300\n",
            "16/16 [==============================] - 0s 8ms/step - loss: 0.3635 - accuracy: 0.8634 - val_loss: 0.4166 - val_accuracy: 0.8099\n",
            "Epoch 68/300\n",
            "16/16 [==============================] - 0s 8ms/step - loss: 0.1944 - accuracy: 0.9172 - val_loss: 0.2596 - val_accuracy: 0.9008\n",
            "Epoch 69/300\n",
            "16/16 [==============================] - 0s 8ms/step - loss: 0.1256 - accuracy: 0.9503 - val_loss: 0.1809 - val_accuracy: 0.9339\n",
            "Epoch 70/300\n",
            "16/16 [==============================] - 0s 8ms/step - loss: 0.0761 - accuracy: 0.9793 - val_loss: 0.1885 - val_accuracy: 0.9339\n",
            "Epoch 71/300\n",
            "16/16 [==============================] - 0s 7ms/step - loss: 0.0632 - accuracy: 0.9917 - val_loss: 0.1766 - val_accuracy: 0.9339\n",
            "Epoch 72/300\n",
            "16/16 [==============================] - 0s 7ms/step - loss: 0.0527 - accuracy: 0.9855 - val_loss: 0.2050 - val_accuracy: 0.9421\n",
            "Epoch 73/300\n",
            "16/16 [==============================] - 0s 8ms/step - loss: 0.0433 - accuracy: 0.9938 - val_loss: 0.1642 - val_accuracy: 0.9421\n",
            "Epoch 74/300\n",
            "16/16 [==============================] - 0s 7ms/step - loss: 0.0431 - accuracy: 0.9938 - val_loss: 0.1743 - val_accuracy: 0.9421\n",
            "Epoch 75/300\n",
            "16/16 [==============================] - 0s 8ms/step - loss: 0.0317 - accuracy: 0.9959 - val_loss: 0.1660 - val_accuracy: 0.9587\n",
            "Epoch 76/300\n",
            "16/16 [==============================] - 0s 8ms/step - loss: 0.0645 - accuracy: 0.9627 - val_loss: 0.3320 - val_accuracy: 0.9256\n",
            "Epoch 77/300\n",
            "16/16 [==============================] - 0s 8ms/step - loss: 0.0601 - accuracy: 0.9793 - val_loss: 0.1985 - val_accuracy: 0.9174\n",
            "Epoch 78/300\n",
            "16/16 [==============================] - 0s 8ms/step - loss: 0.0506 - accuracy: 0.9814 - val_loss: 0.1797 - val_accuracy: 0.9421\n",
            "Epoch 79/300\n",
            "16/16 [==============================] - 0s 8ms/step - loss: 0.0365 - accuracy: 0.9917 - val_loss: 0.1979 - val_accuracy: 0.9421\n",
            "Epoch 80/300\n",
            "16/16 [==============================] - 0s 7ms/step - loss: 0.0204 - accuracy: 0.9959 - val_loss: 0.1825 - val_accuracy: 0.9504\n",
            "Epoch 81/300\n",
            "11/16 [===================>..........] - ETA: 0s - loss: 0.0211 - accuracy: 0.9972Restoring model weights from the end of the best epoch: 51.\n",
            "16/16 [==============================] - 0s 9ms/step - loss: 0.0185 - accuracy: 0.9979 - val_loss: 0.1911 - val_accuracy: 0.9339\n",
            "Epoch 81: early stopping\n"
          ]
        }
      ],
      "source": [
        "es_callback = tf.keras.callbacks.EarlyStopping(patience=30, verbose=1, restore_best_weights=True)\n",
        "history = model.fit(X_train, y_train, batch_size=BATCH_SIZE, epochs=EPOCHS,\n",
        "                    validation_data=(X_val, y_val), callbacks=[es_callback])"
      ]
    },
    {
      "cell_type": "code",
      "execution_count": null,
      "id": "f57f0f6b",
      "metadata": {
        "execution": {
          "iopub.execute_input": "2023-03-12T16:30:49.255311Z",
          "iopub.status.busy": "2023-03-12T16:30:49.253843Z",
          "iopub.status.idle": "2023-03-12T16:30:49.727052Z",
          "shell.execute_reply": "2023-03-12T16:30:49.725891Z"
        },
        "papermill": {
          "duration": 0.550866,
          "end_time": "2023-03-12T16:30:49.729917",
          "exception": false,
          "start_time": "2023-03-12T16:30:49.179051",
          "status": "completed"
        },
        "tags": [],
        "colab": {
          "base_uri": "https://localhost:8080/",
          "height": 843
        },
        "id": "f57f0f6b",
        "outputId": "c63c6589-7745-4175-c97c-55d04c91c9aa"
      },
      "outputs": [
        {
          "output_type": "display_data",
          "data": {
            "text/plain": [
              "<Figure size 640x480 with 1 Axes>"
            ],
            "image/png": "[encoded data removed]"
          },
          "metadata": {}
        },
        {
          "output_type": "display_data",
          "data": {
            "text/plain": [
              "<Figure size 640x480 with 1 Axes>"
            ],
            "image/png": "[encoded data removed]"
          },
          "metadata": {}
        }
      ],
      "source": [
        "pd.DataFrame(history.history)[['accuracy', 'val_accuracy']].plot()\n",
        "pd.DataFrame(history.history)[['loss', 'val_loss']].plot()\n",
        "plt.show()"
      ]
    },
    {
      "cell_type": "code",
      "execution_count": null,
      "id": "d2f3c103",
      "metadata": {
        "execution": {
          "iopub.execute_input": "2023-03-12T16:30:49.875344Z",
          "iopub.status.busy": "2023-03-12T16:30:49.874864Z",
          "iopub.status.idle": "2023-03-12T16:30:50.088287Z",
          "shell.execute_reply": "2023-03-12T16:30:50.087298Z"
        },
        "papermill": {
          "duration": 0.289731,
          "end_time": "2023-03-12T16:30:50.090865",
          "exception": false,
          "start_time": "2023-03-12T16:30:49.801134",
          "status": "completed"
        },
        "tags": [],
        "colab": {
          "base_uri": "https://localhost:8080/"
        },
        "id": "d2f3c103",
        "outputId": "05e00245-df73-4947-b01a-286cf48573b9"
      },
      "outputs": [
        {
          "output_type": "stream",
          "name": "stdout",
          "text": [
            "5/5 [==============================] - 0s 3ms/step - loss: 0.3792 - accuracy: 0.8684\n"
          ]
        },
        {
          "output_type": "execute_result",
          "data": {
            "text/plain": [
              "[0.3791869282722473, 0.8684210777282715]"
            ]
          },
          "metadata": {},
          "execution_count": 27
        }
      ],
      "source": [
        "model.evaluate(X_test, y_test)"
      ]
    },
    {
      "cell_type": "markdown",
      "id": "5611525c",
      "metadata": {
        "papermill": {
          "duration": 0.073996,
          "end_time": "2023-03-12T16:30:50.241399",
          "exception": false,
          "start_time": "2023-03-12T16:30:50.167403",
          "status": "completed"
        },
        "tags": [],
        "id": "5611525c"
      },
      "source": [
        "# Using RF"
      ]
    },
    {
      "cell_type": "code",
      "execution_count": null,
      "id": "3d1383dd",
      "metadata": {
        "execution": {
          "iopub.execute_input": "2023-03-12T16:30:50.389539Z",
          "iopub.status.busy": "2023-03-12T16:30:50.389074Z",
          "iopub.status.idle": "2023-03-12T16:30:50.398274Z",
          "shell.execute_reply": "2023-03-12T16:30:50.396944Z"
        },
        "papermill": {
          "duration": 0.085378,
          "end_time": "2023-03-12T16:30:50.400980",
          "exception": false,
          "start_time": "2023-03-12T16:30:50.315602",
          "status": "completed"
        },
        "tags": [],
        "id": "3d1383dd"
      },
      "outputs": [],
      "source": [
        "# This Python 3 environment comes with many helpful analytics libraries installed\n",
        "# It is defined by the kaggle/python Docker image: https://github.com/kaggle/docker-python\n",
        "# For example, here's several helpful packages to load\n",
        "\n",
        "import numpy as np # linear algebra\n",
        "import pandas as pd # data processing, CSV file I/O (e.g. pd.read_csv)\n",
        "\n",
        "# Input data files are available in the read-only \"../input/\" directory\n",
        "# For example, running this (by clicking run or pressing Shift+Enter) will list all files under the input directory\n",
        "\n",
        "import os\n",
        "for dirname, _, filenames in os.walk('/kaggle/input'):\n",
        "    for filename in filenames:\n",
        "        print(os.path.join(dirname, filename))\n",
        "\n",
        "# You can write up to 20GB to the current directory (/kaggle/working/) that gets preserved as output when you create a version using \"Save & Run All\"\n",
        "# You can also write temporary files to /kaggle/temp/, but they won't be saved outside of the current session\n"
      ]
    },
    {
      "cell_type": "code",
      "execution_count": null,
      "id": "3b3fc16e",
      "metadata": {
        "execution": {
          "iopub.execute_input": "2023-03-12T16:30:50.549561Z",
          "iopub.status.busy": "2023-03-12T16:30:50.549089Z",
          "iopub.status.idle": "2023-03-12T16:30:50.764286Z",
          "shell.execute_reply": "2023-03-12T16:30:50.762946Z"
        },
        "papermill": {
          "duration": 0.292898,
          "end_time": "2023-03-12T16:30:50.767097",
          "exception": false,
          "start_time": "2023-03-12T16:30:50.474199",
          "status": "completed"
        },
        "tags": [],
        "id": "3b3fc16e"
      },
      "outputs": [],
      "source": [
        "import numpy as np\n",
        "import pandas as pd\n",
        "import matplotlib.pyplot as plt\n",
        "import seaborn as sns\n",
        "\n",
        "from sklearn.preprocessing import MinMaxScaler\n",
        "from sklearn.metrics import confusion_matrix,accuracy_score, classification_report\n",
        "\n",
        "from sklearn.linear_model import LogisticRegression\n",
        "from sklearn.tree import DecisionTreeClassifier\n",
        "from sklearn.ensemble import RandomForestClassifier\n",
        "from sklearn.ensemble import GradientBoostingClassifier\n",
        "import xgboost as xgb\n",
        "\n",
        "import warnings\n",
        "warnings.filterwarnings('ignore')"
      ]
    },
    {
      "cell_type": "code",
      "execution_count": null,
      "id": "da87be85",
      "metadata": {
        "execution": {
          "iopub.execute_input": "2023-03-12T16:30:50.916093Z",
          "iopub.status.busy": "2023-03-12T16:30:50.915649Z",
          "iopub.status.idle": "2023-03-12T16:30:50.949920Z",
          "shell.execute_reply": "2023-03-12T16:30:50.948987Z"
        },
        "papermill": {
          "duration": 0.113856,
          "end_time": "2023-03-12T16:30:50.952959",
          "exception": false,
          "start_time": "2023-03-12T16:30:50.839103",
          "status": "completed"
        },
        "tags": [],
        "colab": {
          "base_uri": "https://localhost:8080/",
          "height": 334
        },
        "id": "da87be85",
        "outputId": "6b356496-3322-48e5-e9f2-f4773b2fe54b"
      },
      "outputs": [
        {
          "output_type": "stream",
          "name": "stdout",
          "text": [
            "(195, 23) \n",
            "\n"
          ]
        },
        {
          "output_type": "execute_result",
          "data": {
            "text/plain": [
              "   MDVP:Fo(Hz)  MDVP:Fhi(Hz)  MDVP:Flo(Hz)  MDVP:Jitter(%)  MDVP:Jitter(Abs)  \\\n",
              "0      119.992       157.302        74.997         0.00784           0.00007   \n",
              "1      122.400       148.650       113.819         0.00968           0.00008   \n",
              "2      116.682       131.111       111.555         0.01050           0.00009   \n",
              "3      116.676       137.871       111.366         0.00997           0.00009   \n",
              "4      116.014       141.781       110.655         0.01284           0.00011   \n",
              "\n",
              "   MDVP:RAP  MDVP:PPQ  Jitter:DDP  MDVP:Shimmer  MDVP:Shimmer(dB)  ...  \\\n",
              "0   0.00370   0.00554     0.01109       0.04374             0.426  ...   \n",
              "1   0.00465   0.00696     0.01394       0.06134             0.626  ...   \n",
              "2   0.00544   0.00781     0.01633       0.05233             0.482  ...   \n",
              "3   0.00502   0.00698     0.01505       0.05492             0.517  ...   \n",
              "4   0.00655   0.00908     0.01966       0.06425             0.584  ...   \n",
              "\n",
              "   Shimmer:DDA      NHR     HNR  status      RPDE       DFA   spread1  \\\n",
              "0      0.06545  0.02211  21.033       1  0.414783  0.815285 -4.813031   \n",
              "1      0.09403  0.01929  19.085       1  0.458359  0.819521 -4.075192   \n",
              "2      0.08270  0.01309  20.651       1  0.429895  0.825288 -4.443179   \n",
              "3      0.08771  0.01353  20.644       1  0.434969  0.819235 -4.117501   \n",
              "4      0.10470  0.01767  19.649       1  0.417356  0.823484 -3.747787   \n",
              "\n",
              "    spread2        D2       PPE  \n",
              "0  0.266482  2.301442  0.284654  \n",
              "1  0.335590  2.486855  0.368674  \n",
              "2  0.311173  2.342259  0.332634  \n",
              "3  0.334147  2.405554  0.368975  \n",
              "4  0.234513  2.332180  0.410335  \n",
              "\n",
              "[5 rows x 23 columns]"
            ],
            "text/html": [
              "\n",
              "\n",
              "  <div id=\"df-1df8ae4b-586e-48d8-83aa-f8bfd608953d\">\n",
              "    <div class=\"colab-df-container\">\n",
              "      <div>\n",
              "<style scoped>\n",
              "    .dataframe tbody tr th:only-of-type {\n",
              "        vertical-align: middle;\n",
              "    }\n",
              "\n",
              "    .dataframe tbody tr th {\n",
              "        vertical-align: top;\n",
              "    }\n",
              "\n",
              "    .dataframe thead th {\n",
              "        text-align: right;\n",
              "    }\n",
              "</style>\n",
              "<table border=\"1\" class=\"dataframe\">\n",
              "  <thead>\n",
              "    <tr style=\"text-align: right;\">\n",
              "      <th></th>\n",
              "      <th>MDVP:Fo(Hz)</th>\n",
              "      <th>MDVP:Fhi(Hz)</th>\n",
              "      <th>MDVP:Flo(Hz)</th>\n",
              "      <th>MDVP:Jitter(%)</th>\n",
              "      <th>MDVP:Jitter(Abs)</th>\n",
              "      <th>MDVP:RAP</th>\n",
              "      <th>MDVP:PPQ</th>\n",
              "      <th>Jitter:DDP</th>\n",
              "      <th>MDVP:Shimmer</th>\n",
              "      <th>MDVP:Shimmer(dB)</th>\n",
              "      <th>...</th>\n",
              "      <th>Shimmer:DDA</th>\n",
              "      <th>NHR</th>\n",
              "      <th>HNR</th>\n",
              "      <th>status</th>\n",
              "      <th>RPDE</th>\n",
              "      <th>DFA</th>\n",
              "      <th>spread1</th>\n",
              "      <th>spread2</th>\n",
              "      <th>D2</th>\n",
              "      <th>PPE</th>\n",
              "    </tr>\n",
              "  </thead>\n",
              "  <tbody>\n",
              "    <tr>\n",
              "      <th>0</th>\n",
              "      <td>119.992</td>\n",
              "      <td>157.302</td>\n",
              "      <td>74.997</td>\n",
              "      <td>0.00784</td>\n",
              "      <td>0.00007</td>\n",
              "      <td>0.00370</td>\n",
              "      <td>0.00554</td>\n",
              "      <td>0.01109</td>\n",
              "      <td>0.04374</td>\n",
              "      <td>0.426</td>\n",
              "      <td>...</td>\n",
              "      <td>0.06545</td>\n",
              "      <td>0.02211</td>\n",
              "      <td>21.033</td>\n",
              "      <td>1</td>\n",
              "      <td>0.414783</td>\n",
              "      <td>0.815285</td>\n",
              "      <td>-4.813031</td>\n",
              "      <td>0.266482</td>\n",
              "      <td>2.301442</td>\n",
              "      <td>0.284654</td>\n",
              "    </tr>\n",
              "    <tr>\n",
              "      <th>1</th>\n",
              "      <td>122.400</td>\n",
              "      <td>148.650</td>\n",
              "      <td>113.819</td>\n",
              "      <td>0.00968</td>\n",
              "      <td>0.00008</td>\n",
              "      <td>0.00465</td>\n",
              "      <td>0.00696</td>\n",
              "      <td>0.01394</td>\n",
              "      <td>0.06134</td>\n",
              "      <td>0.626</td>\n",
              "      <td>...</td>\n",
              "      <td>0.09403</td>\n",
              "      <td>0.01929</td>\n",
              "      <td>19.085</td>\n",
              "      <td>1</td>\n",
              "      <td>0.458359</td>\n",
              "      <td>0.819521</td>\n",
              "      <td>-4.075192</td>\n",
              "      <td>0.335590</td>\n",
              "      <td>2.486855</td>\n",
              "      <td>0.368674</td>\n",
              "    </tr>\n",
              "    <tr>\n",
              "      <th>2</th>\n",
              "      <td>116.682</td>\n",
              "      <td>131.111</td>\n",
              "      <td>111.555</td>\n",
              "      <td>0.01050</td>\n",
              "      <td>0.00009</td>\n",
              "      <td>0.00544</td>\n",
              "      <td>0.00781</td>\n",
              "      <td>0.01633</td>\n",
              "      <td>0.05233</td>\n",
              "      <td>0.482</td>\n",
              "      <td>...</td>\n",
              "      <td>0.08270</td>\n",
              "      <td>0.01309</td>\n",
              "      <td>20.651</td>\n",
              "      <td>1</td>\n",
              "      <td>0.429895</td>\n",
              "      <td>0.825288</td>\n",
              "      <td>-4.443179</td>\n",
              "      <td>0.311173</td>\n",
              "      <td>2.342259</td>\n",
              "      <td>0.332634</td>\n",
              "    </tr>\n",
              "    <tr>\n",
              "      <th>3</th>\n",
              "      <td>116.676</td>\n",
              "      <td>137.871</td>\n",
              "      <td>111.366</td>\n",
              "      <td>0.00997</td>\n",
              "      <td>0.00009</td>\n",
              "      <td>0.00502</td>\n",
              "      <td>0.00698</td>\n",
              "      <td>0.01505</td>\n",
              "      <td>0.05492</td>\n",
              "      <td>0.517</td>\n",
              "      <td>...</td>\n",
              "      <td>0.08771</td>\n",
              "      <td>0.01353</td>\n",
              "      <td>20.644</td>\n",
              "      <td>1</td>\n",
              "      <td>0.434969</td>\n",
              "      <td>0.819235</td>\n",
              "      <td>-4.117501</td>\n",
              "      <td>0.334147</td>\n",
              "      <td>2.405554</td>\n",
              "      <td>0.368975</td>\n",
              "    </tr>\n",
              "    <tr>\n",
              "      <th>4</th>\n",
              "      <td>116.014</td>\n",
              "      <td>141.781</td>\n",
              "      <td>110.655</td>\n",
              "      <td>0.01284</td>\n",
              "      <td>0.00011</td>\n",
              "      <td>0.00655</td>\n",
              "      <td>0.00908</td>\n",
              "      <td>0.01966</td>\n",
              "      <td>0.06425</td>\n",
              "      <td>0.584</td>\n",
              "      <td>...</td>\n",
              "      <td>0.10470</td>\n",
              "      <td>0.01767</td>\n",
              "      <td>19.649</td>\n",
              "      <td>1</td>\n",
              "      <td>0.417356</td>\n",
              "      <td>0.823484</td>\n",
              "      <td>-3.747787</td>\n",
              "      <td>0.234513</td>\n",
              "      <td>2.332180</td>\n",
              "      <td>0.410335</td>\n",
              "    </tr>\n",
              "  </tbody>\n",
              "</table>\n",
              "<p>5 rows × 23 columns</p>\n",
              "</div>\n",
              "      <button class=\"colab-df-convert\" onclick=\"convertToInteractive('df-1df8ae4b-586e-48d8-83aa-f8bfd608953d')\"\n",
              "              title=\"Convert this dataframe to an interactive table.\"\n",
              "              style=\"display:none;\">\n",
              "\n",
              "  <svg xmlns=\"http://www.w3.org/2000/svg\" height=\"24px\"viewBox=\"0 0 24 24\"\n",
              "       width=\"24px\">\n",
              "    <path d=\"M0 0h24v24H0V0z\" fill=\"none\"/>\n",
              "    <path d=\"M18.56 5.44l.94 2.06.94-2.06 2.06-.94-2.06-.94-.94-2.06-.94 2.06-2.06.94zm-11 1L8.5 8.5l.94-2.06 2.06-.94-2.06-.94L8.5 2.5l-.94 2.06-2.06.94zm10 10l.94 2.06.94-2.06 2.06-.94-2.06-.94-.94-2.06-.94 2.06-2.06.94z\"/><path d=\"M17.41 7.96l-1.37-1.37c-.4-.4-.92-.59-1.43-.59-.52 0-1.04.2-1.43.59L10.3 9.45l-7.72 7.72c-.78.78-.78 2.05 0 2.83L4 21.41c.39.39.9.59 1.41.59.51 0 1.02-.2 1.41-.59l7.78-7.78 2.81-2.81c.8-.78.8-2.07 0-2.86zM5.41 20L4 18.59l7.72-7.72 1.47 1.35L5.41 20z\"/>\n",
              "  </svg>\n",
              "      </button>\n",
              "\n",
              "\n",
              "\n",
              "    <div id=\"df-2d0f90aa-7ff3-46c7-8ba5-f88c5353ed65\">\n",
              "      <button class=\"colab-df-quickchart\" onclick=\"quickchart('df-2d0f90aa-7ff3-46c7-8ba5-f88c5353ed65')\"\n",
              "              title=\"Suggest charts.\"\n",
              "              style=\"display:none;\">\n",
              "\n",
              "<svg xmlns=\"http://www.w3.org/2000/svg\" height=\"24px\"viewBox=\"0 0 24 24\"\n",
              "     width=\"24px\">\n",
              "    <g>\n",
              "        <path d=\"M19 3H5c-1.1 0-2 .9-2 2v14c0 1.1.9 2 2 2h14c1.1 0 2-.9 2-2V5c0-1.1-.9-2-2-2zM9 17H7v-7h2v7zm4 0h-2V7h2v10zm4 0h-2v-4h2v4z\"/>\n",
              "    </g>\n",
              "</svg>\n",
              "      </button>\n",
              "    </div>\n",
              "\n",
              "<style>\n",
              "  .colab-df-quickchart {\n",
              "    background-color: #E8F0FE;\n",
              "    border: none;\n",
              "    border-radius: 50%;\n",
              "    cursor: pointer;\n",
              "    display: none;\n",
              "    fill: #1967D2;\n",
              "    height: 32px;\n",
              "    padding: 0 0 0 0;\n",
              "    width: 32px;\n",
              "  }\n",
              "\n",
              "  .colab-df-quickchart:hover {\n",
              "    background-color: #E2EBFA;\n",
              "    box-shadow: 0px 1px 2px rgba(60, 64, 67, 0.3), 0px 1px 3px 1px rgba(60, 64, 67, 0.15);\n",
              "    fill: #174EA6;\n",
              "  }\n",
              "\n",
              "  [theme=dark] .colab-df-quickchart {\n",
              "    background-color: #3B4455;\n",
              "    fill: #D2E3FC;\n",
              "  }\n",
              "\n",
              "  [theme=dark] .colab-df-quickchart:hover {\n",
              "    background-color: #434B5C;\n",
              "    box-shadow: 0px 1px 3px 1px rgba(0, 0, 0, 0.15);\n",
              "    filter: drop-shadow(0px 1px 2px rgba(0, 0, 0, 0.3));\n",
              "    fill: #FFFFFF;\n",
              "  }\n",
              "</style>\n",
              "\n",
              "    <script>\n",
              "      async function quickchart(key) {\n",
              "        const containerElement = document.querySelector('#' + key);\n",
              "        const charts = await google.colab.kernel.invokeFunction(\n",
              "            'suggestCharts', [key], {});\n",
              "      }\n",
              "    </script>\n",
              "\n",
              "      <script>\n",
              "\n",
              "function displayQuickchartButton(domScope) {\n",
              "  let quickchartButtonEl =\n",
              "    domScope.querySelector('#df-2d0f90aa-7ff3-46c7-8ba5-f88c5353ed65 button.colab-df-quickchart');\n",
              "  quickchartButtonEl.style.display =\n",
              "    google.colab.kernel.accessAllowed ? 'block' : 'none';\n",
              "}\n",
              "\n",
              "        displayQuickchartButton(document);\n",
              "      </script>\n",
              "      <style>\n",
              "    .colab-df-container {\n",
              "      display:flex;\n",
              "      flex-wrap:wrap;\n",
              "      gap: 12px;\n",
              "    }\n",
              "\n",
              "    .colab-df-convert {\n",
              "      background-color: #E8F0FE;\n",
              "      border: none;\n",
              "      border-radius: 50%;\n",
              "      cursor: pointer;\n",
              "      display: none;\n",
              "      fill: #1967D2;\n",
              "      height: 32px;\n",
              "      padding: 0 0 0 0;\n",
              "      width: 32px;\n",
              "    }\n",
              "\n",
              "    .colab-df-convert:hover {\n",
              "      background-color: #E2EBFA;\n",
              "      box-shadow: 0px 1px 2px rgba(60, 64, 67, 0.3), 0px 1px 3px 1px rgba(60, 64, 67, 0.15);\n",
              "      fill: #174EA6;\n",
              "    }\n",
              "\n",
              "    [theme=dark] .colab-df-convert {\n",
              "      background-color: #3B4455;\n",
              "      fill: #D2E3FC;\n",
              "    }\n",
              "\n",
              "    [theme=dark] .colab-df-convert:hover {\n",
              "      background-color: #434B5C;\n",
              "      box-shadow: 0px 1px 3px 1px rgba(0, 0, 0, 0.15);\n",
              "      filter: drop-shadow(0px 1px 2px rgba(0, 0, 0, 0.3));\n",
              "      fill: #FFFFFF;\n",
              "    }\n",
              "  </style>\n",
              "\n",
              "      <script>\n",
              "        const buttonEl =\n",
              "          document.querySelector('#df-1df8ae4b-586e-48d8-83aa-f8bfd608953d button.colab-df-convert');\n",
              "        buttonEl.style.display =\n",
              "          google.colab.kernel.accessAllowed ? 'block' : 'none';\n",
              "\n",
              "        async function convertToInteractive(key) {\n",
              "          const element = document.querySelector('#df-1df8ae4b-586e-48d8-83aa-f8bfd608953d');\n",
              "          const dataTable =\n",
              "            await google.colab.kernel.invokeFunction('convertToInteractive',\n",
              "                                                     [key], {});\n",
              "          if (!dataTable) return;\n",
              "\n",
              "          const docLinkHtml = 'Like what you see? Visit the ' +\n",
              "            '<a target=\"_blank\" href=https://colab.research.google.com/notebooks/data_table.ipynb>data table notebook</a>'\n",
              "            + ' to learn more about interactive tables.';\n",
              "          element.innerHTML = '';\n",
              "          dataTable['output_type'] = 'display_data';\n",
              "          await google.colab.output.renderOutput(dataTable, element);\n",
              "          const docLink = document.createElement('div');\n",
              "          docLink.innerHTML = docLinkHtml;\n",
              "          element.appendChild(docLink);\n",
              "        }\n",
              "      </script>\n",
              "    </div>\n",
              "  </div>\n"
            ]
          },
          "metadata": {},
          "execution_count": 33
        }
      ],
      "source": [
        "#  let’s read the data into a DataFrame\n",
        "\n",
        "#Read the data\n",
        "#df=pd.read_csv('../input/parkinsons-disease-data-set/parkinsons.data')\n",
        "print(df.shape,'\\n')\n",
        "df.head()"
      ]
    },
    {
      "cell_type": "code",
      "source": [
        "print(df.columns)"
      ],
      "metadata": {
        "colab": {
          "base_uri": "https://localhost:8080/"
        },
        "id": "e1mi4FEFlOVa",
        "outputId": "c9c9df40-6af3-46aa-dcb1-8d9f1a6175d9"
      },
      "id": "e1mi4FEFlOVa",
      "execution_count": null,
      "outputs": [
        {
          "output_type": "stream",
          "name": "stdout",
          "text": [
            "Index(['MDVP:Fo(Hz)', 'MDVP:Fhi(Hz)', 'MDVP:Flo(Hz)', 'MDVP:Jitter(%)',\n",
            "       'MDVP:Jitter(Abs)', 'MDVP:RAP', 'MDVP:PPQ', 'Jitter:DDP',\n",
            "       'MDVP:Shimmer', 'MDVP:Shimmer(dB)', 'Shimmer:APQ3', 'Shimmer:APQ5',\n",
            "       'MDVP:APQ', 'Shimmer:DDA', 'NHR', 'HNR', 'status', 'RPDE', 'DFA',\n",
            "       'spread1', 'spread2', 'D2', 'PPE'],\n",
            "      dtype='object')\n"
          ]
        }
      ]
    },
    {
      "cell_type": "code",
      "execution_count": null,
      "id": "2d954c43",
      "metadata": {
        "execution": {
          "iopub.execute_input": "2023-03-12T16:30:51.101533Z",
          "iopub.status.busy": "2023-03-12T16:30:51.101056Z",
          "iopub.status.idle": "2023-03-12T16:30:51.109388Z",
          "shell.execute_reply": "2023-03-12T16:30:51.108284Z"
        },
        "papermill": {
          "duration": 0.084536,
          "end_time": "2023-03-12T16:30:51.112126",
          "exception": false,
          "start_time": "2023-03-12T16:30:51.027590",
          "status": "completed"
        },
        "tags": [],
        "colab": {
          "base_uri": "https://localhost:8080/"
        },
        "id": "2d954c43",
        "outputId": "58d509c5-9308-4971-cae4-c0797771dfd4"
      },
      "outputs": [
        {
          "output_type": "stream",
          "name": "stdout",
          "text": [
            "Original shape of data:  (195, 23)\n",
            "Featues shape: (195, 22)\n",
            "Target shape:  (195,)\n"
          ]
        }
      ],
      "source": [
        "print(\"Original shape of data: \", df.shape)\n",
        "X = df.drop(['status'], axis=1)\n",
        "print(\"Featues shape:\", X.shape)\n",
        "y = df.status\n",
        "print(\"Target shape: \", y.shape)"
      ]
    },
    {
      "cell_type": "code",
      "execution_count": null,
      "id": "ed462ec2",
      "metadata": {
        "execution": {
          "iopub.execute_input": "2023-03-12T16:30:51.260711Z",
          "iopub.status.busy": "2023-03-12T16:30:51.260259Z",
          "iopub.status.idle": "2023-03-12T16:30:51.270771Z",
          "shell.execute_reply": "2023-03-12T16:30:51.269340Z"
        },
        "papermill": {
          "duration": 0.088468,
          "end_time": "2023-03-12T16:30:51.273125",
          "exception": false,
          "start_time": "2023-03-12T16:30:51.184657",
          "status": "completed"
        },
        "tags": [],
        "id": "ed462ec2"
      },
      "outputs": [],
      "source": [
        "scaler = MinMaxScaler((-1, 1))\n",
        "\n",
        "# fits the data normally\n",
        "X = scaler.fit_transform(X)"
      ]
    },
    {
      "cell_type": "code",
      "execution_count": null,
      "id": "d504305a",
      "metadata": {
        "execution": {
          "iopub.execute_input": "2023-03-12T16:30:51.425034Z",
          "iopub.status.busy": "2023-03-12T16:30:51.424590Z",
          "iopub.status.idle": "2023-03-12T16:30:51.431893Z",
          "shell.execute_reply": "2023-03-12T16:30:51.430717Z"
        },
        "papermill": {
          "duration": 0.08757,
          "end_time": "2023-03-12T16:30:51.434438",
          "exception": false,
          "start_time": "2023-03-12T16:30:51.346868",
          "status": "completed"
        },
        "tags": [],
        "id": "d504305a"
      },
      "outputs": [],
      "source": [
        "from sklearn.model_selection import train_test_split\n",
        "x_train, x_test, y_train, y_test=train_test_split(X, y, test_size=0.2)"
      ]
    },
    {
      "cell_type": "code",
      "execution_count": null,
      "id": "4e9d1e82",
      "metadata": {
        "execution": {
          "iopub.execute_input": "2023-03-12T16:30:51.662821Z",
          "iopub.status.busy": "2023-03-12T16:30:51.662377Z",
          "iopub.status.idle": "2023-03-12T16:30:51.682952Z",
          "shell.execute_reply": "2023-03-12T16:30:51.682090Z"
        },
        "papermill": {
          "duration": 0.177419,
          "end_time": "2023-03-12T16:30:51.685247",
          "exception": false,
          "start_time": "2023-03-12T16:30:51.507828",
          "status": "completed"
        },
        "tags": [],
        "colab": {
          "base_uri": "https://localhost:8080/",
          "height": 74
        },
        "id": "4e9d1e82",
        "outputId": "c403b4ce-1a98-4f02-ddae-bc681dd18c01"
      },
      "outputs": [
        {
          "output_type": "execute_result",
          "data": {
            "text/plain": [
              "LogisticRegression()"
            ],
            "text/html": [
              "<style>#sk-container-id-1 {color: black;background-color: white;}#sk-container-id-1 pre{padding: 0;}#sk-container-id-1 div.sk-toggleable {background-color: white;}#sk-container-id-1 label.sk-toggleable__label {cursor: pointer;display: block;width: 100%;margin-bottom: 0;padding: 0.3em;box-sizing: border-box;text-align: center;}#sk-container-id-1 label.sk-toggleable__label-arrow:before {content: \"▸\";float: left;margin-right: 0.25em;color: #696969;}#sk-container-id-1 label.sk-toggleable__label-arrow:hover:before {color: black;}#sk-container-id-1 div.sk-estimator:hover label.sk-toggleable__label-arrow:before {color: black;}#sk-container-id-1 div.sk-toggleable__content {max-height: 0;max-width: 0;overflow: hidden;text-align: left;background-color: #f0f8ff;}#sk-container-id-1 div.sk-toggleable__content pre {margin: 0.2em;color: black;border-radius: 0.25em;background-color: #f0f8ff;}#sk-container-id-1 input.sk-toggleable__control:checked~div.sk-toggleable__content {max-height: 200px;max-width: 100%;overflow: auto;}#sk-container-id-1 input.sk-toggleable__control:checked~label.sk-toggleable__label-arrow:before {content: \"▾\";}#sk-container-id-1 div.sk-estimator input.sk-toggleable__control:checked~label.sk-toggleable__label {background-color: #d4ebff;}#sk-container-id-1 div.sk-label input.sk-toggleable__control:checked~label.sk-toggleable__label {background-color: #d4ebff;}#sk-container-id-1 input.sk-hidden--visually {border: 0;clip: rect(1px 1px 1px 1px);clip: rect(1px, 1px, 1px, 1px);height: 1px;margin: -1px;overflow: hidden;padding: 0;position: absolute;width: 1px;}#sk-container-id-1 div.sk-estimator {font-family: monospace;background-color: #f0f8ff;border: 1px dotted black;border-radius: 0.25em;box-sizing: border-box;margin-bottom: 0.5em;}#sk-container-id-1 div.sk-estimator:hover {background-color: #d4ebff;}#sk-container-id-1 div.sk-parallel-item::after {content: \"\";width: 100%;border-bottom: 1px solid gray;flex-grow: 1;}#sk-container-id-1 div.sk-label:hover label.sk-toggleable__label {background-color: #d4ebff;}#sk-container-id-1 div.sk-serial::before {content: \"\";position: absolute;border-left: 1px solid gray;box-sizing: border-box;top: 0;bottom: 0;left: 50%;z-index: 0;}#sk-container-id-1 div.sk-serial {display: flex;flex-direction: column;align-items: center;background-color: white;padding-right: 0.2em;padding-left: 0.2em;position: relative;}#sk-container-id-1 div.sk-item {position: relative;z-index: 1;}#sk-container-id-1 div.sk-parallel {display: flex;align-items: stretch;justify-content: center;background-color: white;position: relative;}#sk-container-id-1 div.sk-item::before, #sk-container-id-1 div.sk-parallel-item::before {content: \"\";position: absolute;border-left: 1px solid gray;box-sizing: border-box;top: 0;bottom: 0;left: 50%;z-index: -1;}#sk-container-id-1 div.sk-parallel-item {display: flex;flex-direction: column;z-index: 1;position: relative;background-color: white;}#sk-container-id-1 div.sk-parallel-item:first-child::after {align-self: flex-end;width: 50%;}#sk-container-id-1 div.sk-parallel-item:last-child::after {align-self: flex-start;width: 50%;}#sk-container-id-1 div.sk-parallel-item:only-child::after {width: 0;}#sk-container-id-1 div.sk-dashed-wrapped {border: 1px dashed gray;margin: 0 0.4em 0.5em 0.4em;box-sizing: border-box;padding-bottom: 0.4em;background-color: white;}#sk-container-id-1 div.sk-label label {font-family: monospace;font-weight: bold;display: inline-block;line-height: 1.2em;}#sk-container-id-1 div.sk-label-container {text-align: center;}#sk-container-id-1 div.sk-container {/* jupyter's `normalize.less` sets `[hidden] { display: none; }` but bootstrap.min.css set `[hidden] { display: none !important; }` so we also need the `!important` here to be able to override the default hidden behavior on the sphinx rendered scikit-learn.org. See: https://github.com/scikit-learn/scikit-learn/issues/21755 */display: inline-block !important;position: relative;}#sk-container-id-1 div.sk-text-repr-fallback {display: none;}</style><div id=\"sk-container-id-1\" class=\"sk-top-container\"><div class=\"sk-text-repr-fallback\"><pre>LogisticRegression()</pre><b>In a Jupyter environment, please rerun this cell to show the HTML representation or trust the notebook. <br />On GitHub, the HTML representation is unable to render, please try loading this page with nbviewer.org.</b></div><div class=\"sk-container\" hidden><div class=\"sk-item\"><div class=\"sk-estimator sk-toggleable\"><input class=\"sk-toggleable__control sk-hidden--visually\" id=\"sk-estimator-id-1\" type=\"checkbox\" checked><label for=\"sk-estimator-id-1\" class=\"sk-toggleable__label sk-toggleable__label-arrow\">LogisticRegression</label><div class=\"sk-toggleable__content\"><pre>LogisticRegression()</pre></div></div></div></div></div>"
            ]
          },
          "metadata": {},
          "execution_count": 42
        }
      ],
      "source": [
        "clf = LogisticRegression()\n",
        "\n",
        "#Train Model\n",
        "clf.fit(x_train, y_train)"
      ]
    },
    {
      "cell_type": "code",
      "execution_count": null,
      "id": "db63882f",
      "metadata": {
        "execution": {
          "iopub.execute_input": "2023-03-12T16:30:51.832460Z",
          "iopub.status.busy": "2023-03-12T16:30:51.831982Z",
          "iopub.status.idle": "2023-03-12T16:30:51.838020Z",
          "shell.execute_reply": "2023-03-12T16:30:51.836802Z"
        },
        "papermill": {
          "duration": 0.082639,
          "end_time": "2023-03-12T16:30:51.840582",
          "exception": false,
          "start_time": "2023-03-12T16:30:51.757943",
          "status": "completed"
        },
        "tags": [],
        "id": "db63882f"
      },
      "outputs": [],
      "source": [
        "# Prediction on Test and Train Set\n",
        "pred_logistic_test = clf.predict(x_test)\n",
        "pred_logistic_train = clf.predict(x_train)"
      ]
    },
    {
      "cell_type": "code",
      "execution_count": null,
      "id": "f2188b68",
      "metadata": {
        "execution": {
          "iopub.execute_input": "2023-03-12T16:30:51.988883Z",
          "iopub.status.busy": "2023-03-12T16:30:51.988377Z",
          "iopub.status.idle": "2023-03-12T16:30:51.996883Z",
          "shell.execute_reply": "2023-03-12T16:30:51.995096Z"
        },
        "papermill": {
          "duration": 0.086476,
          "end_time": "2023-03-12T16:30:52.000829",
          "exception": false,
          "start_time": "2023-03-12T16:30:51.914353",
          "status": "completed"
        },
        "tags": [],
        "colab": {
          "base_uri": "https://localhost:8080/"
        },
        "id": "f2188b68",
        "outputId": "7ed5151e-ea07-43d8-dce4-89fa0d6eeeba"
      },
      "outputs": [
        {
          "output_type": "stream",
          "name": "stdout",
          "text": [
            "Training Accuracy:  0.8589743589743589\n",
            "Test Accuracy:  0.8974358974358975\n"
          ]
        }
      ],
      "source": [
        "print(\"Training Accuracy: \", accuracy_score(y_train, pred_logistic_train))\n",
        "print(\"Test Accuracy: \", accuracy_score(y_test, pred_logistic_test))"
      ]
    },
    {
      "cell_type": "code",
      "execution_count": null,
      "id": "0b975a40",
      "metadata": {
        "execution": {
          "iopub.execute_input": "2023-03-12T16:30:52.150712Z",
          "iopub.status.busy": "2023-03-12T16:30:52.150231Z",
          "iopub.status.idle": "2023-03-12T16:30:52.448173Z",
          "shell.execute_reply": "2023-03-12T16:30:52.446865Z"
        },
        "papermill": {
          "duration": 0.37537,
          "end_time": "2023-03-12T16:30:52.450956",
          "exception": false,
          "start_time": "2023-03-12T16:30:52.075586",
          "status": "completed"
        },
        "tags": [],
        "colab": {
          "base_uri": "https://localhost:8080/",
          "height": 656
        },
        "id": "0b975a40",
        "outputId": "cb436dd1-9892-47f5-a18b-f16b25139cd3"
      },
      "outputs": [
        {
          "output_type": "stream",
          "name": "stdout",
          "text": [
            "Confusion Matrix: \n",
            "\n",
            "Classification Report:\n",
            "              precision    recall  f1-score   support\n",
            "\n",
            "           0       1.00      0.43      0.60         7\n",
            "           1       0.89      1.00      0.94        32\n",
            "\n",
            "    accuracy                           0.90        39\n",
            "   macro avg       0.94      0.71      0.77        39\n",
            "weighted avg       0.91      0.90      0.88        39\n",
            "\n"
          ]
        },
        {
          "output_type": "execute_result",
          "data": {
            "text/plain": [
              "<Axes: >"
            ]
          },
          "metadata": {},
          "execution_count": 45
        },
        {
          "output_type": "display_data",
          "data": {
            "text/plain": [
              "<Figure size 640x480 with 2 Axes>"
            ],
            "image/png": "[encoded data removed]"
          },
          "metadata": {}
        }
      ],
      "source": [
        "print(\"Confusion Matrix: \")\n",
        "cf_matrix=confusion_matrix(y_test, pred_logistic_test)\n",
        "\n",
        "print(\"\\nClassification Report:\")\n",
        "print(classification_report(y_test, pred_logistic_test))\n",
        "\n",
        "\n",
        "import seaborn as sns\n",
        "sns.heatmap(cf_matrix, annot=True)"
      ]
    },
    {
      "cell_type": "code",
      "execution_count": null,
      "id": "cd6ff5a1",
      "metadata": {
        "execution": {
          "iopub.execute_input": "2023-03-12T16:30:52.625303Z",
          "iopub.status.busy": "2023-03-12T16:30:52.624849Z",
          "iopub.status.idle": "2023-03-12T16:30:52.636598Z",
          "shell.execute_reply": "2023-03-12T16:30:52.635422Z"
        },
        "papermill": {
          "duration": 0.09015,
          "end_time": "2023-03-12T16:30:52.639216",
          "exception": false,
          "start_time": "2023-03-12T16:30:52.549066",
          "status": "completed"
        },
        "tags": [],
        "colab": {
          "base_uri": "https://localhost:8080/",
          "height": 74
        },
        "id": "cd6ff5a1",
        "outputId": "f868eb47-f277-4dce-bfce-8354fcca10bc"
      },
      "outputs": [
        {
          "output_type": "execute_result",
          "data": {
            "text/plain": [
              "DecisionTreeClassifier()"
            ],
            "text/html": [
              "<style>#sk-container-id-2 {color: black;background-color: white;}#sk-container-id-2 pre{padding: 0;}#sk-container-id-2 div.sk-toggleable {background-color: white;}#sk-container-id-2 label.sk-toggleable__label {cursor: pointer;display: block;width: 100%;margin-bottom: 0;padding: 0.3em;box-sizing: border-box;text-align: center;}#sk-container-id-2 label.sk-toggleable__label-arrow:before {content: \"▸\";float: left;margin-right: 0.25em;color: #696969;}#sk-container-id-2 label.sk-toggleable__label-arrow:hover:before {color: black;}#sk-container-id-2 div.sk-estimator:hover label.sk-toggleable__label-arrow:before {color: black;}#sk-container-id-2 div.sk-toggleable__content {max-height: 0;max-width: 0;overflow: hidden;text-align: left;background-color: #f0f8ff;}#sk-container-id-2 div.sk-toggleable__content pre {margin: 0.2em;color: black;border-radius: 0.25em;background-color: #f0f8ff;}#sk-container-id-2 input.sk-toggleable__control:checked~div.sk-toggleable__content {max-height: 200px;max-width: 100%;overflow: auto;}#sk-container-id-2 input.sk-toggleable__control:checked~label.sk-toggleable__label-arrow:before {content: \"▾\";}#sk-container-id-2 div.sk-estimator input.sk-toggleable__control:checked~label.sk-toggleable__label {background-color: #d4ebff;}#sk-container-id-2 div.sk-label input.sk-toggleable__control:checked~label.sk-toggleable__label {background-color: #d4ebff;}#sk-container-id-2 input.sk-hidden--visually {border: 0;clip: rect(1px 1px 1px 1px);clip: rect(1px, 1px, 1px, 1px);height: 1px;margin: -1px;overflow: hidden;padding: 0;position: absolute;width: 1px;}#sk-container-id-2 div.sk-estimator {font-family: monospace;background-color: #f0f8ff;border: 1px dotted black;border-radius: 0.25em;box-sizing: border-box;margin-bottom: 0.5em;}#sk-container-id-2 div.sk-estimator:hover {background-color: #d4ebff;}#sk-container-id-2 div.sk-parallel-item::after {content: \"\";width: 100%;border-bottom: 1px solid gray;flex-grow: 1;}#sk-container-id-2 div.sk-label:hover label.sk-toggleable__label {background-color: #d4ebff;}#sk-container-id-2 div.sk-serial::before {content: \"\";position: absolute;border-left: 1px solid gray;box-sizing: border-box;top: 0;bottom: 0;left: 50%;z-index: 0;}#sk-container-id-2 div.sk-serial {display: flex;flex-direction: column;align-items: center;background-color: white;padding-right: 0.2em;padding-left: 0.2em;position: relative;}#sk-container-id-2 div.sk-item {position: relative;z-index: 1;}#sk-container-id-2 div.sk-parallel {display: flex;align-items: stretch;justify-content: center;background-color: white;position: relative;}#sk-container-id-2 div.sk-item::before, #sk-container-id-2 div.sk-parallel-item::before {content: \"\";position: absolute;border-left: 1px solid gray;box-sizing: border-box;top: 0;bottom: 0;left: 50%;z-index: -1;}#sk-container-id-2 div.sk-parallel-item {display: flex;flex-direction: column;z-index: 1;position: relative;background-color: white;}#sk-container-id-2 div.sk-parallel-item:first-child::after {align-self: flex-end;width: 50%;}#sk-container-id-2 div.sk-parallel-item:last-child::after {align-self: flex-start;width: 50%;}#sk-container-id-2 div.sk-parallel-item:only-child::after {width: 0;}#sk-container-id-2 div.sk-dashed-wrapped {border: 1px dashed gray;margin: 0 0.4em 0.5em 0.4em;box-sizing: border-box;padding-bottom: 0.4em;background-color: white;}#sk-container-id-2 div.sk-label label {font-family: monospace;font-weight: bold;display: inline-block;line-height: 1.2em;}#sk-container-id-2 div.sk-label-container {text-align: center;}#sk-container-id-2 div.sk-container {/* jupyter's `normalize.less` sets `[hidden] { display: none; }` but bootstrap.min.css set `[hidden] { display: none !important; }` so we also need the `!important` here to be able to override the default hidden behavior on the sphinx rendered scikit-learn.org. See: https://github.com/scikit-learn/scikit-learn/issues/21755 */display: inline-block !important;position: relative;}#sk-container-id-2 div.sk-text-repr-fallback {display: none;}</style><div id=\"sk-container-id-2\" class=\"sk-top-container\"><div class=\"sk-text-repr-fallback\"><pre>DecisionTreeClassifier()</pre><b>In a Jupyter environment, please rerun this cell to show the HTML representation or trust the notebook. <br />On GitHub, the HTML representation is unable to render, please try loading this page with nbviewer.org.</b></div><div class=\"sk-container\" hidden><div class=\"sk-item\"><div class=\"sk-estimator sk-toggleable\"><input class=\"sk-toggleable__control sk-hidden--visually\" id=\"sk-estimator-id-2\" type=\"checkbox\" checked><label for=\"sk-estimator-id-2\" class=\"sk-toggleable__label sk-toggleable__label-arrow\">DecisionTreeClassifier</label><div class=\"sk-toggleable__content\"><pre>DecisionTreeClassifier()</pre></div></div></div></div></div>"
            ]
          },
          "metadata": {},
          "execution_count": 46
        }
      ],
      "source": [
        "dt = DecisionTreeClassifier()\n",
        "\n",
        "# Train model\n",
        "dt.fit(x_train, y_train)"
      ]
    },
    {
      "cell_type": "code",
      "execution_count": null,
      "id": "58c3ebf7",
      "metadata": {
        "execution": {
          "iopub.execute_input": "2023-03-12T16:30:52.789625Z",
          "iopub.status.busy": "2023-03-12T16:30:52.789140Z",
          "iopub.status.idle": "2023-03-12T16:30:52.795941Z",
          "shell.execute_reply": "2023-03-12T16:30:52.794563Z"
        },
        "papermill": {
          "duration": 0.085291,
          "end_time": "2023-03-12T16:30:52.798530",
          "exception": false,
          "start_time": "2023-03-12T16:30:52.713239",
          "status": "completed"
        },
        "tags": [],
        "id": "58c3ebf7"
      },
      "outputs": [],
      "source": [
        "pred_dt_test = dt.predict(x_test)\n",
        "pred_dt_train = dt.predict(x_train)"
      ]
    },
    {
      "cell_type": "code",
      "execution_count": null,
      "id": "706386d6",
      "metadata": {
        "execution": {
          "iopub.execute_input": "2023-03-12T16:30:52.951473Z",
          "iopub.status.busy": "2023-03-12T16:30:52.950993Z",
          "iopub.status.idle": "2023-03-12T16:30:52.960141Z",
          "shell.execute_reply": "2023-03-12T16:30:52.958562Z"
        },
        "papermill": {
          "duration": 0.08878,
          "end_time": "2023-03-12T16:30:52.962803",
          "exception": false,
          "start_time": "2023-03-12T16:30:52.874023",
          "status": "completed"
        },
        "tags": [],
        "colab": {
          "base_uri": "https://localhost:8080/"
        },
        "id": "706386d6",
        "outputId": "a1686fec-4cc5-48ee-c4ac-47665b66c134"
      },
      "outputs": [
        {
          "output_type": "stream",
          "name": "stdout",
          "text": [
            "Training Accuracy:  1.0\n",
            "Test Accuracy:  0.9230769230769231\n"
          ]
        }
      ],
      "source": [
        "print(\"Training Accuracy: \", accuracy_score(y_train, pred_dt_train))\n",
        "print(\"Test Accuracy: \", accuracy_score(y_test, pred_dt_test))"
      ]
    },
    {
      "cell_type": "code",
      "execution_count": null,
      "id": "20584085",
      "metadata": {
        "execution": {
          "iopub.execute_input": "2023-03-12T16:30:53.117549Z",
          "iopub.status.busy": "2023-03-12T16:30:53.117074Z",
          "iopub.status.idle": "2023-03-12T16:30:53.401922Z",
          "shell.execute_reply": "2023-03-12T16:30:53.401007Z"
        },
        "papermill": {
          "duration": 0.367461,
          "end_time": "2023-03-12T16:30:53.404354",
          "exception": false,
          "start_time": "2023-03-12T16:30:53.036893",
          "status": "completed"
        },
        "tags": [],
        "colab": {
          "base_uri": "https://localhost:8080/",
          "height": 656
        },
        "id": "20584085",
        "outputId": "2956e719-67a8-4c3e-b746-65edf30ee958"
      },
      "outputs": [
        {
          "output_type": "stream",
          "name": "stdout",
          "text": [
            "Confusion Matrix: \n",
            "\n",
            "Classification Report:\n",
            "              precision    recall  f1-score   support\n",
            "\n",
            "           0       0.83      0.71      0.77         7\n",
            "           1       0.94      0.97      0.95        32\n",
            "\n",
            "    accuracy                           0.92        39\n",
            "   macro avg       0.89      0.84      0.86        39\n",
            "weighted avg       0.92      0.92      0.92        39\n",
            "\n"
          ]
        },
        {
          "output_type": "execute_result",
          "data": {
            "text/plain": [
              "<Axes: >"
            ]
          },
          "metadata": {},
          "execution_count": 49
        },
        {
          "output_type": "display_data",
          "data": {
            "text/plain": [
              "<Figure size 640x480 with 2 Axes>"
            ],
            "image/png": "[encoded data removed]"
          },
          "metadata": {}
        }
      ],
      "source": [
        "print(\"Confusion Matrix: \")\n",
        "cf_matrix=confusion_matrix(y_test, pred_dt_test)\n",
        "\n",
        "print(\"\\nClassification Report:\")\n",
        "print(classification_report(y_test, pred_dt_test))\n",
        "\n",
        "\n",
        "import seaborn as sns\n",
        "sns.heatmap(cf_matrix, annot=True)"
      ]
    },
    {
      "cell_type": "code",
      "execution_count": null,
      "id": "b7a215be",
      "metadata": {
        "execution": {
          "iopub.execute_input": "2023-03-12T16:30:53.552828Z",
          "iopub.status.busy": "2023-03-12T16:30:53.552028Z",
          "iopub.status.idle": "2023-03-12T16:30:53.565011Z",
          "shell.execute_reply": "2023-03-12T16:30:53.562235Z"
        },
        "papermill": {
          "duration": 0.091269,
          "end_time": "2023-03-12T16:30:53.569052",
          "exception": false,
          "start_time": "2023-03-12T16:30:53.477783",
          "status": "completed"
        },
        "tags": [],
        "colab": {
          "base_uri": "https://localhost:8080/"
        },
        "id": "b7a215be",
        "outputId": "be09972e-d031-4df8-fb48-16f0dba606e3"
      },
      "outputs": [
        {
          "output_type": "stream",
          "name": "stdout",
          "text": [
            "Confusion Matrix: \n",
            "[[ 5  2]\n",
            " [ 1 31]]\n",
            "\n",
            "Classification Report:\n",
            "              precision    recall  f1-score   support\n",
            "\n",
            "           0       0.83      0.71      0.77         7\n",
            "           1       0.94      0.97      0.95        32\n",
            "\n",
            "    accuracy                           0.92        39\n",
            "   macro avg       0.89      0.84      0.86        39\n",
            "weighted avg       0.92      0.92      0.92        39\n",
            "\n"
          ]
        }
      ],
      "source": [
        "print(\"Confusion Matrix: \")\n",
        "print(confusion_matrix(y_test, pred_dt_test))\n",
        "\n",
        "print(\"\\nClassification Report:\")\n",
        "print(classification_report(y_test, pred_dt_test))"
      ]
    },
    {
      "cell_type": "code",
      "execution_count": null,
      "id": "84779de3",
      "metadata": {
        "execution": {
          "iopub.execute_input": "2023-03-12T16:30:53.718864Z",
          "iopub.status.busy": "2023-03-12T16:30:53.718370Z",
          "iopub.status.idle": "2023-03-12T16:30:53.895745Z",
          "shell.execute_reply": "2023-03-12T16:30:53.894282Z"
        },
        "papermill": {
          "duration": 0.254825,
          "end_time": "2023-03-12T16:30:53.898117",
          "exception": false,
          "start_time": "2023-03-12T16:30:53.643292",
          "status": "completed"
        },
        "tags": [],
        "colab": {
          "base_uri": "https://localhost:8080/",
          "height": 74
        },
        "id": "84779de3",
        "outputId": "4e8c41f6-6b6c-46bb-f35e-2f42d3b9a247"
      },
      "outputs": [
        {
          "output_type": "execute_result",
          "data": {
            "text/plain": [
              "RandomForestClassifier()"
            ],
            "text/html": [
              "<style>#sk-container-id-3 {color: black;background-color: white;}#sk-container-id-3 pre{padding: 0;}#sk-container-id-3 div.sk-toggleable {background-color: white;}#sk-container-id-3 label.sk-toggleable__label {cursor: pointer;display: block;width: 100%;margin-bottom: 0;padding: 0.3em;box-sizing: border-box;text-align: center;}#sk-container-id-3 label.sk-toggleable__label-arrow:before {content: \"▸\";float: left;margin-right: 0.25em;color: #696969;}#sk-container-id-3 label.sk-toggleable__label-arrow:hover:before {color: black;}#sk-container-id-3 div.sk-estimator:hover label.sk-toggleable__label-arrow:before {color: black;}#sk-container-id-3 div.sk-toggleable__content {max-height: 0;max-width: 0;overflow: hidden;text-align: left;background-color: #f0f8ff;}#sk-container-id-3 div.sk-toggleable__content pre {margin: 0.2em;color: black;border-radius: 0.25em;background-color: #f0f8ff;}#sk-container-id-3 input.sk-toggleable__control:checked~div.sk-toggleable__content {max-height: 200px;max-width: 100%;overflow: auto;}#sk-container-id-3 input.sk-toggleable__control:checked~label.sk-toggleable__label-arrow:before {content: \"▾\";}#sk-container-id-3 div.sk-estimator input.sk-toggleable__control:checked~label.sk-toggleable__label {background-color: #d4ebff;}#sk-container-id-3 div.sk-label input.sk-toggleable__control:checked~label.sk-toggleable__label {background-color: #d4ebff;}#sk-container-id-3 input.sk-hidden--visually {border: 0;clip: rect(1px 1px 1px 1px);clip: rect(1px, 1px, 1px, 1px);height: 1px;margin: -1px;overflow: hidden;padding: 0;position: absolute;width: 1px;}#sk-container-id-3 div.sk-estimator {font-family: monospace;background-color: #f0f8ff;border: 1px dotted black;border-radius: 0.25em;box-sizing: border-box;margin-bottom: 0.5em;}#sk-container-id-3 div.sk-estimator:hover {background-color: #d4ebff;}#sk-container-id-3 div.sk-parallel-item::after {content: \"\";width: 100%;border-bottom: 1px solid gray;flex-grow: 1;}#sk-container-id-3 div.sk-label:hover label.sk-toggleable__label {background-color: #d4ebff;}#sk-container-id-3 div.sk-serial::before {content: \"\";position: absolute;border-left: 1px solid gray;box-sizing: border-box;top: 0;bottom: 0;left: 50%;z-index: 0;}#sk-container-id-3 div.sk-serial {display: flex;flex-direction: column;align-items: center;background-color: white;padding-right: 0.2em;padding-left: 0.2em;position: relative;}#sk-container-id-3 div.sk-item {position: relative;z-index: 1;}#sk-container-id-3 div.sk-parallel {display: flex;align-items: stretch;justify-content: center;background-color: white;position: relative;}#sk-container-id-3 div.sk-item::before, #sk-container-id-3 div.sk-parallel-item::before {content: \"\";position: absolute;border-left: 1px solid gray;box-sizing: border-box;top: 0;bottom: 0;left: 50%;z-index: -1;}#sk-container-id-3 div.sk-parallel-item {display: flex;flex-direction: column;z-index: 1;position: relative;background-color: white;}#sk-container-id-3 div.sk-parallel-item:first-child::after {align-self: flex-end;width: 50%;}#sk-container-id-3 div.sk-parallel-item:last-child::after {align-self: flex-start;width: 50%;}#sk-container-id-3 div.sk-parallel-item:only-child::after {width: 0;}#sk-container-id-3 div.sk-dashed-wrapped {border: 1px dashed gray;margin: 0 0.4em 0.5em 0.4em;box-sizing: border-box;padding-bottom: 0.4em;background-color: white;}#sk-container-id-3 div.sk-label label {font-family: monospace;font-weight: bold;display: inline-block;line-height: 1.2em;}#sk-container-id-3 div.sk-label-container {text-align: center;}#sk-container-id-3 div.sk-container {/* jupyter's `normalize.less` sets `[hidden] { display: none; }` but bootstrap.min.css set `[hidden] { display: none !important; }` so we also need the `!important` here to be able to override the default hidden behavior on the sphinx rendered scikit-learn.org. See: https://github.com/scikit-learn/scikit-learn/issues/21755 */display: inline-block !important;position: relative;}#sk-container-id-3 div.sk-text-repr-fallback {display: none;}</style><div id=\"sk-container-id-3\" class=\"sk-top-container\"><div class=\"sk-text-repr-fallback\"><pre>RandomForestClassifier()</pre><b>In a Jupyter environment, please rerun this cell to show the HTML representation or trust the notebook. <br />On GitHub, the HTML representation is unable to render, please try loading this page with nbviewer.org.</b></div><div class=\"sk-container\" hidden><div class=\"sk-item\"><div class=\"sk-estimator sk-toggleable\"><input class=\"sk-toggleable__control sk-hidden--visually\" id=\"sk-estimator-id-3\" type=\"checkbox\" checked><label for=\"sk-estimator-id-3\" class=\"sk-toggleable__label sk-toggleable__label-arrow\">RandomForestClassifier</label><div class=\"sk-toggleable__content\"><pre>RandomForestClassifier()</pre></div></div></div></div></div>"
            ]
          },
          "metadata": {},
          "execution_count": 51
        }
      ],
      "source": [
        "rf = RandomForestClassifier()\n",
        "rf.fit(x_train, y_train)"
      ]
    },
    {
      "cell_type": "code",
      "execution_count": null,
      "id": "79d11000",
      "metadata": {
        "execution": {
          "iopub.execute_input": "2023-03-12T16:30:54.063303Z",
          "iopub.status.busy": "2023-03-12T16:30:54.061964Z",
          "iopub.status.idle": "2023-03-12T16:30:54.094055Z",
          "shell.execute_reply": "2023-03-12T16:30:54.093109Z"
        },
        "papermill": {
          "duration": 0.123811,
          "end_time": "2023-03-12T16:30:54.096641",
          "exception": false,
          "start_time": "2023-03-12T16:30:53.972830",
          "status": "completed"
        },
        "tags": [],
        "id": "79d11000"
      },
      "outputs": [],
      "source": [
        "train_pred_rf = rf.predict(x_train)\n",
        "pred_rf = rf.predict(x_test)"
      ]
    },
    {
      "cell_type": "code",
      "execution_count": null,
      "id": "fe37cbc1",
      "metadata": {
        "execution": {
          "iopub.execute_input": "2023-03-12T16:30:54.263788Z",
          "iopub.status.busy": "2023-03-12T16:30:54.263288Z",
          "iopub.status.idle": "2023-03-12T16:30:54.274800Z",
          "shell.execute_reply": "2023-03-12T16:30:54.273420Z"
        },
        "papermill": {
          "duration": 0.101657,
          "end_time": "2023-03-12T16:30:54.277490",
          "exception": false,
          "start_time": "2023-03-12T16:30:54.175833",
          "status": "completed"
        },
        "tags": [],
        "colab": {
          "base_uri": "https://localhost:8080/"
        },
        "id": "fe37cbc1",
        "outputId": "cc9ed663-8e1f-43a7-fe1a-ba1b1bf0ae3d"
      },
      "outputs": [
        {
          "output_type": "stream",
          "name": "stdout",
          "text": [
            "Training Accuracy:  1.0\n",
            "Test Accuracy:  0.9487179487179487\n"
          ]
        }
      ],
      "source": [
        "print(\"Training Accuracy: \",accuracy_score(y_train, train_pred_rf))\n",
        "print(\"Test Accuracy: \",accuracy_score(y_test, pred_rf))"
      ]
    },
    {
      "cell_type": "code",
      "execution_count": null,
      "id": "1a1f9fcd",
      "metadata": {
        "execution": {
          "iopub.execute_input": "2023-03-12T16:30:54.431872Z",
          "iopub.status.busy": "2023-03-12T16:30:54.431377Z",
          "iopub.status.idle": "2023-03-12T16:30:54.446040Z",
          "shell.execute_reply": "2023-03-12T16:30:54.444330Z"
        },
        "papermill": {
          "duration": 0.094454,
          "end_time": "2023-03-12T16:30:54.448529",
          "exception": false,
          "start_time": "2023-03-12T16:30:54.354075",
          "status": "completed"
        },
        "tags": [],
        "colab": {
          "base_uri": "https://localhost:8080/"
        },
        "id": "1a1f9fcd",
        "outputId": "67b37083-7332-4698-f000-c29fc7ed80db"
      },
      "outputs": [
        {
          "output_type": "stream",
          "name": "stdout",
          "text": [
            "Confusion Matrix: \n",
            "\n",
            "Classification Report:\n",
            "              precision    recall  f1-score   support\n",
            "\n",
            "           0       1.00      0.71      0.83         7\n",
            "           1       0.94      1.00      0.97        32\n",
            "\n",
            "    accuracy                           0.95        39\n",
            "   macro avg       0.97      0.86      0.90        39\n",
            "weighted avg       0.95      0.95      0.95        39\n",
            "\n"
          ]
        }
      ],
      "source": [
        "print(\"Confusion Matrix: \")\n",
        "cf_matrix=confusion_matrix(y_test, pred_rf)\n",
        "\n",
        "print(\"\\nClassification Report:\")\n",
        "print(classification_report(y_test, pred_rf))"
      ]
    },
    {
      "cell_type": "code",
      "execution_count": null,
      "id": "10044ac0",
      "metadata": {
        "execution": {
          "iopub.execute_input": "2023-03-12T16:30:54.601316Z",
          "iopub.status.busy": "2023-03-12T16:30:54.600142Z",
          "iopub.status.idle": "2023-03-12T16:30:54.864591Z",
          "shell.execute_reply": "2023-03-12T16:30:54.863411Z"
        },
        "papermill": {
          "duration": 0.343444,
          "end_time": "2023-03-12T16:30:54.867271",
          "exception": false,
          "start_time": "2023-03-12T16:30:54.523827",
          "status": "completed"
        },
        "tags": [],
        "colab": {
          "base_uri": "https://localhost:8080/",
          "height": 447
        },
        "id": "10044ac0",
        "outputId": "8a5309be-b484-42ff-89fa-883c2105f8ae"
      },
      "outputs": [
        {
          "output_type": "execute_result",
          "data": {
            "text/plain": [
              "<Axes: >"
            ]
          },
          "metadata": {},
          "execution_count": 55
        },
        {
          "output_type": "display_data",
          "data": {
            "text/plain": [
              "<Figure size 640x480 with 2 Axes>"
            ],
            "image/png": "[encoded data removed]"
          },
          "metadata": {}
        }
      ],
      "source": [
        "\n",
        "import seaborn as sns\n",
        "sns.heatmap(cf_matrix, annot=True)"
      ]
    },
    {
      "cell_type": "code",
      "execution_count": null,
      "id": "762daed7",
      "metadata": {
        "papermill": {
          "duration": 0.074356,
          "end_time": "2023-03-12T16:30:55.015288",
          "exception": false,
          "start_time": "2023-03-12T16:30:54.940932",
          "status": "completed"
        },
        "tags": [],
        "id": "762daed7"
      },
      "outputs": [],
      "source": []
    },
    {
      "cell_type": "code",
      "execution_count": null,
      "id": "d80918fb",
      "metadata": {
        "papermill": {
          "duration": 0.0742,
          "end_time": "2023-03-12T16:30:55.163964",
          "exception": false,
          "start_time": "2023-03-12T16:30:55.089764",
          "status": "completed"
        },
        "tags": [],
        "id": "d80918fb"
      },
      "outputs": [],
      "source": []
    }
  ],
  "metadata": {
    "kernelspec": {
      "display_name": "Python 3",
      "language": "python",
      "name": "python3"
    },
    "language_info": {
      "codemirror_mode": {
        "name": "ipython",
        "version": 3
      },
      "file_extension": ".py",
      "mimetype": "text/x-python",
      "name": "python",
      "nbconvert_exporter": "python",
      "pygments_lexer": "ipython3",
      "version": "3.7.12"
    },
    "papermill": {
      "default_parameters": {},
      "duration": 47.745237,
      "end_time": "2023-03-12T16:30:58.242547",
      "environment_variables": {},
      "exception": null,
      "input_path": "__notebook__.ipynb",
      "output_path": "__notebook__.ipynb",
      "parameters": {},
      "start_time": "2023-03-12T16:30:10.497310",
      "version": "2.3.4"
    },
    "colab": {
      "provenance": [],
      "include_colab_link": true
    }
  },
  "nbformat": 4,
  "nbformat_minor": 5
}